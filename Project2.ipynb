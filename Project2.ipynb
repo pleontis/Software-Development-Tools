{
  "cells": [
    {
      "cell_type": "markdown",
      "metadata": {
        "id": "wyNN43emEKeV"
      },
      "source": [
        "# Εργασία 2 - Θέμα: Linux Commands, Bash Scripts & Python Process Control"
      ]
    },
    {
      "cell_type": "markdown",
      "metadata": {
        "id": "WT6ll8MEMU3v"
      },
      "source": [
        "# Θέμα 1: Linux Commands\n",
        "\n",
        "**❗❗❗Τα παρακάτω ερωτήματα στο Θέμα 1 πρέπει να απαντηθούν στα αντίστοιχα code cells χρησιμοποιώντας ΜΟΝΟ Linux Commands (όχι Python, όχι bash scripts). Οι εντολές σας θα πρέπει να εκτελούνται ΣΕ ΜΙΑ ΓΡΑΜΜΗ. Μπορείτε να χρησιμοποιήσετε `;`, `&&`, `|`,`>`,`<`,`>>` για να κάνετε command chaining και ανακατεύθυνση input/output. ΔΕΝ ΕΠΙΤΡΕΠΕΤΑΙ η χρήση εντολών τύπου sed, awk ❗❗❗**."
      ]
    },
    {
      "cell_type": "markdown",
      "metadata": {
        "id": "MdIFuclfDfID"
      },
      "source": [
        "Σας δίνεται ένα καινούριο `tweetsmall.txt` αρχείο το οποίο περιλαμβάνει το κείμενο από ένα tweet ανά γραμμή. Απαντήστε στα παρακάτω ερωτήματα γράφοντας Linux Commands στα αντίστοιχα code cells και περιγράφοντας στα αντίστοιχα text cells τι κάνουν και πως παραμετροποιούνται τα Linux Commands που δώσατε."
      ]
    },
    {
      "cell_type": "markdown",
      "metadata": {
        "id": "neXUjfHOfYnt"
      },
      "source": [
        "**❗❗❗Τα παρακάτω ερωτήματα Θέμα 1 πρέπει να απαντηθούν στα αντίστοιχα code cells χρησιμοποιώντας ΜΟΝΟ Linux Commands (όχι Python, όχι bash scripts). Οι εντολές σας θα πρέπει να εκτελούνται ΣΕ ΜΙΑ ΓΡΑΜΜΗ. Μπορείτε να χρησιμοποιήσετε `;`, `&&`, `|`,`>`,`<`,`>>` για να κάνετε command chaining και ανακατεύθυνση input/output. ΔΕΝ ΕΠΙΤΡΕΠΕΤΑΙ η χρήση εντολών τύπου sed, awk ❗❗❗**."
      ]
    },
    {
      "cell_type": "markdown",
      "metadata": {
        "id": "5w3An4_iBIf3"
      },
      "source": [
        "**Ερώτημα 1.1: Εμφανίστε την τελευταία γραμμή (και μόνο αυτή) από το `tweetsmall.txt`**"
      ]
    },
    {
      "cell_type": "code",
      "execution_count": null,
      "metadata": {
        "id": "_xcaRjNS3bKS"
      },
      "outputs": [],
      "source": [
        "!tail -n 1 tweetsmall.txt"
      ]
    },
    {
      "cell_type": "markdown",
      "metadata": {
        "id": "Y4pmpPz90cIz"
      },
      "source": [
        "Όπως μάθαμε στις διαλέξεςι η εντολή tail με αυτή την σύνταξη επιστρέφει τις Χ τελευταίες γραμμές, Σαν όρισμα δόθηκε το 1 άρα επιστρέφει την τελευταία."
      ]
    },
    {
      "cell_type": "markdown",
      "metadata": {
        "id": "bRTRF0bPBUdw"
      },
      "source": [
        "**Ερώτημα 1.2: Εμφανίστε τη γραμμή 11 (και μόνο αυτή) από το `tweetsmall.txt`** "
      ]
    },
    {
      "cell_type": "code",
      "execution_count": null,
      "metadata": {
        "id": "ar4aOOUcBU9w"
      },
      "outputs": [],
      "source": [
        "!head -n 11 tweetsmall.txt | tail -1\n"
      ]
    },
    {
      "cell_type": "markdown",
      "metadata": {
        "id": "GkJziK_U0hlm"
      },
      "source": [
        "Αρχικά παίρνουμε τις πρώτες 11 γραμμές με την head και έπειτα με pipeline δίνουμε το αποτέλεσμα στην tail όπου μας δίνει την τελευταία από αυτές τις 11 γραμμές. Δηλαδή την 11η γραμμη του αρχικού αρχείου."
      ]
    },
    {
      "cell_type": "markdown",
      "metadata": {
        "id": "goo5eQDvHbEg"
      },
      "source": [
        "**Ερώτημα 1.3: Αλλάξτε το κείμενο της γραμμής 12 από το `tweetsmall.txt`, με όποιο κείμενο θέλετε, και σώστε το `tweetsmall.txt` ώστε να είναι ακριβώς ίδιο με πριν, με αλλαγμένη τη γραμμή 12. Δηλαδή, οι γραμμές πάνω και κάτω από την 12 πρέπει να παραμείνουν ανέπαφες. *Υπόδειξη: μπορείτε να δείτε και να γνωρίζετε εκ των προτέρων πόσες γραμμές έχει όλο το αρχείο***."
      ]
    },
    {
      "cell_type": "code",
      "execution_count": null,
      "metadata": {
        "id": "v0NArDBIHqZ4"
      },
      "outputs": [],
      "source": [
        "!((head -n 11; echo 'This is a new entry in line 12' ; tail -n 3157) < tweetsmall.txt) >copy.txt ; cp copy.txt tweetsmall.txt; rm copy.txt"
      ]
    },
    {
      "cell_type": "markdown",
      "metadata": {
        "id": "u7OOIHiD0nrG"
      },
      "source": [
        "Με το tail παίρνουμε τις 11 πρώτες γραμμές, γράφουμε το περιεχόμενο της νέας γραμμής με echo, και έπειτα παιρνουμε τις γραμμές από την 13η μέχρι το τέλος. Αυτά τα βάζουμε σε ένα νέο αρχείο και έπειτα αυτό το κάνουμε copy στο tweetsmall.txt και διαγράφουμε το βοηθητικό αρχείο."
      ]
    },
    {
      "cell_type": "markdown",
      "metadata": {
        "id": "P8QBxg5uHrKa"
      },
      "source": [
        "**Ερώτημα 1.4: Διαγράψτε τη γραμμή 15 από το `tweetsmall.txt` και σώστε τη νέα έκδοση του αρχείου όπου θα λείπει αυτή η γραμμή. *Υπόδειξη: μπορείτε να δείτε και να γνωρίζετε εκ των προτέρων πόσες γραμμές έχει όλο το αρχείο***."
      ]
    },
    {
      "cell_type": "code",
      "execution_count": null,
      "metadata": {
        "id": "9OdW5iMMIIzd"
      },
      "outputs": [],
      "source": [
        "!(head -n 14 tweetsmall.txt ; tail -n 3154 tweetsmall.txt) > copy.txt; cp copy.txt tweetsmall.txt ; rm copy.txt"
      ]
    },
    {
      "cell_type": "markdown",
      "metadata": {
        "id": "kWSFoUeU0tcM"
      },
      "source": [
        "Σε ξεχωριστές εντολές παίρνουμε πρώτα τις πρώτες 14 γραμμές από το αρχείο tweetsmall.txt με την head και έπειτα με την tail πάιρνουμε από την 16η γραμμή μέχρι την τελευταία. Το αποτέλεσμα που θα εκτυπωνοταν στο stdout το ανακατευθύνουμε στο αρχείο copy.txt. Έπειτα αντιγράφουμε τα περιεχόμενα του αρχείου αυτού στο tweetsmall.txt και διαγράφουμε το βοηθητικό αρχείο."
      ]
    },
    {
      "cell_type": "markdown",
      "metadata": {
        "id": "zbVhIuYUIJjc"
      },
      "source": [
        "**Ερώτημα 1.5: Κάνετε append στο `tweetsmall.txt` μια καινούρια γραμμή σύμφωνα με κείμενο (input από το stdio) που πληκτρολογεί ο χρήστης και σώστε όλο το `tweetsmall.txt` μαζί με την appanded γραμμή**."
      ]
    },
    {
      "cell_type": "code",
      "execution_count": null,
      "metadata": {
        "id": "BiGzCfVbIdSn"
      },
      "outputs": [],
      "source": [
        "!cat >> tweetsmall.txt"
      ]
    },
    {
      "cell_type": "markdown",
      "metadata": {
        "id": "whK18IMx0u5c"
      },
      "source": [
        "Χρησιμοποιείται η cat για να πληκτρολογήσει ο χρήστης τα περιεχόμενα της νέας γραμμής και έπειτα τα \">>\" για να γίνει append. Με \">\" θα είχαμε overwrite και θα σβήνονταν τα προηγούμενα δεδομένα."
      ]
    },
    {
      "cell_type": "markdown",
      "metadata": {
        "id": "DewR7yAbgJ3Z"
      },
      "source": [
        "**Ερώτημα 1.6: Δημιουργήστε ένα νέο αρχείο με όνομα `onlytwowords.txt` που θα περιέχει δύο στήλες, ως εξής:** \n",
        "* **η πρώτη στήλη θα έχει τη 2η λέξη καθενός από όλα τα υπάρχοντα tweets στο `tweetsmall.txt`**\n",
        "* **η δεύτερη στήλη θα περιέχει την 4η λέξη καθενός από όλα τα υπάρχοντα tweets στο `tweetsmall.txt`**\n",
        "* **οι στήλες στο `onlytwowords.txt` θα χωρίζονται μεταξύ τους με το χαρακτήρα `;`**\n",
        "* **οι γραμμές στο `onlytwowords.txt` θα πρέπει να είναι ταξινομημένες με βάση τη 2η στήλη του `onlytwowords.txt`**\n",
        "\n",
        "***Υπόδειξη: Λέξη θεωρείται κάθε συμβολοσειρά που χωρίζεται με κενούς χαρακτήρες από τις υπόλοιπες ή που βρίσκεται στο τέλος μιας γραμμής. Αν κάποιο tweet δεν έχει 2η ή 4η λέξη η αντίστοιχη στήλη να μένει κενή.***"
      ]
    },
    {
      "cell_type": "code",
      "execution_count": null,
      "metadata": {
        "id": "1-k_bFkbgKQL"
      },
      "outputs": [],
      "source": [
        "!cat tweetsmall.txt | cut -f2,4 -d' ' -s tweetsmall.txt --output-delimiter=';' | sort +1 -t \";\"> onlytworords.txt"
      ]
    },
    {
      "cell_type": "markdown",
      "metadata": {
        "id": "j4MGAS4G0xru"
      },
      "source": [
        "Με την cat προβάλλονται τα περιεχόμενα του αρχείου tweetsmall.txt. Με το pipe αφτά δίνονται ως είσοδο στην cut όπου με το όρισμα -f διαλέγουμε ποιες στήλες θα αναγνώσουμε. Οι στήλες διαχωρίζονται μεταξύ τους σύμφωνα με το όρίσμα -d, εμείς θέλουμε το κενό. To -s θα πάρει το κενό, αν δεν υπάρχει η αντίστοιχη στήλη. Το output delimeter ορίζει το σύμβολο με το οποίο θα χωρίζονται οι νέες στήλες \";\". Το αποτέλεσμα μέσω pipe δίνεται ως είσοδο στην sort η οποία θα ταξινομήσει τις γραμμές βάσει της 2ης στήλης γνωρίζοντας απο το όρισμα -t\";\" που χωρίζονται και η έξοδος ανακατευθύνεται στο αρχείο onlywords.txt"
      ]
    },
    {
      "cell_type": "markdown",
      "metadata": {
        "id": "Km8lkQtZhL8u"
      },
      "source": [
        "**Ερώτημα 1.7: Μετρήστε τον αριθμό των λέξεων που υπάρχουν στο tweet 200 (δηλαδή στη γραμμή 200) του `tweetsmall.txt` και τυπώστε το αποτέλεσμα στην οθόνη.**"
      ]
    },
    {
      "cell_type": "code",
      "execution_count": null,
      "metadata": {
        "colab": {
          "base_uri": "https://localhost:8080/"
        },
        "id": "N0dddo0FkCUq",
        "outputId": "41410835-a020-4efa-d58d-817904e1e93d"
      },
      "outputs": [
        {
          "name": "stdout",
          "output_type": "stream",
          "text": [
            "2\n"
          ]
        }
      ],
      "source": [
        "!head -n 200 tweetsmall.txt | tail -n 1 | wc -w"
      ]
    },
    {
      "cell_type": "markdown",
      "metadata": {
        "id": "FC19Z7bN0zD5"
      },
      "source": [
        "Αρχικά με την head παίρνουμε τις πρώτες 200 γραμμές του αρχείου small.txt και τις δίνουμε με pipe ώς έισοδο στην tail για να πάορυμε την τελευταία από αυτές δηλαδή την 200η. Αυτή δίνεται ως είσοδος στην wc με όρισμα -w για να μετρήσουμε τον αριθμό των λέξεων που υπάρχουν σε αυτη."
      ]
    },
    {
      "cell_type": "markdown",
      "metadata": {
        "id": "Za2mkj_BnlOZ"
      },
      "source": [
        "**Ερώτημα 1.8: Γράψτε σε ένα ξεχωριστό αρχείο `romney.txt`, τα tweets (γραμμές) από το `tweetsmall.txt` που περιέχουν τον όρο \"romney\" αλλά όχι τον όρο \"obama\", ανεξαρτήτως αν τα γράμματα εμφανίζονται με μικρά ή κεφαλαία γράμματα.**"
      ]
    },
    {
      "cell_type": "code",
      "execution_count": null,
      "metadata": {
        "id": "K4-wu4EHn0cX"
      },
      "outputs": [],
      "source": [
        "!grep -i \"romney\" tweetsmall.txt | grep -v -i \"obama\" > romney.txt"
      ]
    },
    {
      "cell_type": "markdown",
      "metadata": {
        "id": "WR1Xiw0N00gK"
      },
      "source": [
        "Αρχικά με την grep και το όρισμα -i για case sensitive διαβάζουμε όσες γραμμες του tweetsmall περιέχουν την λέξη romney είτε με πεζά είτε με κεφαλαία. Μέσω pipe η έξοδος της πρώτης εντολής δίνεται ως είσοδος στο δεύτερο grep όπου τώρα δίνεται και το -v ώς όρισμα για να διαβάσουμε όσες γραμμές δεν περιέχουν την λέξη obama με οποιαδήποτε μορφή. Η έξοδος ανακατευθύνεται στο αρχείο romney.txt\n"
      ]
    },
    {
      "cell_type": "markdown",
      "metadata": {
        "id": "cOjJbQhrz9wh"
      },
      "source": [
        "**Ερώτημα 1.9: Βρείτε και τυπώστε στο αρχείο `tags.txt` όλες τις γραμμές του `tweetsmall.txt` που έχουν έστω και μια λέξη που ξεκινά με το χαρακτήρα `@`.**"
      ]
    },
    {
      "cell_type": "code",
      "execution_count": null,
      "metadata": {
        "id": "TUTLwL1x0Pg5"
      },
      "outputs": [],
      "source": [
        "!grep -E '\\@' tweetsmall.txt > tags.txt"
      ]
    },
    {
      "cell_type": "markdown",
      "metadata": {
        "id": "QZhYkKMe01y9"
      },
      "source": [
        "Χρησιμοποιείται η grep με όρισμα -Ε, δίνεται το σύμβολο με το οποίο ξεκινάνε οι λέξεις που αναζητούμε και το αρχείο tweetsmall.txt στο οποίο γίνεται η αναζήτηση. Το αποτέλεσμα που θα εκτυπωνόταν στο stdout ανακατευθύνεται στο tags.txt"
      ]
    },
    {
      "cell_type": "markdown",
      "metadata": {
        "id": "JrlY31bH1xyv"
      },
      "source": [
        "**Ερώτημα 1.10: Δώστε chainned εντολές (ΣΕ ΜΙΑ ΓΡΑΜΜΗ ΟΛΕΣ) ώστε (α) να μετακινήσετε όλα τα `.txt` αρχεία που ζητήθηκε να δημιουργηθούν σε όλες τις παραπάνω εντολές, σε ένα νέο φάκελο με όνομα `alltxts`, (β) να δώσετε όλα τα δικαιώματα read, write, execute, τόσο στο φάκελο `alltxts` που δημιουργήσατε όσο και στα περιεχόμενά του, μόνο σε εσάς ως χρήστη. (Διευκρίνηση: όλοι οι χρήστες του group σας και όλοι οι άλλοι χρήστες ή groups δεν έχουν κανένα δικαίωμα τόσο στο φάκελο όσο και στα περιεχόμενά του).** "
      ]
    },
    {
      "cell_type": "code",
      "execution_count": null,
      "metadata": {
        "id": "piKXGZ5Z2POy"
      },
      "outputs": [],
      "source": [
        "mkdir alltxts && mv tags.txt onlytworords.txt romney.txt alltxts && chmod -R 700 alltxts"
      ]
    },
    {
      "cell_type": "code",
      "execution_count": null,
      "metadata": {
        "id": "5yFT2TGZvG0a"
      },
      "outputs": [],
      "source": [
        "ls -lah alltxts/"
      ]
    },
    {
      "cell_type": "markdown",
      "metadata": {
        "id": "_Olt2q_T2ODf"
      },
      "source": [
        "Βρισκόμαστε στο φάκελο content, με την εντολή mkdir φτιάχνουμε το επιθυμητό directory alltxs και έπειτα με τον τελεστή && και την εντολή mv, δίνουμε ώς όρισμα τα ονόματα των αρχείων που θέλουμε να γίνουν move στο τελευταίο όρισμα που είναι το destination. Τέλος χρησιμοποιείται η chmod για το alltxts με όρισμα -R. Έτσι αλλάζουμε τα premissions και για το directory αλλά και για τα περιεχόμενα του. Πρώτο ψηφίο για το χρήστη, έπειτα για τους χρήστες του group και έπειτα για τους υπόλοιπους. R,W,X είναι 1 (111) άρα έτσι προκύπτει το 7."
      ]
    },
    {
      "cell_type": "markdown",
      "metadata": {
        "id": "zSIVg3GONOC3"
      },
      "source": [
        "# Θέμα 2: Twitter Viewer & Editor σε Bash Script\n"
      ]
    },
    {
      "cell_type": "markdown",
      "metadata": {
        "id": "KrdWR5ouQ-yA"
      },
      "source": [
        "Υλοποιήστε την ίδια λειτουργικότητα του Twitter Viewer & Editor της Εργασίας 1, αλλά αυτή τη φορά σε Bash Script χρησιμοποιώντας το `tweetsmall.txt`. Διευκρινήσεις: \n",
        "* Δεν επιτρέπεται να κάνετε κλήση σε κώδικα Python μέσα από Bash Script (ΚΑΘΟΛΟΥ Python).\n",
        "* Δε χρειάζεται ο κώδικας σας να είναι βελτιστοποιημένος ως προς χρήση μνήμης, ταχύτητα επεξεργασίας κλπ. Αρκεί να είναι λειτουργικά σωστός.\n",
        "* Θα πρέπει να φτιάξτε ξεχωριστές μεθόδους για κάθε μια από τις εντολές του Twitter Viewer & Editor και να τις παραμετροποιείτε/καλείτε κατάλληλα σε Bash Script.\n",
        "* Προσοχή στο ότι οι αλλαγές του χρήστη δε σώζονται πάντα, αλλά μόνο όταν επιλεγεί `w` ή `x` όπως και στην Εργασία 1. "
      ]
    },
    {
      "cell_type": "markdown",
      "metadata": {
        "id": "1Q9l10473s_j"
      },
      "source": [
        "## ⏩ Bash Script Κώδικας του Twitter Viewer & Editor"
      ]
    },
    {
      "cell_type": "markdown",
      "metadata": {
        "id": "Bn44KgfSxLAl"
      },
      "source": [
        "Γράψτε στο παρακάτω code cell όλο τον Bash Script κώδικα του Twitter Viewer & Editor "
      ]
    },
    {
      "cell_type": "code",
      "execution_count": null,
      "metadata": {
        "colab": {
          "base_uri": "https://localhost:8080/"
        },
        "id": "_Xn7LpeWIIF0",
        "outputId": "016aee99-1dcf-4f47-a434-fb6005691c1d"
      },
      "outputs": [
        {
          "name": "stdout",
          "output_type": "stream",
          "text": [
            "Overwriting twitterViewerEditor.sh\n"
          ]
        }
      ],
      "source": [
        "%%file twitterViewerEditor.sh\n",
        "#!/bin/bash \n",
        "\n",
        "#Global variables \n",
        "FILE=\"tweetsmall.txt\"\n",
        "CURRENT_ID=0\n",
        "declare -a TWEET_LIST=()\n",
        "\n",
        "#Print menu to user\n",
        "print_menu(){\n",
        "    echo \"==========TWITTER VIEWER & EDITOR MENU==========\"\n",
        "    echo \"[c] Create a new tweet\"\n",
        "    echo \"[r] Read the tweet at given line\"\n",
        "    echo \"[u] Update the tweet at given line\"\n",
        "    echo \"[d] Delete current tweet\"\n",
        "    echo \"[$] Read the last tweet in the file\"\n",
        "    echo \"[-] Read one tweet up from the current tweet\"\n",
        "    echo \"[+] Read one tweet down from your current tweet\"\n",
        "    echo \"[=] Print current tweet ID\"\n",
        "    echo \"[q] Quit without save\"\n",
        "    echo \"[w] Write file to disk\"\n",
        "    echo \"[x] Exit and save\"\n",
        "}\n",
        "\n",
        "#Read file and store each line into array\n",
        "#Returns CURRENT_ID starting value\n",
        "open_file(){\n",
        "    i=0\n",
        "    while read -r line; do\n",
        "      TWEET_LIST[i]=$line\n",
        "      i=$((i+1))\n",
        "    done<\"$FILE\"\n",
        "    return 1\n",
        "}\n",
        "\n",
        "#Create new tweet, append it in the array\n",
        "#Argument given is tweet's text\n",
        "create_tweet(){\n",
        "   TWEET_LIST+=(\"$1\")\n",
        "   echo \"Tweet was created\"\n",
        "}\n",
        "\n",
        "#Read tweet in given line as argument\n",
        "#Return given line for updating CURRENT_ID\n",
        "read_tweet(){\n",
        "    echo \"${TWEET_LIST[$1-1]}\"\n",
        "    return $1    \n",
        "}\n",
        "\n",
        "#Update tweet in given line as an argument\n",
        "#1st argument line\n",
        "#2nd argument text\n",
        "#Return given line for updating CURRENT_ID\n",
        "update_tweet(){\n",
        "    temp_list=(\"${TWEET_LIST[@]:0:$(($1-1))}\")\n",
        "    temp_list+=(\"$2\")\n",
        "    TWEET_LIST=( \"${temp_list[@]:0}\" \"${TWEET_LIST[@]:$1}\" )\n",
        "    return $1\n",
        "}\n",
        "\n",
        "#Delete tweet in given line as an argument\n",
        "delete_tweet(){\n",
        "    TWEET_LIST=( \"${TWEET_LIST[@]:0:$(($1-1))}\" \"${TWEET_LIST[@]:$1}\" )\n",
        "}\n",
        "\n",
        "#Read below or above current tweet and update CURRENT_ID\n",
        "#Argument given is the above/below line num to be read\n",
        "read_up_or_down(){\n",
        "    if [ $1 == ${#TWEET_LIST[@]} ] | [ $1 == 0 ]\n",
        "    then\n",
        "      echo \"Current tweet index is in a limiting position. Invalid operation\"\n",
        "      return $CURRENT_ID\n",
        "    else\n",
        "      read_tweet $1\n",
        "    fi\n",
        "}\n",
        "\n",
        "#For each array's element right into destination file\n",
        "save_file(){\n",
        "    for i in ${!TWEET_LIST[@]}; \n",
        "    do\n",
        "      echo \"${TWEET_LIST[$i]}\"\n",
        "    done > tweetsmall.txt\n",
        "}\n",
        "\n",
        "####################### START EXECUTING PROGRAM #######################\n",
        "\n",
        "open_file\n",
        "CURRENT_ID=$?\n",
        "\n",
        "while true\n",
        "do\n",
        "    print_menu\n",
        "\n",
        "    read -p 'Enter your option: ' choice\n",
        "\n",
        "    case $choice in\n",
        "\n",
        "      c)\n",
        "        read -p 'Enter text to create new tweet: ' text\n",
        "        create_tweet \"${text}\"\n",
        "        ;;\n",
        "      r)\n",
        "        read -p 'Enter line of tweet to read: ' line\n",
        "        read_tweet $line\n",
        "        CURRENT_ID=$?\n",
        "        ;;\n",
        "      u)\n",
        "        read -p 'Enter line of tweet to update: ' line\n",
        "        read -p 'Enter text to update new tweet: ' text\n",
        "        \n",
        "        update_tweet  $line  \"${text}\"\n",
        "        CURRENT_ID=$?\n",
        "        ;;\n",
        "      d)\n",
        "        delete_tweet $CURRENT_ID\n",
        "        ;;\n",
        "      $)\n",
        "        CURRENT_ID=${#TWEET_LIST[@]}\n",
        "        read_tweet $CURRENT_ID\n",
        "        ;;\n",
        "      -)\n",
        "        read_up_or_down \"$(($CURRENT_ID-1))\"\n",
        "        CURRENT_ID=$?\n",
        "        ;;\n",
        "      +)\n",
        "        read_up_or_down \"$(($CURRENT_ID+1))\"\n",
        "        CURRENT_ID=$?\n",
        "        ;;\n",
        "      =)\n",
        "        echo \"Current Tweet ID: $CURRENT_ID\"\n",
        "        ;;\n",
        "      w)\n",
        "        save_file\n",
        "        ;;\n",
        "      x)\n",
        "        save_file\n",
        "        break;\n",
        "        ;;\n",
        "      q)\n",
        "        break\n",
        "        ;;\n",
        "      *)\n",
        "        echo \"Invalid Option. Type again\"\n",
        "      ;;\n",
        "    esac\n",
        "done\n",
        "    echo \"Terminating Program ...\"\n"
      ]
    },
    {
      "cell_type": "markdown",
      "metadata": {
        "id": "t9GmvEbl4Azk"
      },
      "source": [
        "Τα παρακάτω 2 code cells είναι βοηθητικά για την εκτέλεση του κώδικά σας."
      ]
    },
    {
      "cell_type": "code",
      "execution_count": null,
      "metadata": {
        "id": "vlvLSrmrJIRy"
      },
      "outputs": [],
      "source": [
        "!chmod +x twitterViewerEditor.sh"
      ]
    },
    {
      "cell_type": "code",
      "execution_count": null,
      "metadata": {
        "id": "7ZbvuRtCIglb"
      },
      "outputs": [],
      "source": [
        "!./twitterViewerEditor.sh"
      ]
    },
    {
      "cell_type": "markdown",
      "metadata": {
        "id": "eeESdL8fREJG"
      },
      "source": [
        "## ⏩ Τεκμηρίωση και Σχολιασμός του Bash Script Κώδικα του Twitter Viewer & Editor\n",
        "Γράψτε στο παρακάτω text cell αναφορά που θα περιγράφετε τι κάνει ο κώδικας που αναπτύξατε στο Development Phase στο προηγούμενο code cell."
      ]
    },
    {
      "cell_type": "markdown",
      "metadata": {
        "id": "XcX8rP4yR4nf"
      },
      "source": [
        "Αρχικά ορίζονται οι 3 global μεταβλητές που θα διευκολύνουν την υλοποίηση του προγράμματος. CURRENT_ID, TWEET_LIST, και δίνεται και το όνομα του αρχείου για ανάγνωση και γράψιμο.\n",
        "\n",
        "**-print_menu**: Μέθοδος οπου εκτυπώνει το menu στο χρήστη\n",
        "\n",
        "\n",
        "**-open_file:** Μέθοδος που διαβάζει το αρχείο με τα tweets και γράφει σε ένα array κάθε γραμμή του αρχείου. Επιστρέφει την αρχική τιμή 1 για το CURRENT_ID όπου και ξεκινάει το αρχείο.\n",
        "\n",
        "**-create_tweet:** Μέθοδος που δημιουργεί ένα νέο tweet σύμφωνα με την είσοδο που δίνει ο χρήστης και το κάνει append στο array με τα υπόλοιπα tweets.\n",
        "\n",
        "**-read_tweet:** Μέθοδος που διαβάζει το tweet στην γραμμή που δίνει ο χρήστης ως είσοδο. Επιστρέφει τον αριθμό της γραμμής για να ενημερωθεί το CURRENT_ID.\n",
        " \n",
        " -update_tweet: Μέθοδος που ενημερώνει μια συγκεκριμένη γραμμή σύμφωνα με την είσοδο που δίνεται από τον χρήστη. Κρατάμε από το array με τα tweets τις γραμμές πριν από την επιθυμητή σε ένα temporary array, κάνουμε append το κείμενο του χρήστη και έπειτα προσθέτουμε μετά απο αυτή τις υπόλοιπες γραμμές από το αρχικό array. Επιστρέφεται ο αριθμος της γραμμής για να ενημερωθεί το CURRENT_ID.\n",
        "\n",
        "**-delete_tweet:** Μέθοδος όπου κρατάει από το  array με τα tweets όλες τις γραμμές εκτός από αυτή που \"δείχνει το CURRENT_ID.\n",
        "\n",
        "**-read_up_or_down:** Μέθοδος όπου δίνεται ως όρισμα το CURRENT_ID +-1 για ανάγνωση του ακριβώς πάνω ή κάτω tweet. Ελέγχεται και αν ο δείκτης CURRENT_ID βρίσκεται σε θέση όπου επιτρέπει να γίνει η επιθυμητή λειτουργία και όχι .πχ στο πρώτο tweet ενώ θέλουμε να διαβάσουμε το απο πάνω.\n",
        "\n",
        "**-save_file:** Μέθοδος όπου διασχίζει το array με τα tweets και αντί να εκτυπώνει τις τιμές στο stdout ανακατευθύνεται η έξοδος και γράφονται στο αρχείο tweetsmall.txt ώστε να σωθούν οι αλλαγές.\n",
        "\n",
        "Για την εκτέλεση του προγράμματος αρχικά καλείται η open_file για να δημιουργηθέι το  array με τα tweets. Το CURRENT_ID παίρνει την αρχική του τιμή (1) και εκτυπώνεται το μενού στο χρήστη με την print_menu. Μέσα σε μια while loop χωρίς τερματική συνθήκη διαβάζεται η επιλογή του χρήστη και γίνεται επιλογή της αντίστοιχης ενέργειας. Σε περίπτωση λανθασμένης εισόδου εμφανίζεται το αντίστοιχο μήνυμα και η παραπάνω διαδικασία εκτελείται ξανα. Σε κάθε επιλογή ζητούνται τα κατάλληλα ορίσματα, σε περίπτωση που χρειάζονται για την εκτέλεση της μεθόδου, από το χρήστη. Break από το loop γίνεται μόνο που επιλεχθεί μία από τις λειτουργίες 'x'για σώσιμο και έξοδο ή 'q' για έξοδο."
      ]
    },
    {
      "cell_type": "markdown",
      "metadata": {
        "id": "QKLO2ntPSaBY"
      },
      "source": [
        "# Θέμα 3: Sentiment Analyser σε Bash Script"
      ]
    },
    {
      "cell_type": "markdown",
      "metadata": {
        "id": "GZkP6a3q7X8D"
      },
      "source": [
        "Μαζί με το `tweetsmall.txt`, σας δίνονται ακόμη ένα αρχείο `positive.txt` και ένα `negative.txt`. Τα αρχεία αυτά έχουν λέξεις (μία ανά γραμμή) στις οποίες έχει αποδοθεί θετική ή αρνητική σημασία, αντίστοιχα.\n",
        "\n",
        "Γράψτε ένα πρόγραμμα Bash Script που διαβάζει μια-μια κάθε γραμμή του `tweetsmall.txt` και για κάθε γραμμή που διαβάζει:\n",
        "* Μετράει αριθμό θετικών (positive) λέξεων του tweet της γραμμής εκείνης \n",
        "* Μετράει αριθμό αρνητικών (negative) λέξεων του tweet της γραμμής εκείνης\n",
        "* Γράφει σε ένα αρχείο `sentimentpertweet.txt`, για κάθε tweet που επεξεργάζεται, το επικρατές sentiment. Π.χ. για τo tweet στη γραμμή 1 του `tweetsmall.txt`, στο `sentimentpertweet.txt` θα γραφτεί:\n",
        "  * `Tweet at line #1 has a positive sentiment` αν ο αριθμός των positive words στο tweet είναι μεγαλύτερος από τον αριθμό των negative\n",
        "  * `Tweet at line #1 has a neutral sentiment` αν ο αριθμός των positive words στο tweet είναι ίσος τον αριθμό των negative\n",
        "  * `Tweet at line #1 has a negative sentiment` αν δεν ισχύει κάτι από τα παραπάνω"
      ]
    },
    {
      "cell_type": "markdown",
      "metadata": {
        "id": "iiiCDkQCSdBV"
      },
      "source": [
        "## ⏩ Bash Script Κώδικας του Sentiment Analyser "
      ]
    },
    {
      "cell_type": "code",
      "execution_count": null,
      "metadata": {
        "colab": {
          "base_uri": "https://localhost:8080/"
        },
        "id": "3vOKXtKy5dfs",
        "outputId": "cb29e58a-8aa2-481a-bca0-55e361927481"
      },
      "outputs": [
        {
          "name": "stdout",
          "output_type": "stream",
          "text": [
            "Overwriting twitterSentimentAnalyser.sh\n"
          ]
        }
      ],
      "source": [
        "%%file twitterSentimentAnalyser.sh\n",
        "#!/bin/bash \n",
        "\n",
        "#Files for reading\n",
        "FILE=\"tweetsmall.txt\"\n",
        "POSITIVE_FILE=\"positive.txt\"\n",
        "NEGATIVE_FILE=\"negative.txt\"\n",
        "FINAL_FILE=\"sentimentpertweet.txt\"\n",
        "\n",
        "#Arrays for storring each file line\n",
        "declare -a TWEET_LIST=()\n",
        "declare -a POSITIVE_LIST=()\n",
        "declare -a NEGATIVE_LIST=()\n",
        "\n",
        "#Read file with positive words\n",
        "open_file_positive(){\n",
        "    i=0\n",
        "    while read -r line; do\n",
        "      POSITIVE_LIST[i]=$line\n",
        "      i=$((i+1))\n",
        "    done<\"$POSITIVE_FILE\"\n",
        "}\n",
        "\n",
        "#Read file with negative words\n",
        "open_file_negative(){\n",
        "    i=0\n",
        "    while read -r line; do\n",
        "      NEGATIVE_LIST[i]=$line\n",
        "      i=$((i+1))\n",
        "    done<\"$NEGATIVE_FILE\"\n",
        "}\n",
        "\n",
        "#Read file with tweets and count negative and positive words in each line\n",
        "open_file(){\n",
        "    line_num=0\n",
        "    #For every line in txt file do\n",
        "    while read -r line; do\n",
        "    \n",
        "      pstv_counter=0\n",
        "      ngtv_counter=0\n",
        "\n",
        "      #Check for every word in each line if exists into positive or negative file\n",
        "      #Update counters\n",
        "      for i in ${line}; \n",
        "      do \n",
        "        if [[ \" ${POSITIVE_LIST[*]} \" =~ \" ${i,,} \" ]]; then\n",
        "          pstv_counter=$((pstv_counter+1)) \n",
        "        elif [[ \" ${NEGATIVE_LIST[*]} \" =~ \" ${i,,} \" ]]; then\n",
        "          ngtv_counter=$((ngtv_counter+1))\n",
        "        fi\n",
        "      done\n",
        "      \n",
        "      #Increase line index before using to be accurate with file lines\n",
        "      line_num=$((line_num+1))\n",
        "      write_file $pstv_counter $ngtv_counter $line_num\n",
        "    done<\"$FILE\"\n",
        "}\n",
        "\n",
        "#Store overall sentiment for each line of tweet read\n",
        "write_file(){\n",
        "      if [ $1 -gt $2 ]; then\n",
        "        echo \"Tweet at line #$3 has a positive sentiment\"\n",
        "      elif [ $1 -lt $2 ]; then\n",
        "        echo \"Tweet at line #$3 has a negative sentiment\"\n",
        "      else\n",
        "        echo \"Tweet at line #$3 has a neutral sentiment\"\n",
        "      fi >> sentimentpertweet.txt \n",
        "}\n",
        "#################### START EXECUTING PROGRAM ####################\n",
        "\n",
        "#Start by making blank the destination file for the new data to be written \n",
        "echo \"\" > $FINAL_FILE\n",
        "\n",
        "open_file_positive\n",
        "open_file_negative\n",
        "open_file"
      ]
    },
    {
      "cell_type": "markdown",
      "metadata": {
        "id": "SmzFK3lt5b9z"
      },
      "source": [
        "Τα παρακάτω 2 code cells είναι βοηθητικά για την εκτέλεση του κώδικά σας."
      ]
    },
    {
      "cell_type": "code",
      "execution_count": null,
      "metadata": {
        "id": "KaHloniW5b90"
      },
      "outputs": [],
      "source": [
        "!chmod +x twitterSentimentAnalyser.sh"
      ]
    },
    {
      "cell_type": "code",
      "execution_count": null,
      "metadata": {
        "id": "DSbmftc75b90"
      },
      "outputs": [],
      "source": [
        "!./twitterSentimentAnalyser.sh"
      ]
    },
    {
      "cell_type": "markdown",
      "metadata": {
        "id": "CfklDBl1UlhL"
      },
      "source": [
        "## ⏩ Τεκμηρίωση και Σχολιασμός Bash Script Κώδικα του Sentiment Analyser \n",
        "Γράψτε στο παρακάτω text cell αναφορά που θα περιγράφετε τι κάνει ο κώδικας που αναπτύξατε στο προηγούμενο code cell."
      ]
    },
    {
      "cell_type": "markdown",
      "metadata": {
        "id": "wdq1rNhuU7f0"
      },
      "source": [
        "Αρχικά για την υλοποίηση, θα χρειαστούν 3 arrays τα οποία δηλωνονται στην αρχή του προγράμματος. Κάθε ένα θα περιέχει μια μία κάθε γραμμή απο το αντίστοιχο αρχείο positive.txt, negative.txt, tweetsmall.txt. Αρχικά διαβάζονται τα 2 αρχεία που περιέχουν αρνητικα και θετικά σχόλια, και η κάθε γραμμή τους αποθηκέυεται ως κόμβος στο αντίστοιχο array POSITIVE_LIST και NEGATIVE_LIST. Τα παραπάνω γίνονται στις 2 μεθόδους open_file_positive και open_file_negative αντίστοιχα. Τέλος στην open_file για κάθε γραμμή του αρχείου tweetsmall.txt τη χωρίζουμε σε λέξεις και αναζητείται αν είναι όμοια με κάποια απο τις τιμές στα 2 array που αναφέρθηκαν. Εάν προκύψει ομοιότητα ενημερώνεται ο αντίστοιχος counter και προχωράμε στην επόμενη λέξη. Να επισημανθεί ότι η σύγκριση έπρεπε να γίνει case sensitive καθώς οι λέξεις στα αρχεία positive.txt και negative.txt είναι με πεζά γράμματα αλλά στο tweetsmall.txt υπάρχουν και κεφαλαία. Στο τέλος της κάθε γραμμής καλείται η write_file με ορίσματα την τιμή των counter θετικών και αρνητικών λέξεων. Έπειτα απο τη σύγκρισή τους γράφεται στο αρχείο sentimentpertweet.txt το αντίστοιχο μήνυμα."
      ]
    },
    {
      "cell_type": "markdown",
      "metadata": {
        "id": "sxoBBAUmWMrV"
      },
      "source": [
        "# Θέμα 4: Python Process Programming - Zig Zag Process Generator"
      ]
    },
    {
      "cell_type": "markdown",
      "metadata": {
        "id": "meMcFcYped9P"
      },
      "source": [
        "Στο θέμα αυτό σας ζητείται να γράψετε ένα Zig Zag Process Generator σε Python. Τι σημαίνει αυτό (ακολουθεί αναπράσταση με εικόνα): \n",
        "- Το πρόγραμμά σας θα ξεκινάει με μια parent διεργασία που θα βρίσκεται στο επίπεδο 0 και θα γεννά (`fork`) 2 άλλες διεργασίες παιδιά. Το αριστερό child και το δεξί child. \n",
        "- Αυτά τα παιδιά βρίσκονται στο επίπεδο 1. Μόνο ένα από αυτά τα δύο παιδιά θα κάνει fork. Αν ο αριθμός του τωρινού επιπέδου ειναι μονός αριθμός (1,3,5,7,9), θα κάνει fork μόνο το αριστερό παιδί. Αλλιώς μόνο το δεξί.  "
      ]
    },
    {
      "cell_type": "markdown",
      "metadata": {
        "id": "m8w88DfMmxpJ"
      },
      "source": [
        "![image.png](data:image/png;base64,iVBORw0KGgoAAAANSUhEUgAAB9QAAAQuCAMAAAC6ffbFAAAAAXNSR0IArs4c6QAAAARnQU1BAACxjwv8YQUAAAGeUExURQAAAAAAAECAvwAAAEBwvwAAAEB1vwAAAEhwxwAAAEZzxgAAAEVwxQAAAERyxAAAAER0wwAAAENxwwAAAENzwgAAAENxwgAAAEVyxQAAAEVxxAAAAERyxAAAAERxxAAAAERywwAAAERzxAUJEAAAAERyxAkQGgAAAERzxAsUIgAAAEVyxQAAAEVzxQ8bLhAcMQAAAERyxRMeNgAAAERyxAAAAERzxAAAAERyxBkrSQAAABorS0RzxAAAAERyxAAAAEVyxQAAAERyxB40WQAAAERyxCE2XQAAACE3X0RyxAAAABcpRxgqSRkrTB81XCI5Yi9SjzBTkTBUkjNXmDNYmTRZmzRanDVbnjVcnzhfpTlgqDliqTpkqztkrT1msT1nsj5otD5ptT9rtz9ruEJuvkJvv0NwwUNxwkRyxEVyxUp2xlB7yFZ/yluEy2GIzWeNz22R0XOV03ma1X+e14Wj2Iqn2pCs3Jaw3py04KK54qe9463B5bPF57nK6b7O68TT7MrX7tDc8Nbg8tzk9OLp9ujt+O3y+fP2+/n7/f///2vhuEoAAABKdFJOUwAICBAQGBggICgoMDA4OEBASEhQUFhYYGBoaHBweHiAgIeHjI+PlJeXnJ+fp6eorK+vsLe3v7/Hx8vPz8/X19/f5+fr7+/z9/f3rBcR7gAAAAlwSFlzAAAXEQAAFxEByibzPwAAhAFJREFUeF7t3Yl/E1mf73fvBtPYDTQNNIsaQgfCkkDA4BAwbcWO89STZHpm7jwz905m7s2TyVzFC7aMsS0bL/Je/3V+Z6lFUknWUiqVrc/79ZrH51RpaerMS986Veec6gEAAAAAAAAAAAAAAAAAAAAAAAAAAAAAAAAAAAAAAADS4o8Lxf6jAADoRjYNLwj7jwIAoBv98UfuwiDUAQBdjVAHAOCCINQBALggCHUAAC4IQh0AgAuCUAcA4IIg1AEAuCAIdQAALghCHQCAC4JQBwDggiDUAQC4IAh1AAAuiFhCvXDqioNicWvFbukIQh0A0NViCXWd6cbhF7utAwh1AEBXiyXUJcz3i8XigUr1kyW7sU5brrtqi60i1AEAXS2uUF9Uf+c3pHSgN9Vt23W/2WKrCHUAQFeLNdRzOZXqX02xToQ6AADxiDnUF6W4YYp1ItQBAIhHzKGeO3Dd77aYW1r7Xixub5TcZC/d9qVQkDfsFsS82dIKQh0A0NXiDvVj1103pTnpgxvbfmCXbyvYmohhtByhDgDoajGH+pIU86Z0qKLajIg/tvPcKrZ9UyWjwUHzUQh1AEBXizfU5yWv93VJXYc/UUPm5tZl7271bdxTRzcb++TctUUAaFlcob6aF5snfq/8a9A/X/H64VHbCHV0tReOc9MW69Of+eSI94+v2A0AEIgr1D1Fex3+2HU3TSmXK7rujvobtY1Qx4V0ZSzQa7dFmXama+2uMDilIl3L2E1nuHIrk7l52VYAXHAxh7odJJdbkPKCLedWXfdQ/kRtI9RxIT20wavV6IqPOc4TW6zPuONM3Rq7kXkz6zyzm2q6ofv10rOnYw90hbhCfatQ2JGeuBfQedc9NiWx5Lqn8idqG6GOC0myN3DLboyQcZyG0rZXPs68of/ONf23Nvl8a/aG3QTgIotzoNz8jhSW9ZZv/oA5YbvoUdsIdVxIEuqvMp5huzHCB+eDLdVnWOK5gcv1N+Xlr66Njd2ZllTnEjzQBeIM9dzcobf0e8F1i7qgmf1R2wh1XEgS6jX654E7mTFbqk//rOPct+U6TEmm68KwpHpdl+sBnG+xhrqepq6Xfl8NP9hFrR0rf6K2Eeq4kOoN9YY9k773HVs+0zXH+dxvinelq26LAC6weENdzUTX88+Xw/fPpXJk/lRsI9RxIcUZ6v1XbUHpVwPfXlTGc2/UxfUXwRB51cVvz2kGgDSJOdTVEnHqVrm6Ze6vEbfuunvyJ2qbDvXGngBTHaGOtCgP9f7xCmq82+Bnc1G8ym7J6rsfJMSdqVe3vDvpve9VPZzzPT133nyWjePPym7eD0qQ+1f33zQ6zh7AeRRzqM+duG5BFaTL7j3YZe7YXpOP2pbbtG+IAaGOtCgP9Ssqmkup/WOO87nG7p7Lwaz0qUG1oadfXX8XoWXoBuXLjOnSvrh8+qw/qu6xd3sdwEUWc6jnvttr7F9lm7msPrfj3UuP2pZbC4+Jbw2hjrSo6Km/GR+XfvN73QmX+JX/Vd1qL9Sr7O6XDvj04zs3Ms+mbZ97WHXJVS0Y9nZZatNvMplXautDu1G7aT9duyOfaosALq64Q31Zyl633N1ey+c3VGFF74vcpsbWbeZXtu36sa0g1JEW5aGuSB6b6+MSvvpvEOpKxO5bwUC3W5/VFffeD47z6WrPsLom/9js6HklL9I31PvlS2dNf96QHH9vi/qzPtkigIsr7lBXwa3Xf13Yl63Gsc3vyG05u41Hr+ICUd1ty18GNpTaU/pv1VD3dj8pXwv2hbxevaj3jXywOWu4GiS5ivzwvLVMuHN+I/RVAC6s2EN93VsqLrdh0trd8deGjdy2sKc2nNJTxwUSCnUb1Tq1dbd7OIjXslAv3/046I9raukZO4DuvUS/PluQePdfI71xr5OvyDlBEOryVeF9AC6mWEJ9IR+K5KW8H/CL+cJq+XPSI7blvxZWQsHfNEIdaSGh7q0o568VI6mt/1YPdf03tFt61yWru0rIv7FFNbJdD5abchx/NptaRNY7hRDloT5tiwAurlhCPSUIdaRF1D11iV/992pwdzsc6hG79dLtn57JmYEZ7C6573/qKzOaXeV4MGtdPiO0Ql3J5feSUXMALipCHYhfRKhL/M7qQijJQ8Wo3bqvbujb5vLXf/zLLUcvG3+5pAP+oeRrSwa8y+uDCoCLilAH4hcR6hK/JqyjQz1qt3nI2qfx8fE36v65uqXuzztXS8DKH+nXe8PqhIR66DmvJZ1z+agXtgjg4iLUgfhFhLp0uk1XOTrUo3Y/lGLonroKdX/Kmrxe9dT7ZZvZoEyVPMlVPilYfOYFK8oB3YBQB+IXEep3vflmks3eFfNQgEfsVuu1l6wHKwHuZ/Z92/OeLhso56e4OQnwH7r+2XF4ojpw8RHqQPwiQt1/ukqow30luHgesftq+YD1T6HlYd/Y138IzWWXE4PgeruQIPemu132psABuNAIdSB+EaEuCWu7zd6arz09gxLgNmojdkuohzveOvi9ZFaz3fTsNQnyKTv8vXeqZE14PQVuyk5xe8XVd6ArEOpA/CpDXXXAbfiGHpgmG02UR+3unQ1WiLvy4oaZnD6uX3VV8tt00FWSf9DJPSid9k8lJwHq9R/069WIu9DddgAXFaEOxE9CXQ1aN/SA9PvBQuwqYR8/0eksHejpJxkJ7Mjd0tN2ph5nxjKPPzmOWsRGbfj8IpORtzkfbH7fkfLsuGyTdJ/1b6Eb8qnO1Cv99tJnvQC4oAh1IH5qbXaf7m3bWFZU51qo7rV95ur9KrtVeFuzesjcfel7G0/8Pvk19Xg27ZM/ZM6jzgKMkvVmAVxUhDoQv2u2k66pnvrglL0QrlyWjryjp573XP0gxc9Xqu2+8kIn/OybO3Zo3eVn76X+6UW4Sz74RD23dWr8bsm1d+PaC/3+ktcDuLgIdSDdhkMrv2qXI8J72D8lqNBf/n4AFxehDgDABUGoAwBwQRDqAABcEIQ6AAAXBKEOAMAFQagDAHBBEOoAAFwQ5yDUF/JLtnQGQh0A0NXODvX1E1ccFotbdWZrrJa2T9XXF9dsvRZCHQDQ1c4OdR2qRnHBbkvMuv/te3N2U3WEOgCgq50d6hKo+8Vi8UAl69EXuzEhq/KdJzuFwqH83bXbqiPUAQBdra5QX1R/F79LaU9vSsqC9NO3dUl997Iu1UCoAwC6Wv2hnssVpLhiislYc91Dc9V97sB1N3WpBkIdANDVGgn1Oek4F0wxGfuu+9UWv7nusS1WRagDALpaI6GuQnZH/V0sFL7k5reKxR2zZ2nte7G4vREeHT/3bbNYLMrLPPnCbnGv8DUY7rawsVss7q7NR1eVL/LVXn1eynlbroZQBwB0tYZCfdsOV5Nu87dFNXjN/Sa1OdlsbPuR/EWPqxPfTYrP79n6vvdZG3Zc+7EZUV9W1dZc98AWczn5urOmtRHqAICu1mhPXd/YllBfM6ktob6k092Mjj+2PfMVFdEnRbVJX69fPpbqXmFP/TH9efkId6+wJZ+o+99lVaPgDZNT5KzgrEv/hDoAoKs1EurzJ667qgoSwSfu6cbc4jcJcUnzE3Xne25dXmnmnc0dSR9bhXe+6H5XG+Q1O6oXrzrsZgC9vF+PZl/c0ecBZVXju+tu2aK+ShBUohHqAICu1kioS66e6qvjql/tDWH7Guqfy1bdD5d4P7JX4tfVcHl5TdFU56Svrt74xXX3zRatrGrthDvnkvBBtz0aoQ4A6Gr1h/q8unVubmurUPcmmElK+3PNinYgnXTU1/UGa9+GvdgwHe4liX2zQSurWvJxQagXzp4kT6gDALpaXaGuVpQzd87NJgn1IzuMfUG2+mPbVl33UP6okerBKHfpnrvuiS2qTrvO5lPX3dAbjLKqQagDANCAukLdOvG63xLqNt5z+fD8celwn8qf5bJ+9xfJ+ry1bnI/tymfVwxWsimrGuWhzuV3AABqqDfUT4rbG/6EtVCoSzG4G2677dJhL7lDLr3zMB34c3qO2/G67dGXVY3tcKhL7J+1pByhDgDoao0MlPOFQl060F5RmNeWXylfU4HtO7XX2deOVO3Y656XVZXvrhk7r+1EXaAvRagDALpaq6EuvfJggZhFea38kd3BNiE99ZK6Z2VX5bg/Mb2sqk8Ogkez7ZuVbmoh1AEAXa3VUF8O31O3N9NL7rOLpbJ6YEm65/oWu1FWlR6+P8BOrTsfmsIeiVAHAHS1VkNd3Ub313xfN9fdVYc9HMBqNHxo9dcwyfvwQPnSqvpsr+NeckWgCkIdANDVWg11tVicd+PbW1lGzV33Vn+bU2l+WH01uJPgmS1KabUYDI7bL5v6HoVQBwB0tZZDXQ1tNze753a83rT02E/NgnPLh2oemrzmRK8Cq+h+/YrtgavZbpVVz5p8jtmzId9SpbMfINQBAF2t5VBXXXV3ey2f31AFM3hdddndrdX82q6dXK6GwH3PL+YW8puH+tO23eKqdMlXj0xfvKzqWZD66ffV/IqcLpw5oY1QBwB0udZDfWFfXmH4E9KWJY0N02Nf8J68qqge93dblg9S99DLqr6lE7s5PLmtKkIdANDVmgr11dKJ6OrauLITXCCf19PTXHfXGzD3zYvnokn57+b56ScFfQu9rBrwzgYOz5rOphDqAICudnaoL+Qrp5It5Us61LnFfGHVHwNv5dcL+XBEL+Y3CquhWej5b4VvoReUVX0LXwuFr+WfHY1QBwB0tbND/fwg1AEAXY1QBwDggiDUAQC4IAh1AAAuCEIdAIALglAHAOCCINQBALggCHV0qYyjZahRo0bt4tRUqP+Nqf2NicZzXWvhSFDrppqI54OoUaNGLU01Qp1aN9ZEPB9EjRo1ammq/SH+bGp/VuVzXmvhSFDrppqI54OoUaNGLU21UCDGE6uRtf+jpBbPZ0bWWjgS1LqpJuL5IGrUqFHrutq9/y1ci+czqVFroSbi+SBq1KhR67La0NuJ/zaole6jRq0jNRHPB1GjRo1ad9V+mnnU1/qnUKMWZw0A0ISB57+PesW3EyO2CAAAzpvRyecDtihuZ3+xJQAAcL48mvnZloyRibdDtggAAM6PqAh/MHPdlgAAwHlxe+aBLYWVXpAHAACpN/T2Y/SwuL6n/tA5AACQftezj/pssUKtfQAAIFX6nmZ/tMUoTG4DAOCcOPu++e3sPVsCAADp9WDmti1Vx+Q2AABS79LERF1x/WDmJ1sCAABpdDsbNZEtCpPbAABIsYHXkz/Y4tn6fmNyGwAAKXU9+1tDk9WY3AYAQCr1Pco2ugbswGsmtwEAkDo/TL5u4h45k9sAAEibB9mzJ7JFucTkNgAA0mToXfPX0R9kmdwGAEBaRD+RrV5MbgMAICUGnk+2Njet77csk9sAAOi80ezzliemMbkNAICOa2IiW5SB11Wevw4AAJIx8jGuwev1LzALAADid2/mF1tqHZPbAADomKG38S4I9yD7sy0BAIAk/TTzyJbiwuQ2AAA6YOB5Gx6yxuQ2AAAS165ONZPbAABI1qOZdq3tOvCSyW0AACRmpK0D1ZncBgBAUlpb6v1sQ0xuAwAgCUNv2399nMltAAC0XzIj2X5gchsAAO3V9zT7oy22V98jJrcBANBGSa4Ow+Q2AADa58HMbVtKwsDLSSa3AQDQDpcmJhIelM7kNgAA2qETCTs08Y7JbQAAxGvg9eQPtpioB9kkr/gDAHDxdW7UGpPbAACIUd+j7HVbTJ58eTKz6AAAuPh+mHzd0c4yk9sAAIhH529rM7kNAIAYDL2buGSLHcTkNgAAWtXuJ7LVa+gdk9sAAGjBwPPJ1KzAzuQ2AACaN5p9mqIRaiNMbgMAoDkdncgWhcltAAA0ZeTj29Tdxf6RyW0AADTsXqJPZKvXwHMmtwEA0JChtxMpDU8mtwEA0IifZh7ZUiOuZF6MP7lmK7Xczdy3pSYMvUv6CbAAAJxbTU5kuzvrKP22WoO8ypaawuQ2AADqM9rc1LErKtHfTzvDtl5Di6HeMzL5ksltAACc6dHMT7bUmFeO86a3p+eqrdbSaqinb7YdAADpMzLR7ES2ace5bItnaTnUmdwGAMBZbs/cs6VG9TrOrC2eKYZQVzf+f7BFAABQbuDtx6Ynsl12nM+2eKY4Qp3JbQAAVHe9lUvaY4mHuppMz+Q2AAAq9T3NNv9EtjuZZ44znclk7tgNY3efjGduBaPm7mZu9PRcezX+TG3yQ30weENTmNwGAEClJieyGZclpi09o21sytbeDOr9KsfHex7qLbpiQr3/UwPd+0gjH5ncBgBAqdb6vP0qrg1J8V6d3s5n9T/T0kFXJNTv6q3juqJDvfe9vKiOae21MLkNAIASlybetXp3OnRPXaX3sysS9TemHWeqV2+TguO8vzZ256auqFDvfdN6potRJrcBAOCLYxx5EOq9Et8ZUxyW4l1dUp10tTaNV5H/fRZLpjO5DQAA38DLOEIxCHXpqPs3yqU8pQuS41P+qvA61B/GlOniZya3AQAgWprIFghC/Y3XOxf9s3bonOR48Pw2Fer348t0Pbntki0CANCtYhtoFoT6Z8cJprJ9sGGuO+ceqdyKM9MFk9sAAN1uZPJ1TFPC/FDvlcj2JrLpbrueiV4e6pL8771b7LEY+RjXvwQAgPMoxv6tH+rDJfn9zHHuq7/loX511nGe2Wo8mNwGAOhiQ+9ivBPth7qasx5cWB93HDWJrSLU9by3W7Yek9Hsb0xuAwB0pXjHjAf31KfD99Q/O84V9bci1FUffrbeZ7XWaeD5ZPMr3QIAcF7FHYBBqH+wV9yVQclvPZOtMtR7PznOp1hvqwsmtwEAus9o9mm8l6qDUH8iYW1KPT2PHeeVLlSGes/lWW9njJjcBgDoMm0YVBaE+qCE9WNTvCFFffU9KtR7bslff0Z7bJjcBgDoJiMTb2Of/hWEun4a26sbw/1jqvDEbIsKddWnnw1uv8dlZILJbQCAbnFvpg192VCo9z6T1Lae2LvmUjQFxavox7T5i8fGhsltAIAuMfR2YsQW43Q1CPWenlvTOtGdaT2dTfFyXPMrw/I6e6U+VqO/M7kNAHDxXZ/51ZZiNjYWnqB29VYmczO04epY6Dp7UBkeG4tzsVgfk9sAABde94TdT0xuAwBcaKOTz7tmDBmT2wAAF9mvM101gOwek9sAABfUyMTbIVvsEu2YugcAQOfdnrlnS92DyW0AgAtooD0T2VJv9PeYl8MFAKDDrmcfdWm2MbkNAHCh9D3NdnGw/TTD5DYAwEXRTRPZorRpDT0AABL3IPuzLXUtJrcBAC6CSxPvumwiWxQmtwEAzr/brJZqMLkNAHC+Dbyc5G6yNTrJ5DYAwPnVvRPZojC5DQBwbrGcWrnrTG4DAJxLI5MvGRtWhsltAIDz6AGzuKL8wmEBAJwzQ+94mHi07ntWHQDgfPuZiWzVMdQAAHB+MMy7ttHJ50wKAACcC6NZJmTXxlkPAOBcYCJbPa7P/GpLAACkFYuc14fJbQCAtLs3w4ytOv3CoQIApBjdz0YwuQ0AkF7cKG4Qww8AAOnEkO7GMbkNAJBG5FMz+jgTAgCkzq8zXEluyvUs9ywAAGnCmK/mMboQAJAmt2d+sSU04TaT2wAAKTFAV7NFXOgAAKTD9ewjRsi16lcmtwEAOq7v6e8M347B6ORzltcFAHQUWRQXJrcBADrrQfZnW0LLrmcf2RIAAEm7xPiuWDG5DQDQKbezD2wJMWFuIACgEwZeTtKtjB2T2wAAyWMiW5uw3i4AIFl9j7I/2iJixoQCAECSRiZfkjttw+Q2AEByHmRZq7ytmNwGAEjG0NsJxnK1GcvpAwCS8DMT2ZJwO8vkNgBAew1wvzchTG4DALTX6O+/MZEtKQ+Y3AYAaJu+RzwgNElMbgMAtMvIxFsyJlF9T7nZAQCITxDjvzCRLXks3AcAiM0PE7bAE8Q6Izy5jfHwAIBWvM79qv9enzF/kbjb2Xum8GPuJ1MAAKAJo7ncn0ZZuLSz7OS2gWzuo9kAAEATPuZyucm+0cnn3NjtpAcz0kd/KW3BBXgAQLN+khzJ5T4yX7rT5LTqnmqKLCdXAIDm9E3qUM8x6r3j+lQ/Xdjb6wAANEh3DkWW9Uo7boKmAAC0oC9rgiSXe223oFN+tS2R+81uAACgEX6QcAG+00b/ZBsi9ye66gCAxg35QSJRcsluRCf0/W7bQTy32wAAF8EfCfkXEyL/9td/+U9/+Xu7LX72H4VaRn97598Kyf1gNwIALgCbhu32H/79r//6z//4D7bWNvYfdRHYf1G7/OWf/vk///W/5nL/xdbbzP6jAABt9ccftst2ARDqjfq7v/zHv7XF9rL/KABAWxHqKUXDAAAaRXakFA0DAGgU2ZFSNAwAoFFkR0rRMACARpEdKUXDAAAaRXakFA0DAGgU2ZFSNAwAoFFkR0rRMACARpEdKUXDAAAaFU92LOwUXXdv2dbqsFIsrtlipaidC3vFLVusilCvtLixNm+Ljar51qid8/n8gi2WItQBIBlnZsd8/uxQWD5xlW1bjSY/+fn8nK0UIl69sFFY0oWonXnXPbLFqro31Be841phz3W/2WKjIt/qfVPUzo1q/y9AqANAMs7KjvlT143ufoUcuO7x9tbhd1uNsrKrc9/dM1EQldvbrruvC4S6qNYw6wVj/YvdIHaqJ3exgVCfW90pik17xSXqrf43Re2MajeNUAeAZJwV6osSxIu2XM2K6554r5nLm952mU0T6cqhekHU77/kxLEuEOqiSsPIcfAcfrXbcnLitWOL5RoI9eVj+8HuwYqqR73V/yZCHQBSKI5QXwv9mO+57qotBhb2VVTsbxV2pU/vFmVL1O//2tHJhi4Q6qJKw3xTR9LjXRqRo1qwxXKRob5d3K28pxI673JdlepRb/W/iVAHgBSKI9Tlx9zPlKgf+7kj+ZAdczN2eU+Hc9Xff4VQF9VDXR+H/IbqV9u++pe1r9VuqkeGelSbygvd/bUlafFVOQVTpwtRb/W/iVAHgBSKI9S3XXfdFiN/7L/LZ5g+uLKqTgAI9bOcEerSMpLqZgxCLfWGuroCsGnLuZUTVYx8q4dQB4AUiinU/R/4iB/7BfmIXVv2EOpnOTPUc1tyXKuOevfUGepzcoYQGuc4r67OE+oAcN40EerzG9sH7v72ugmUr8WiBMJhsVhcz30rFk9MeS+UNvJb75aPnjO//2t7p8d7G97t3XyxaHIiHA75zeLpwdYKoW6FQl0OiT2ui8FcwdzS10JhXc0ezOtB7CZ859cKa94qAl/y6o2r8oLQ+Pl11z0tn+RQ+dbQN5WE+tK3wld5N6EOAB3WeKgvqzvkyoEOBXVt3SiqCU+evH6tdlDZUde///N75qUH9vP9TAiFg4SNViDUjVCoL8lxMbkcTBpfCDWBTnwdvuYonpg2OdQV5VTXNTkvq2ijyreGvikU6naVgp05Qh0AOqzhUF+VDQebhU2J9hOVGqt+T30j1FMvBqOr5+UNQafOkt//ffmEffVe98DfVh7qUlIvkg+VFxPqIhTqUrSx7CfsgjqcRyZk/VBft0sEuKd6ppqagGCYCYSKukNSsR5g5VtD3xSE+uqpfc2hnFAQ6gDQSY2Gurr5qkfFzW37nbva99SX5RMqAkOn9ZFKHVUyg7grQ31B8mJPTg/m1e1jQl0JQn1eWsKunOsfdOlIq9OpRdmw7V9+P3VPCstf1uVY6rOnqMvvqo2C0zCr8q2hb/ILqo0O1haXt3S2E+oA0EmNhvqmnyQq3s0t3dqhrrr2FWvSqSg/Mp8rQVSW5X5BsrxobuFKlhHqihfq89/UtQt7XL2D/kV63/p4SY/9xOyTXeaKig5u29+WUsnVF/WpJ7YYiHqr37x+QdrI/GesqFQn1AGgkxoM9Tn55fYSWvLdTFSrHepqDJYtBiS3baar0FfL0USFunyZt5KNfAqhLtTZjefQaxjvoH/1z7h2vMsfsssEsz57shML5b2loS5NabviIVFv9ZvXK6iOuj1VWDoh1AGgsxoMdekL+r/+ki9mFlTtUN8I37z1+LmtB3Ef6kJFqMt3n3qjuhkoZwShfhIcZ++gy6G2j7eTlDa7ZZf3xDs5rDby5d2loS4taE6swqLe6jevV5DzCL91Q41ailAHgGQ0GOryG35onyhS8JOgdqjLWyqnU4d+/+UbTFz727yCH/eCUDck1E+LRT3Ybdc/qt5BX/UXkNn1xjGE2mPdP+ZRoR7ZU694q7/NKwQfSqgDQMc1GOryGx62pzfWDvVg5lVIXaEuAeb3Hwl1Q46JPg4bp6GHuHgHXQ61vacue03kh9pD3mqPubRIaahvVbmnXvFWf5tX+B5aiI5QB4AOazDU5Xf7WM1Ys8zd1NqhPiefYO+6BuoKdflLqJfxQl0V/MPqH3TpoBelh75y6EdtVDJXhvqGbIka/V7xVn+bV9gLrfsfatRShDoAJKPBUF+LWKTkjFBXC5vYe7mBukJdosRf3JxQN/xQ1wFuSsFB11P/tEN7bT4qmStDXd0iiZqnXvFWf5tXkP8KQh0A0qLBUJdsrXyIyBmhvuNWLkFaV6jLl/mDsAh1Iwh1dVvDDk73Dvqy6+6p5Wfck4J3vz0qmStDXS0QVJHHUW/1t3kFOY3w14wn1AGgwxoM9QUJDH98licc6nuhJ7ZZKn3Ku+p1hfoXeaPXfwzCrLruCnW1NJw9hkHCns7N5b99tVmv1BfqqsNdZe13rXqob4TO8gj1LtefyVyzRQAd0mCoqyQpD+2SUJdyxQ/7d0kMb3JULreq9tcV6urL7K1hNQeaUBehUF/zg9hL2IPKM67IUD/y+/iexfC4O+m5q5GNdYX6SvD/H4vysV6jliLUu8Njx7lvi3UazrwYH39294qtAmhZo6H+VbrqZlkT6bbblWHCoS6B7E9D86ix2N5F2pWiDqX6Ql2NtdeDwfJqOXNCXYRCfV4OqznB8hJW3WZfs49nsyJDfT/UYJa6G+8v2L92ol5YV6ir58OYs4EFNc/OfkEZQr07fHKcQVuszxPHmqKHD8SknlDft2Pdiyrd92TDjiRHfkNKpqMYDnU15Gp3dW235PKuZII43P1eVI8IU6FfX6jPS5af7K6tSVgdHBPqSijU1XE3ZS9h8+rsSTvas2dekaEuLXc4n5sPz0nQj4I53vyWz69sSVG9sL5QVydeBWntb8eufLv9gjKE+rl2bTxkzG6MMOw4b2yxPg8lzj+Mj7+XP8/sprNc/eTM0q8Hajgr1NXzu3zqZ3xBEtZj13sLh7r3ELDQo1fFqh6+ZeyrS7v1hXruy5F9087cEaGuhEM9LwdGB7OfsObsyTCPtI8MdXXmpZiaoS6e+/SjVusLdfMAXX2yJv89XqOWItTPtTe6M23dshsj3HGcG7ZYn2n7cf233j/RG87Sr04DnBrnFQDOCvXwM9LtjdgV+UFXDrdsd3wrWKJdfuQl4mVf2b3d+fVd/Rzv423Tg1wLxs4tnNoL9v620M7FffWu/XV1slC55lmZbgt1delb39XwElZ66idf8/n81y11sPUxjEpmfRomSlfvnd/0+/nb+gpM1Fv9bcHOOfv/IXvzcnpGqF9A447zyfbTa/bUXzlTvbZYl8sS0P22XJdrUyrTCXWgljNDPdKCJEf5YOlAPl82DMsqudlbry/5fMVw+yq6IdTnC4XgBCpfKOgrIvJXtcbcsXvqHWI5MdLhb3cpi/bVykphr7hZ3kpzq4Vicbewam+tR73V3xbamVvZKe6sqesv68EXlCDUzzUJ9Rr988B7J2NL9RlsLKAH1RUD9X+EOlBDc6GeTt0Q6rWshuaMq3X8bLHzCPVzrd5Qb9h7x5mu/wb5C8f5fK2HUAdqI9RTqomGKYTWYV90K2chdAyhfq61LdQvz0qq37SVM43PZnp7CHXgDIR6SjXRMF9d98heOp/bq3Z/uxMI9XOtPNR772fKqVvjvZmMflmV3WLw/uPx8fEnt/wb6Vc/S0Y/K72vPnwt82r8yd2rthq4rKfLEepAbYR6SjXRMAtqhZ5CXmweB/meAoT6uVYe6lckWMuo/WOO87nG7p7ex9IxN57YAXVm5Nvn8CX4W96L3kRPeZc9hDpQA6GeUs00TDBP3XUPKh532zmE+rlWHupqgFsZtXaMF+pVduuVZj6bWek2lx9LaVr9nz8TrveF2vv5g/rf6cjwlh2EOlADoZ5STTXMwoaZbX7srT2TDoT6uRZ1T/2z4wzrgoSs/huEuhK927mjCr03x00uq0x/3H9Hdc29BeUyUr6vuug3JOw/R02QkxcQ6kANhHpKNd8wSyWr+aUBoX6uSah789T9NWJCqT2t/1YNdW+35LX/7ssqru9IPquThSvy4unLevugBLzttV+ecpy7pliCUAdqI9RTioZBSkio+0xU69TW97wHgyQvC/Xy3S8c56Etar1+al+WXvkHXZK++ytdEHISMGWLYfLfQKgDNZAdKUXDICVCoT7tXRGX1NZ/h6uGuv4b2i0d80/hce53JbTtp92UT9aj3T+FFpqVt0atNydbCXWgBrIjpWgYpESVe+r67+XaoR7a3ftByvfHhBns/j70nFbZpZ/oMht+zJv03yvntRHqwBnIjpSiYZASUaEu8av/hpI8HOoRu3v6/SltugMuFT+zpRc/Ln+kcz5rNijSbY9YmEbeTqgDNZAdKUXDICUiQt2/rB4d6lG7e654l/FnVairq+t+r/ymeVn41dHnEoQ6cBayI6VoGKRERLpK/L7XhStBDpfme+Vu6Zq/uuYH8lVJZ3/K2jXH+SR/VNCbDcpnLr8DTSA7UoqGQUpEhPotb5i65LA3Rj0U6hG71S318BS1fklnM49N3LWvl23BPfWSio9QB2ojO1KKhkFKRIT6Y8d5rAuqc2073NL39kI9Yrf02Wf9nrkyHbpl/sy+/lPom6T37k1xDyPUgdrIjpSiYZASEaEu3W6zqXfWcezS7aGL5xG7KzJaPtVMTg+tOfMi2NbzyjsxKEWoA7WRHSlFwyAlKkNdZbVdhkby25uZJnlrAjxqt7rcrleJVW5clv+TDXaXfIG9Wi9vtCvU3JWefcTVd0IdOAPZkVI0DFJCZa59hmomo2PbjlZXnjjO1LWxu+rKugT4h7Gxm5ejd6sHuTwZ6+3pHct81mn+Rja8uDE4fPOT5Lc9B1DLwb+6deXyDfVgl5IF6KQ/r79ftj+TP+WXDgBYZEdK0TBICQn1gF6/XfLYW8f9inSuhQpltZi7yETvHvysS4bK5GH9vDZtyhvm3q+f0mb4S9NY6ilvAXvNH0CZdmXHYn7BliLU3Nk8Qj2lCPVz7aHNUU11n/slqf1QvatiW089ty+8WWX3oL/4zHvbz/Y++FVoOdhb6lmsws95n+rFBwh1IFp7smNhz3WPbLlCzZ2tINTr8LVYXLPFUotru8XT4vb6nK3HiFA/366oxV0tnb9jY/5sNAnra5kb9u73lRuZu5K21XYPjt3JZDI37KV25crNzN3yW+SXb2Tum68p1W//CzQyHaiiLdnx7cStnts1d7aEUD/Twq4c/G1bCZv/rp7Drhyt2E3xIdQBIBltyI5F6YmrcLDVUjV3tohQP8u6OqGKDPWibhZj2W6LDaEOAMmIPzvWTl33eLNKbtfc2SpCvbYv+5LYx9GhLk2yvig9eWkb9zDuK/CEOgAkI/7scN3Twly+Sm7X3NkqQr2mL3JCdbBciA71He9euuyPvatOqANAMuLPjtNd6fFVy+2aO1tFqNeUd0/WdGhHhbpvTqJ/3ZbjQqgDQDLacJVXqZnbhHod4m+YhY15+d+zQj134LoFW4wLoQ4AySDUU6pNDXN2qO/TUweA84pQT6mOhfqx6361xbgQ6gCQDEI9pToV6tI4p4x+B4DziVBPqU6F+rbr7thibAh1AEgGoZ5SHQr1ZRafAYDzi1BPqc6E+tyh627acnwIdQBIBqGeUp0J9a02rCdHqANAUgj1lOpIqK+57umSLceIUAeAZBDqKdWJUF9x45/OphDqAJAMQj2lOhDqK6euG/2s9RYR6gCQDEI9pZIPdZXpcS8QaxDqAJAMQj2lEg/15bZlOqEOAAlJJtQX7F+DUK9D0qG+dNKOyWwGoQ4AyUgi1JeO3eNFW1YI9TokEuqLO7vfTEllerV77S0j1AEgGfFnx2pBbLvuifq7qrasu65rs6NyZ4wI9doW80IO/p76q7d8l5ZRz2PNLUimH6jNht4WH0IdAJIRf3YcSVD4dI9chbp9mmflzhgR6jUt2MNubKlNkvCujvdvZqNH74wPoQ4AyYg/O/ZtMGhFtWXpyD2xS5pU7owRoV7Toj3shr7Wvum6p7pXvmq3WoQ6AJxLbbjK2zGEem3r6p6HR59lLXwrrOhdcxt2sxEeAREDQh0AkkGopxQNAwBoFNmRUjQMAKBRZEdK0TAAgEaRHSlFwwAAGkV2pBQNAwBoFNmRUjQMAKBRZEdK0TAAgEaRHSlFwwAAGpVYdvx/9m8bEeopRai3W8bRMtSoUaMm/sb89v7NOa+p7GjxSKSp1sKRSFntjz+bWjzHhVpZTcTzQdSoUbsgtT//odmf3jbV/vH//b9i+JTatZaPRJpqLR2JVNbiOS7Uymoing+iRo3aBanF85MdWfvfg9rf/d//z/8R1EQ83xCutXwk0lRr6UikshbPcaFWVhPxfBA1atSonVEb/V/Ctdv/a7gWzzdQo9blNRHPB1GjRo1a7dqjmf8hVOvp+W9LanF8AzVq3V4T8XwQNWrUqNWqjUy8HWr9U6hRo1arJuL5IGrUqFGrUbs98yCGT6FGjVrNGgC039DbjyO2WKrv6e+jtggAANLvevZRny1WqLUPAACkSt/T7I+2GGXg7UR0Lx4AAKTL6OTzAVus4nb2ni0BAID0ejBz25aqUyPjbREAAKTTpYmJuuL6wcxPtgQAANLodvaBLZ3l7Iv0AACgYwZeT/5gi2fr+43JbQAApNT17G8NTVZjchsAAKnU9yh73RbrNfCayW0AAKTOD5Ovm7hHzuQ2AADS5kH27IlsUS4xuQ0AgDQZetf8dfQHWSa3AQCQFvqJbE1jchsAACkx8Hyytblpfb9lmdwGAEDnjWaftzwxjcltAAB0XBMT2aIMvK7y/HUAAJCMkY9xDV6vf4FZAAAQv3szv9hS65jcBgBAxwy9jXdBuAfZn20JAAAk6aeZR7YUFya3AQDQAQPP2/CQNSa3AQCQuHZ1qpncBgBAsh7NtGtt14GXTG4DACAxI20dqM7kNgAAktLaUu9nG2JyGwAASRh62/7r40xuAwCg/ZIZyfYDk9sAAGivvqfZH22xvfoeMbkNAIA2SnJ1GCa3AQDQPg9mbttSEgZeTjK5DQCAdrg0MZHwoHQmtwEA0A6dSNihiXdMbgMAIF4Dryd/sMVEPcgmecUfAICLr3Oj1pjcBgBAjPoeZa/bYvLky5OZRQcAwMX3w+TrjnaWmdwGAEA8On9bm8ltAADEYOjdxCVb7CAmtwEA0Kp2P5GtXkPvmNwGAEALBp5PpmYFdia3AQDQvNHs0xSNUBthchsAAM3p6ES2KExuAwCgKSMf36buLvaPTG4DAKBh9xJ9Ilu9Bp4zuQ0AgIYMvZ1IaXgyuQ0AgEb8NPPIlhoyPDZ2xRZrujp22ZaaMPQu6SfAAgBwbjU5ke3KJ0d8srUahh3nsy02hcltAADUZ7S5qWNXZlWmO46t1tBqqPeMTL5kchsAAGd6NPOTLTXmlfTSr43dfGarNbQc6umbbQcAQPqMTDQ5ka1XOul13ilvPdSZ3AYAwFluz9yzpUZJUk/Z4lniCHV14/8HWwQAAOUG3n5seiLbmOO8t8WzxBLqTG4DAKC6661c0r7pOOO2eJaYQl1NpmdyGwAAlfqeZlt5ItutslAfvnZnzBaVwavyP73X7qptoVAfDr+mcUxuAwCgUpMT2YzLZjabmO1V9cEXZn7b5xt6t2xwnCc9N6Zk0+NQqPeqEfO61KyRj0xuAwCgVGt93qs6wrV+qV5T6W08U3Wd489umA2hUH8hJwHXdKlpTG4DAKDEpYl3Ld2d7r2fkU7350wmc0dq1yS7P9wfG7sr25xX+gWS4+PTzvSTzIeHQag/bj3TxSiT2wAA8MUxjjx0T/2DRLm+Ct+TkVTXq8FLjkuSD+uNXqjLzhgyncltAAD4Bl7GEYpBqEtpymS6XmZOT3RToT5rM92GurwslkwXPzO5DQAA0dJEtkAQ6u8d564pmSvxKuBVqN8ym2yoy564Ml1PbrtkiwAAdKvYBpoFoT7tOF6fvKdHwlwtHmuvuBuqMjYbY6YLJrcBALrdyOTrmKaE+aHeLzmuC9pnx1HZXR7q05L8j201HiMf4/qXAABwHsXYv/VD/UrJIvDvzWX3ip66Gvmu1qOJD5PbAABdbOhdjHeiw6E+qwvaJ8dRC9BUhHqvpP3nQbshJqPZ35jcBgDoSvGOGfdDXT2D1Rv8rm+wR95T7xmWPfYmfGwGnk+2stItAADnU9wBGAyUm3Ic/8L6oL3BXhnqPWqBuYzdEhsmtwEAus9o9mm8l6qDUB/Xa8Eaj4N56uWh3vNQUt1bGz42TG4DAHSZNgwqC0JduuCzehm5np7Ls2bwe2Soq/SfDia/xYXJbQCAbjIy8Tb26V9BqKtlYmdvqsLYdGjt98pQH5ySfnxw+z0uIxNMbgMAdIt7M23oy4ZCXWW51MbVn09qmFyVUO8Zkxf4V+rjw+Q2AECXGHo7MWKLcQqFes/ge5XqyjPbEY8Odf3Al9hvq4vR35ncBgC4+K7P/GpL8br8alw9dtW6mXnz+cOLjL213tPT/2L8oS2WVO6Pj8e5WKyPyW0AgAuve8LuJya3AQAutNHJ510zhozJbQCAi+zXma4aQHaPyW0AgAtqZOLtkC12iXZM3QMAoPNuz9yzpe7B5DYAwAU00J6JbKk3+nvMy+ECANBh17OPujTbmNwGALhQ+p5muzjYfpphchsA4KLopolsUdq0hh4AAIl7kP3ZlroWk9sAABfBpYl3XTaRLQqT2wAA599tVks1mNwGADjfBl5OcjfZGp1kchsA4Pzq3olsUZjcBgA4t1hOrdx1JrcBAM6lkcmXjA0rw+Q2AMB59IBZXFF+4bAAAM6ZoXc8TDxa9z2rDgBwvv3MRLbqGGoAADg/GOZd2+jkcyYFAADOhdEsE7Jr46wHAHAuMJGtHtdnfrUlAADSikXO68PkNgBA2t2bYcZWnX7hUAEAUozuZyOY3AYASC9uFDeI4QcAgHRiSHfjmNwGAEgj8qkZfZwJAQBS59cZriQ35XqWexYAgDRhzFfzGF0IAEiT2zO/2BKacJvJbQCAlBigq9kiLnQAANLhevYRI+Ra9SuT2wAAHdf39HeGb8dgdPI5y+sCADqKLIoLk9sAAJ31IPuzLaFl17OPbAkAgKRdYnxXrJjcBgDolNvZB7aEmDA3EADQCQMvJ+lWxo7JbQCA5DGRrU1YbxcAkKy+R9kfbRExY0IBACBJI5MvyZ22YXIbACA5D7KsVd5WTG4DACRj6O0EY7najOX0AQBJ+JmJbEm4nWVyGwCgvQa435sQJrcBANpr9PffmMiWlAdMbgMAtE3fIx4QmiQmtwEA2mVk4i0Zk6i+p9zsAADEJ4jxX5jIljwW7gMAxOaHCVvgCWKdEZ7cxnh4AEArXud+1X+vz5i/SNzt7D1T+DH3kykAANCE0VzuT6MsXNpZdnLbQDb30WwAAKAJH3O53GTf6ORzbux20oMZ6aO/lLbgAjwAoFk/SY7kch+ZL91pclp1TzVFlpMrAEBz+iZ1qOcY9d5xfaqfLuztdQAAGqQ7hyLLeqUdN0FTAABa0Jc1QZLLvbZb0Cm/2pbI/WY3AADQCD9IuADfaaN/sg2R+xNddQBA44b8IJEouWQ3ohP6frftIJ7bbQCAC+CPpPyLCZF/++u//Ke//L3dFj/7r0Ito7+982+F5H6wGwEA558Nw7b7D//+13/953/8B1trG/uvugjsv6hd/vJP//yf//pfc7n/YuttZv9RAIB2+uMP22O7CAj1Rv3dX/7j39pie9l/FACgnQj1tLpILUOoA0AiCPW0ItQBAA0i1NOKUAcANIhQTytCHQDQIEI9rQh1AECDCPW0ItQBAA0i1NOKUAcANIhQTytCHQDQIEI9rQh1AECD4oqO1cLu1tq8rdRhqVD4YouVonbOrxeWbbEqQj2lCHUASEQ80fFl31UKtlqH7ahXL+Xn9N+ond9ct2iLVRHqlXZdd8kWG1XzrVE7C667ZoulCHUASMSZ0bGwV9yxxerkF175bqtRFr7tSPIf7tjufFRuy7Ztr0CoV2uZL3ljwdaVjeJuteseRdfN2+LZ5vKFQmHd+6iot/rfFLUz8kxNIdQBIBFnhnpewtoWq1py3dMViZsa18fzxyb3XfdkQ9Wjfv8PJPR1gVAXVVpm2R5G1z1YN9c1crl5qUWnaUOhvrBjPtg9Mp8c8dbgmwh1AEifWEK94Lp+b37LPYroNG7qsDg2yb4pG6J+/2Xbvlcg1Ku0jBxr36E90nOnDYb6t8KqLYUE513yyeo6QMRbg28i1AEgfWIJ9e+hH/OjqBBRXcCDr4tS+rJ9qsM58vc/b99JqIvqoX6Qz68VCodyTI/tNfi14nYjl98Xo9pUnXed7BVWvhXUAAl1OSXqrf43EeoAkD6xhPqe636zxchQ/yqfsetdK/6yr3r1VX//FUJdVA91exzW5KiaMQi11Bvqqo28nv+XPX38o97qI9QBIH1iCXX5ga8Z6geuu2eLHkL9LGeGujrsJ7ZYXb2hLm20H0xJXFXxTqgDwDnTVKh/+VrYLXjDrxfzeQmETT0eW8rHrrsu5fCYuVX5iPLpT+b3f2H1+6bOD21hfd18Zkk4LK9vFyQ+CHUjFOrrclzDY+A9X/KhBQO88F0ObYsIdTm8FW0U9VZfaajP6/Ym1AGgs5oI9XlvkLT5AZdfcuu7ug7vCaXNoevu2qJP//5vmJeuh7eVFHK5JTN66/ALoW6EQl01jXcWdOKdGq2qe+3GobrjocN3ee/UdY++mzsgZk0BJWiVOTnMFW1U+dbQN4VCfX5bfWcxH263UoQ6ACSi8VBfUr/gh0X5qXeL6qc+CPUtPSDOCvXu5KUrtuiTd23Z2e1mOLzZVh7qq+prlFN5MaEuQqG+5l9+9xN2TkoBNTJR7VJdeuVAbVDNYR2pqvZFahVryVS+NfRNfiH35ci+Zp1QB4DOajjU5yTTd1SYr5yYPva8f/l9TpXt5Xf/mrq52FsRGPpU4LSwkFuRzzstu+ruFxYkgA5W53NfdfeTUBdBqM/JYbe9az9ht1z3+Fs+X5Djtl3QCwLILnndQWFT/tesDrRekFe5BeEPhFDD5E5tMVD51qhQX5D/PzjdLWxKw8u3EuoA0EENh7p03ezv+5IEiLkqKz/wNQbKrcgnVNyVVaF+om/EzksalGW5X9iU3qTuIs7LVxDqih/qaqmY07L+s5w/HetDLSFthyaqA2cWb/3unz1V3lOXVjXr/oRFvdX7pqAgZwgn6pxtTp0qEOoA0EmNhvrcsffzrmeymTVM5Ae+RqgHV4lDJLd1FAgJA7N0TUWoqzu99oNVt5RQFxLqR9LJ3lL3P068uxpewq76tzKkGUzgq2Q2L5uTLrU5mpWhLqldPj8h+q1+lnsFdTHFrmQj/2mEOgB0UqOhLt1zs+qbkH60vsKrfuBrhLrqbttiwA/w0Lj2ilBflg6iN0KLgXKGSk5r2/bTg4SV8yMbsLuh8PUGIkrX3rRXZajL+Vnlwv1Rb/W+yS/IKdux3iBkG6EOAB3UaKh/dd3dvCURYpJAfsxrhPp6lZ669/sv32BCvyLU5cv8ICfUjSDUj4LRh17CyvmTjWFJaXMhxE9hvXdLFypDXV5VuY5N1Fv9bV5B/nv804FQo5Yi1AEgEY2Gup2F5jFJID/wNUJdrVUWdU/97FCX0wF/TXlC3ZAQleOwpIcO+qnuJax0m83QOXVR3B/v4LWHvNW0V2SoVx7dqLf627yCtJXpwwtCHQA6q9FQ/y7VENMvlB/4GqG+JK+LGv1+dqiHe4GEumFCPacnr3lLv/sJu3BsRrbNS0c9GCjntUeNUJcjXnmLJOqt/javIH/9tifUAaCzGg11+XW3Q7FCwj/slaE+J59Q8VCwukJ9w4sSQagbXqjrADeXxENRq0agH2zvya4TG/j+rpqhri7A2GIg6q3+Nq+wT6jjIuq9mblsi8B50mioS7b6V8R98gNfI9TVpgNb9NUV6uEgJ9QNP9RVyRtG6CXsl1M1V1zZ99bpjUrmylBX0w6/2rIv6q3+Nq+wEwpyQh0XRsZxHtpinfpvZsS1flsFOqPRUJeqP/rdJz/wtUJdrUpWnhh1hbrsOWH0e6kg1NV9cz2LPJywJwtfN4u7ocelRyVzZairyYMVJ15Rb/W3eYUtb48g1HFhfHCcxnrq96cdY/yK3QJ0QqOhviDVihvk8gPvh7qUy6+168Twbv/KR6iAryvUVWzZwWDzcrJAqIsg1FUn2Qaxl7BH9SXzvDSid7JkRZ14Rb3V3+YVNoIpbXP7hDpS7uqr8UCN9B10nPe2WJ+7Euefx8dVqj+zm2q6+UxOG8Zf3bRVIC6NhrrqmRXLx7LLD7wf6pI0FTfd1WPaju314LmNE7V2WV2hrmZbH+gvW1QrlRLqIhTq6pp56bw1OfNZLUvrqGTOnbhuaB1fRa3+e+qfjS0V1fGPequ/zSuoEy9zNjCnHudDqCPVXqnU9dyyGyPccpw7tlgf6afry/VXHk490Rtqujll/xOcN8N2ExCPukJdrROubEhgqPFZR19Vcix82wueJ+KH+qbrnqzmFu11YUv93J/uFVby61uSJ6o3WV+oq9gqfp2bWz9x5X2EugiFuspwf6EAnbBqbsJpUewWvtlwj0pm9fB0b4ydR008dLf0S5flxEx9btRb/W1+QV6s1wZc1E9/I9SRaror7blhN0Z44cz22mJdpGfv1H83/Zr++k+z6n8/NPQ9wFnqCnWf+hn/KvEqHW/VdfYeAiI/8H6oq56b4q92puhOnEcvblpfqKswMQ6/EOpaONSlbIbK+QkbmnF4bPrdUcmsB7vvF4oly71/Mw13oJ+do9sz6q3+Nr/wRf3/w35BPXIv1KilCHWkhIR6jf554JNTR387ZFjiuf576bcc55l69WV1jpEx24B4nBnqczakNX0JXT1JxDi012vlB94P9dyqDv3Tskv0/mO+T7b03fU6Q10tp6LszucIdS0c6mrAmz7wXsIuylHeKmwXi8ey51RvikpmfblFmMPu+RI8aP1IX1CPequ/Ldi5pBtcWvartCShjlSrN9Qb9kn63HV31a+8sIPwej/I20wRiMeZoZ5btIvCKt6mlcLO98I3vzO+VPgWyvCF9UKhUHbLVnzZUFfw/Y9YX/eGzs19K5g7w/620M7c3MrmbkGdTKxEfGaZbgj1laK+321sFos61OWvPjjBpPEve3ZxOW+XkLd6a7nPfz+S6C69RyKd9R11BnewbUfMRb3V3xbaubQp33uyuZBbKBbLB0kahDpSom2hfkNdT2983Psdp8Hr/MAZzg71c6QbQr0WtTC/Lap1/CpX3O8UQh0pURHqYxV0xt7KmIC220JsBPfeyDx+k7kTxPitacnn+7biuXrr4YvMWI2xcGNyLjBoy0AcCPW0aqJltkK3QSTUK5+Q3imEOlKiPNSvSqiWUbPMZPPnGrt7eu56w9c/39X1np7LH1T1TfgS/Jj3osdVO+Mq1G0RiAWhnlZNtMxmaK388KIwHUeoIyXKQ10NcCujxsRL1upQr7K756EqTekYd66qDT139VB2eVvQd9cvMqpemL8p+2wRiAWhnlZNtIyalralRzosqolm3j3vziPUkRIVl9+vjqn+9E19ZV3SV/5XbfVCvcpu1YHPqD758N3Pjt6i1p55M/xY/nfay2+16Ykk/pWMFKqNhnvT8Gq0QG2Eelo10zLbehh6Uc80OC1fIK6DCHWkhIT6K7VEu/Cum/d8dhxz19txZvXfUKiLiN0S0y9sseeWuiWuJp6r++k3pb/+2dwj75WTAXuL/ZpsjZ4Tr64EmJ4+EBNCPa2aapk1b+bgqZk5mBKEOlJCQt3nDVDzUrs/SPKoUA/tfubntaEC3HS4VX6/0qWHoe659OCnbLGUdNTf2CIQD0I9rZpsmaX8t8KGP/kwJQh1pEQo1Ge9MW2S2vqvdJurhLr+G9p933Heh8e+3ZDQtvU78sn6AvyHUO/8imyMmsR+03GmGfuOeBHqaXWRWoZQR0pU3FMXXmpfrh3qod2Dsu39zWCm2vvQnXHZpRejky57kNdSiRgqNzzd6ArzwJkI9bQi1IHYRYW6JK7+K0nujUQPh3rE7p5h78EwZuUYCedreruQXvy4/FGLwZsNiiR95U31funM+7fmgZgQ6mlFqAOxiwh1iV9zwzuU5KFi1O6ewWc60oXqjasA93vlN83LvJnuRtS5RK9s5GkuiB2hnlaEOhC7iHSV+DU98OhQj9p9ZUryOKMmuumL6rLH8dPZvuyybDMbFOmp+115q/eNfEbdq8UD9SLU04pQB2IXEeq3vBHoVyJDPWr3B8d5bIuK6qn7N9jv2NfLtiCyS26wayrTP5HpiB+hnlaEOhC7iFB/bEe26UnjtsMdCvWI3aoXXnLdPHxPXV6vAz98G13OB7wp7p5X8g3BSDsgNoR6WhHqQOwiQt3f1C9ZbR+JKgHupXDEbon8aV3wSM/dTE6XXvuUff2L0BR0SXBvv/WMTEebEOppRagDsasM9d5guplks11mrlcC3GRu1G51ud1fB+7yoB4c59iuuqS1WXNGzU2389Vk96w9W7DkVdOlW4CYEOppRagDsZNQf6gXclf0be5rQbdbovZT/6Bey136288Ge64ORu/+JBvvqBvi/Tdf6bXlJO+du5LSV95IwZ4DqFlvT+TVeu338C1486gXb7XaTMY89w2IB6GeVoQ6EDsJ9YBO2hcS33qXGcUuVBddPY1F3I/efUW678J8mOqOX5WTAGvay+jh93aLeFY6JE5OCsLKxtABrSDU04pQB2L3xOaopkK9X/LZv5SunrJmMlYNThe3quy+6i0+40yZZ6X3Szdeex+6qu49e3W6/Da++XAfoY4YEeppRagDseu1V941nd53MqG13sYymYzN8BtSvNVbdfflO5ln45n7fuD3DF/LvHh4s/RG+eDY/WeP7+jr+SWG7X+AEXwG0DpCPa0IdQBAg9oRHYvrxVP3tPj9i61X+HZwsGmLsSLUz7KwVigU8ou2VqbmzpYQ6gCQiPijY37bPtLbPd2wm0ot7sm+oq3EilCv7eu+aRh3c85uCam5s0WEOgAkIv7oUJHtHhV1PqzZbWEbp2oPoX6W+FtmR7eJdlgR3DV3topQB4BExB8dB+7BN5UKX0+kr75gtgWWDyQ1pE9IqJ8l9paZlyO/t5HPbxxLYctu9NTc2TJCHQASEX+oF77ZwleJh/Ku+rx004tL3wj1s8XfMu6uuV8+r06s5nUxUHNnqwh1AEhE/NERkHgo7/MtuseruRyhXof4W8YfArcsub1sy56aO1tFqANAItoZ6tuuu22Lnrl11Qkk1OvQzpY5cV3vekqlmjubQ6gDQCLaGR07rvvdFksR6nVoZ8sc1crtmjubQ6gDQCLaGR0Hrhs9qY1Qr0M7W+bUdVdssVLNnc0h1AEgEW2Mji+u60avZEKo16GNLbPsuqdVx8LV3NkkQh0AEtHG6Nhy3X1bLEOo16G9LbNri5Vq7mwSoQ4AiWhfdCydum7elssQ6nVoX8ss1rrAXnNnswh1AEhE+6Jjv9owOUK9Lu1rmT3X3bHFSjV3NotQB4BEtC06tlz3qNpyo4R6HdrWMmuue1Kx0p+n5s6mEeoAkIh2Rce6655WXcKEUK9Du1pm5dR1V225Qs2dzSPUASARbYqOqCViA4R6HdrUMksnNdZ2r7mzBYQ6ACSiPdGhOnwFW45AqNehPS2zeOS6e7ZcoebOVhDqAJCItkSHyvRNW45CqNehLS2jY7vaUIeaO1tCqANAItoRHcuS6eWLvpcg1OvQjpbpUKYT6gCQjDZEh7oxWzPTCfV6tKFlVGzv18r0qjtbRKgDQCLijw6V6WU3Zhe2i9/DcUGo1yH+llGxfVC2AuxS3m6I2hkbQh0AEhF7dMwdu+7pZsGjF3/fcP2JUkt5sSn5of5GrwzfPEK9lrnDytject1jfboVtTM+hDoAJCL26MhLgIfoPntBCvZpnqdmsxH3SGtCvZZv9qhbX9W2ohT0qVXUzvgQ6gCQiNijY9nGgqVzWwW9XQaeUK9X7C2jTq1C9JTDbSnoBeSidsaHUAeARMQeHblldWHdZ66wLxe8rp++/O7h8nsNsbfMl2IJfZaVPzg0j7yP2hkfQh0AEhF/qHcQoZ5ShDoAJIJQTytCHQDQIEI9rQh1AECDCPW0ItQBAA0i1NOKUAcANIhQTytCHQDQIEI9rQh1AECDCPW0ItTRnTKOlqFGjVoTtT+b6PgbU/sbXTnftXiOS+drEuotHok01Vo5EtS6qCbi+SBq1Lq0RqintUaoU+vCmojng6hR69Lan//Q/nxxavEcl87Xqv37Yqv907//X3/b+qfUWWvlSFDropqI54OoUevSWjw/2WmqxXNcOl+r9u+LqfZ3//pv/+DX/s+/L9mnK/HWWjkS1LqoJuL5IGrUqFHrotp/N/l8IKj9j9lfQvvi+QZq1JqoiXg+iBo1atS6qPa//RyuZUYm3g418SnUqMVcE/F8EDVq1Kh1Ue2/KanJvgcz1xv/FGrUYq4BABpze+aBLYWNmgvyAADgvBh6+3HEFkv1Pf191BYBAED6Xc8+6rPFCrX2AQCAVOl7mv3RFqMMvJ2I7sUDAIB0Ofu++e3sPVsCAADp9WDmti1VZya3AQCAFLs0MVFXXD+Y+cmWAABAGt3ORk1ki8LkNgAAUmzg9eQPtni2vt+Y3AYAQEpdz/7W0GQ1JrcBAJBKfY+y122xXgOvmdwGAEDq/DD5uol75ExuAwAgbR5kz57IFuUSk9sAAEiToXfNX0d/kGVyGwAAaRH9RLZ6MbkNAICUGHg+2drctL7fskxuAwCg80azz1uemMbkNgAAOq6JiWxRBl5Xef46AABIxsjHuAav17/ALAAAiN+9mV9sqXVMbgMAoGOG3sa7INyD7M+2BAAAkvTTzCNbiguT2wAA6ICB5214yBqT2wAASFy7OtVMbgMAIFmPZtq1tuvASya3AQCQmJG2DlRnchsAAElpban3sw0xuQ0AgCQMvW3/9XEmtwEA0H7JjGT7gcltAAC0V9/T7I+22F59j5jcBgBAGyW5OgyT2wAAaJ8HM7dtKQkDLyeZ3AYAQDtcmphIeFA6k9sAAGiHTiTs0MQ7JrcBABCvgdeTP9hioh5kk7ziDwDAxde5UWtMbgMAIEZ9j7LXbTF58uXJzKIDAODi+2HydUc7y0xuAwAgHp2/rc3kNgAAYjD0buKSLXYQk9sAAGhVu5/IVq+hd0xuAwCgBQPPJ1OzAjuT2wAAaN5o9mmKRqiNMLkNAIDmdHQiWxQmtwEA0JSRj29Tdxf7Rya3AQDQsHuJPpGtXgPPmdwGAEBDht5OpDQ8mdwGAEAjfpp5ZEuN6B+7k7k5aCu1XB27aktNGHqX9BNgAQA4t5qcyHb1kyOme221BnmZLTWFyW0AANRntLmpY4OzKtMdZ9jWa2gx1HtGJl8yuQ0AgDM9mvnJlhrz2HE+jPVcud/+nnoKZ9sBAJA+IxPNTmSbcpwxWzxLy6HO5DYAAM5ye+aeLTWsgaSOIdTVjf8fbBEAAJQbePux6Ylsw47z2RbPFEeoM7kNAIDqrrdySXss8VBXk+mZ3AYAQKW+p9nmn8h2deyu40yNjfkT0PvHMplrV2xFXBkblo13M7fUPPYg1MfGLttSU5jcBgBApSYnshmDEtOWXnxm8JWtPfTGwjvOeM81Nentla6YUO994zizutSskY9MbgMAoFRrfd5hneCamqZ+Y9pWHOeD7YlLqI/pDeO6YkL9mWT6NV1qGpPbAAAocWniXWt3p/3L72pW2w0J7fe3rg7feCyFD+YFjvNp2pl+mHnxUFd0qMvuVjNdjDK5DQAAXxzjyEMD5T44zgtz2f3GrOPc1CXJceezt9icCfX7sWQ6k9sAAPANvIwjFINQl476lHcrXTrjU7ogOT7rj4nToX4rpkwXPzO5DQAA0dJEtkAQ6q8cR11j19TNdj10Tv7e0VsUFerX4st0Pbntki0CANCtYhtoFoT6p/B6sV5Fd849Urk6G2OmCya3AQC63cjk65imhAWhPht+Utu449xSf8tDfcpMbovPyMe4/iUAAJxHMfZv/VBXV9x1QXvmOBn1tzzUb8n/3bXVeDC5DQDQxYbexXgn2g91tRCNvo2uvanSU9dz1L3l52Iymv2NyW0AgK4U75jxksvvwfqwnxxHR3dFqPe+lzf02w0xGXg+2fxKtwAAnFdxB2DJQDndOVf6JeG90e96g6Yrw9Nx31YXTG4DAHSf0ezTeC9VB6H+wqwFq931lpSrDHW98Nx9syE+TG4DAHSZNgwqC0L9ioT1DVMcnvKKEaGuVqYJTX6LC5PbAADdZGTibezTv4JQV111JzPc09N7c9rvtEeFurqtPhWMqYvLyAST2wAA3eLeTBv6sqFQH/wkqe1MfVD/+95OWbc5bniVQenI+1fq48PkNgBAlxh6OzFii3EKhXpPr7qwroWepx4R6upN8d9WF6O/M7kNAHDxXZ/51Zbi1ZvJ+GPee3qu3Ho4Pp656T/CpeduJhTeQeVaJhPnYrE+JrcBAC687gm7n5jcBgC40EYnn3fNGDImtwEALrJfZ7pqANk9JrcBAC6okYm3Q7bYJdoxdQ8AgM67PXPPlroHk9sAABfQQHsmsqXe6O8xL4cLAECHXc8+6tJsY3IbAOBC6Xua7eJg+2mGyW0AgIuimyayRWnTGnoAACTuQfZnW+paTG4DAFwElybeddlEtihMbgMAnH+3WS3VYHIbAOB8G3g5yd1ka3SSyW0AgPOreyeyRWFyGwDg3GI5tXLXmdwGADiXRiZfMjasDJPbAADn0QNmcUX5hcMCADhnht7xMPFo3fesOgDA+fYzE9mqY6gBAOD8YJh3baOTz5kUAAA4F0azTMiujbMeAMC5wES2elyf+dWWAABIKxY5rw+T2wAAaXdvhhlbdfqFQwUASDG6n41gchsAIL24Udwghh8AANKJId2NY3IbACCNyKdm9HEmBABInV9nuJLclOtZ7lkAANKEMV/NY3QhACBNbs/8Yktowm0mtwEAUmKArmaLuNABAEiH69lHjJBr1a9MbgMAdFzf098Zvh2D0cnnLK8LAOgosiguTG4DAHTWg+zPtoSWXc8+siUAAJJ2ifFdsWJyGwCgU25nH9gSYsLcQABAJwy8nKRbGTsmtwEAksdEtjZhvV0AQLL6HmV/tEXEjAkFAIAkjUy+JHfahsltAIDkPMiyVnlbMbkNAJCMobcTjOVqM5bTBwAk4WcmsiXhdpbJbQCA9hrgfm9CmNwGAGiv0d9/YyJbUh4wuQ0A0DZ9j3hAaJKY3AYAaJeRibdkTKL6nnKzAwAQnyDGf2EiW/JYuA8AEJsfJmyBJ4h1RnhyG+PhAQCteJ37Vf+9PmP+InG3s/dM4cfcT6YAAEATRnO5P42ycGln2cltA9ncR7MBAIAmfMzlcpN9o5PPubHbSQ9mpI/+UtqCC/AAgGb9JDmSy31kvnSnyWnVPdUUWU6uAADN6ZvUoZ5j1HvH9al+urC31wEAaJDuHIos65V23ARNAQBoQV/WBEku99puQaf8alsi95vdAABAI/wg4QJ8p43+yTZE7k901QEAjRvyg0Si5JLdiE7o+922g3hutwEALoI/EvIvJkT+7a//8p/+8vd2W/zsPwq1jP72zr8VkvvBbgQAXAA2DdvtP/z7X//1n//xH2ytbew/6iKw/6J2+cs//fN//ut/zeX+i623mf1HAQDa6o8/bJftAiDUG/V3f/mPf2uL7WX/UQCAtiLUU4qGAQA0iuxIKRoGANAosiOlaBgAQKPIjpSiYQAAjSI7UoqGAQA0iuxIKRoGANAosiOlaBgAQKPIjpSiYQAAjSI7UoqGAQA0KqbsWCsUi4UFW6nDl529FVusFLVzrlD4ZotVEeqV5vLLttSwmm9t6HMJdQBIRizZsbDvKt9ttQ4F1922Rd/cyqo5LYjamXfdI1usilCvtOe6q7bYqJpvjdq5Vu3/BQh1AEjGWdkxt+8ezNtyVbuS6IcHlUkcsrB+oHL/cGtJV6Nye8d1i7pAqItqDbNcEBv5vDmOxvrRYbXrHkXXPfMKh29xrbD7vbAyZ2pRb/W/KWpnVLtphDoAJOOsUF+UJF605WqWXPdUfuoXqr9ubuNURbq2q84Ron7/pfN3rAuEuqjSMF/sUZRj9d073nMnrrtjy+UaCPUlea2xra+YRLw1+CZCHQBSKI5Q/+a6e7aY23bdvC0G5iSvxX5RMsGkQtTvv2wzgUGoiyoNI8fad+JdAD9y3S1bLBcZ6muFDdsbD9mwn6qcfJENUW/1v4lQB4AUiiPU5ce8YIvRIbIjH3Kgs35+/UiHc+Tvv9fVJ9RF9VA/zos1dUxdew0+/73qIMXI9ohq0++y8WR7LZ//9l1OvVRyR73V/yZCHQBSKI5QlzzYsMXIH/tl+Ywdr2s4t7Ur/1v1918h1EX1ULfHYeXUG4NQS72hLsfXPbQb5zb1gLfIt3oIdQBIoThCfTv0Ax/1Y38QujxvEepnOTPU1WF3K6+il6k31KWNisGAyKVql999hDoApFAzoZ7f2C5ur9t5ykuFggTCbqFQyKuR2UemHL5n+1U+onxwtvn9X1rf3Sv4uxYLBfOZ4XBY+LpZ3F5bJNStUKivynENj4G35vP50KgGG76y0dS1yjZVbVT+WZFv9ZSG+pe8uihPqANAhzUe6vNm1Jvr7uie3ZatqWvBqu9ohZYmkd//A1v06d9/+9ZdewLgZ0IoHJaP9UtOvhLqRijU1UB41aPWYxa+6kIut6bHImqnqt10+Ob1dMKiaUezpoBi5hpoh5UXUyLeGvqmUKjP76rvPFwj1AGg0xoO9SUVs8WiioZD1T0LBk3v5DZtSQTvmTt13TVb9snv/67kgqFusptt5aH+Vc2EO1GZsUuoa6FQV71rcz7kJ+ycf0wVdWKldsnx1I71KYDkt3Wiqtq81LzTAl/lW0Pf5BdyS0f2NdvS/IQ6AHRSw6EuPTc96G1RYt3Oo6p9T31JPqFiaRQdFqfrc7kFtXBN2YI0fmFOTiAOJJrMDGpCXQShPicNYE+H/IO+JXu/zi+synHbK8jR1bukUlxfU6Pb9ctXC+rgbxXC6+6qNqoYP1/51tA3+YUFOeU6+f51TTYIQh0AOqnRUF/3f98XTt1TEwS1Q111KEtOCxSVKycmy+UswSwuWhnq8mVH/lcQ6oof6l/25KzI3gb3DvqCbNLH68upe+R34t1TvXNNSvb1FS2yKi+yxUDUW/3m9Qsb3n+G/JcR6gDQWY2GuvTdbDKomWzrulA71CURKgNDcttmutpftjqsX5Av8y7cy3cQ6kKi87Qo1K3uE+8CiHfQV/xU3fWujqhkti+Tt5j2qgx1SeZDWwxEvdVvXq+gLqbYNlKpTqgDQCc1GOpfQtkqP+Lm+nvtUJeIDo3Isvzc1pPVTKBUhLp0PP2LwgyUM3R/WDvd8i+Yewd93Y/tzVD4egsDybZNU5J3l4a6tGDllPeot/rN6xW+yn+IHeioLv4T6gDQSQ2GuvQF99WCZop078yI6dqhrmZeeT/7vlCo++cJFaG+HApyQt0IhbrNb+Ed9DV/FaCdUE/daw9pL3vM5d0Vob5vi4Got/rbvIKcR/jLzocatRShDgDJaDDU5Tc8zHTvaoe6Wk/Ojp0OhH7/5RuqhLoEmN9/JNQNOSbqOCyreYUVy/jJQTKTBxdOXdcsJRNqD3mrPeby3tJQ/x51NSXqrf42ryC9c3/ZeUIdADqswVCX3+0wcze1dqir6VLezV9fXaEufwn1MjbU9RVxb5xccNAPXHdzTjJdNthp56H2qBHqqlkrrqZEvdXf5hV2Q+v+hxq1FKEOAMloMNTXQldbfbVDPXcS6lN6Qr//1UPdH0InCHXDD/U5CXA7DyE46CqcT/QaAsf2hntUMleGupqhUHE1Jeqt/javsEeoA0B6NBjqK1Ejqs4Iddl0XN4NrCvU5cv8ICfUDT/Uw1MFvYO+eOrapWX2vIgOtUeNUFetbAfRBaLe6m/zCt+9CYmCUAeADmsw1KVaefP1jFBX6RMM6jLqCnW1JIr33eGAr6a7Qj30FHXvoG+57sJioVBY867LRydzZair6/YVJ15Rb/W3eQVpK399WUIdADqswVBXU8cr1hMNh7qUK661SwAcBzHzRd2IryvU1RxoezYwLwlGqItQqG/4QewlbLG+ZFaNWHaxPS/NHG43Ncou6q3+Nq+glq2xT3dTa9R6jVqKUAeAZDQa6uuue+gHgr1vGw71zVDPzaN63GZpMnlL4VSFUl2hrj7sRH/5ovQkCXUlFOpqGv+qLnkJq1K1LK39FA6HuhzN8jMztVqvf3N8+UC9MOqt/javoE68zPvm1IB8+wVlCHUASEY9oa7WCdckxNX4rNN19TDO5Y1DO20qHOpr8vr1fL5ge2+GhLOcC+xsfCvsnpqlZuoLdfXlh+tflgon7vEJoa6EQl0NUjOzy72ElZ3KabG4W7BnYpGhLm9UZ17+4jVCnXi5xVU5JVhcld3qhXWFun7Unjq1UM8C8L+gDKEOAMmoJ9R96sd7KXjKlzcXOhzqquemlD6De8VuVY7VrvpCPbeqntKmHCweEepKONTVYAV9W8NP2A1ztLSyJeDCoa7eeFA8LFm9dzncrnquYn2hLg1jR9yfrAeNWopQB4BknBXqoSd12unmc7rfrezba7jhULfhYB/14pvfsfF8aPrwwepmQaj720I7l81zPXfmcoS6Fg51dQKlo9tL2C9q7Jy6pKJ7zXo4QmSoq62idEn+eWlG60A3dNRb/W3BzkX7/yFHX6QlvS8oRagDQDLODPU5uyisYjfl8qsSHHn/CvtCPiirN6wXVssGVwu1eSPv3fGdz+f92F/Om1F0/rbwztzit8KG+rQv/nur6oZQ/1Is+iu45daLRb38j/zVh1Di1T5cZU4SWi8u5+0Sy/bVSqF4dFIsv6++vL5VPN0vbtk3RL3V3xbaOb++c+Tub8zn5naDLyhBqANAMs4M9XOkG0K9lpVgORq9jp8tdh6hDgDJINRTqomG2QitICOhXrmgQKcQ6gCQDEI9pZpomG+hZ61thXrtHUeoA0AyCPWUaqJhvriuq2+Uz63suu7pmWMQEkOoA0AyCPWUaqZhpKvuO61Y+K9zCHUASAahnlJNNczKjo30E7VQUGoQ6gCQDEI9pZptmOX82mp4hmEaEOoAkAxCPaVoGABAo8iOlKJhAACNIjtSioYBADSK7EgpGgbnzdgn574tAugQsiOlaBicNy8c56Yt1qc/88kR7x+P2Q0AWkV2pBQNg7S4MhbotduiTDvTtXZXGJ5Ska5l7KbaLt/MZK7V/E8Auh7ZkVI0DFLioQ1erUZXfMxxnthifcYdZ+rW2Fjm1azzzG6qof/uZ/Of8PmG3QKgEtmRUjQMUkKyN3DLboyQcZwrtliXXvk484b+O9f031oGP5j/AKW+fj3QlciOlKJhkBIS6q8ynmG7McIH54Mt1WdY4rn+S+k3pVv/cGxsTF03mG3o5AHoKmRHStEwSAkJ9Rr988CdTGPj3fpnnQZGy9+YumsKku7OY1MEUIHsSCkaBilRb6g37JnE8x1bboD897yxRQDlyI6UomGQEnGGev9VW1D61YS2F/22Fui9bAvRHjvOZ1sEUK5N2bHUiUeKEOopRaifa+WhPjheQd3jHvxsxrBX2S1ZfVePdZt6dcu7k94rH+1MhXO+p+fOGzXIffxZ9Zv3L2S3LQIo14bsyH8/Vk//LFZ9oPfGqVu0xVgR6mdZLmwWNwt5WyuztLFZLKwv21qcCPVzrTzUr6hoLqX2j9kOdJXdPZeDWelTg2pDT7+6/i7szXJlUMW8Nl316oCE/kNbBFAu9uxYLOoHeit7c3ZbiS/7suvIVmJFqNe2rk+2RPGL3RLy7cju3Iv/SeyE+rlWHur9b8bHZx3nve6ES/zK/6putRfqVXb3SxZPP75zI/Ns2nH0iLph1SVXtWCW+mWpTb/JZF6prVWSO+M4s+akAECl2LNjW3Jhf7uwdyp/t+y2MOmmC0L9LPGHumoZ66QiuGvubBWhfq6Vh7oieWyuj0v46r9BqCsRu2/Jbnv7/NZndcW994PjfLraM6yuyXuj2V/Ji/QN9X750sjoHla9+6qdeACxZ0fR3VpUf78cSj7oUtiybD3dI9TPFn+on7hHG0u53JIc/srbH3Kqtfstn19Vl1H27LbYEOrnmupuW/4ysKHUntJ/q4a6t/tJ+ZoxL+T16kW9b+SDTUxfDZJcRX7ZMnPXpM8/K6/9wIpyQHWxZ8eK5Ia2LPGwass+yY69xTyhfrb4Q31/w94OUTdIygcyHu/aS/Kqy+41YVwI9XMtFOo2qnVq6273cJDkZaFevvtx2exytfSMHUD3XqJfny1IvPuvkZ6918m37B34T3drD44Hulv82eE7cd2CLfrcw5VcjlCvQxsbZqVWbi/Izm+2HBdC/VyTUPdWlPPXipHU1n+rh7r+G9p9Q3rh4S62hLw323xQ+t96sNyU4/iBrRaR9U4hjJu2p+44D3mmC1BNG7Pj2HXXbdGnx1YT6nVoY8MsSm5XGQEvDiPOxVpEqJ9rUffUJX7136vSc9aF0lCP2K0GuDmfnvlnBpL7/qe+ktMG+aNyPIhr+YyoFequqav16tUAorQvO1SXL3pWG6FehzaGuhx/N2L8u1V03Q1bjAuhfq5FhLrE76wuhJI8VIzarfvqhrptHjzNRdxy9LLxlx1n2mxQPlQbEHdf3hq9B0Abs2PLdY8j57QR6vVoY6hvVm0Z5ShiKESLCPVzLSLUJX5NWEeHetRu3VN3Po2Pj79SvXE1m93vlV8zL5N+fWmoV3nOq/wHsU4sUEW7smNuQ7qDVcKBUK9D+0JdddQr7ov4vsjeuOe0EernWkSoS6f7vS5Eh3rU7odSDN1TV6HuT1mT16ueer9sMxuUqapPcr0bjKkHUKYN2ZEvFArf1VIm1cZbEep1aFeo57ekZbZtJYLsjn25P0L9XIsIdYnVF7owHHSuQwEesVs9ki28HmzJ5ff79vXTZQPlqoyHk3MAQh2oog3ZYdct26m6/DuhXoc2NMz8iWmZ4prdEGHxtNpIiBYQ6udaRKi/8Cadq4lptsMtfW8vaiN2l15aF59Dy8O+sa//EFpGTk4MvHOEcnIOwOV3oIo2ZIdadUY5/V4l1gn1OrShYdSod6W4Uf36+p7r7tpifAj1cy0i1CWRr5mSt+ZrT89g0LWO2F1yD1155k1O1z3vWT17TV1Xt6vO9U6VrAnf0xNMTlcLzrL4O1BFO7Ijn89/LailyY6jx1gT6nVoQ8PkNgqFYlEt03tSrTP+rR2rxBLq51tlqKsOuA1f6WR7C7/JRhPlUbt7Z4MXXnlxw0xOH9evuir5bTr2Ksk/6XgflE67us3u6539cNOcAwzLf8+0fzseQKl2ZIeRP3HdfVsuRajXoX0Ns3ogsR49T31ZEj/uoe+CUD/XJETVoHVDD0i/7w2EM2PaHz/R6fxKwvZJ5s2N6N2PpTT1ODOWefzJcdRUdbXh84tMRt7mfLB99jtSnh2XbZLus7azb+k9jzMZvf5MlWHxANqYHXrhssgeIaFehzY2zJykemQDLMp52KYtx4lQP9fUai8+3du2sayozrVQ3Wv7zNX7VXar8LZm9ZC5+yqetSf+hflr6vFs2qeyxWDVOYA1dcduA1ChjdmRk+yIjAhCvQ7tbBi1LH/EOrGLRzXHxTePUD/X1INUfKqPPDjld617ei5LR955o6tXP0jx85Vqu6+80Ak/++aOvXh++dl7qX96Ee6SDz5RXfGp8bv+J3iGM+rVzvR4pmIXAF87s2O7SkYQ6nVoZ8OoZfkrr7K3LdMJdXiGy1d+vRyR0MP2hnyl/qiFYwGEtDM79qosOEqo16GtoX4ccWNkQTJ9r/pCc60g1AEgGW3MjgXpD67YcglCvQ7tDPV5t3LVuPmDtmU6oQ4ACYk7O5b3vS7gfNF1j/VM9YWdw51whhDqdYg91Jf0E/K0bWkZXZhbW7ezDlWm77cp0wl1AEhI3NnxTQJ7K788n19TC8uZiVNrUrKLmK0UhGTKifobpEw8CPVavrvFVZ3aCzv+tIRNKelUVwPiD6ouAdgqQh0AkhF3dqjngXhO7WND1qVsb657q81ph2ZbbAj1WlSAuwfFoloVyBsQJ6dX5sRrVW0MxPzsVUIdAJIR/1XebbVkmbK76G2Sir25TqjXK/aGWdRprh17D2n7LhXdSt/MDs93vTc2hDoAJCP27BDqMW1r+dBd9IW8NytaLSHr80I/LoR6bV82ikfuaXFn3b/OvvS9WNCFBXU7JBDzjRFCHQCS0Y5Q7xRCPaUIdQBIBtmRUjQMAKBRZEdK0TAAgEaRHSlFwwAAGkV2pBQNAwBoFNmRUjQMAKBRZEdK0TAAgEaRHSlFwwAAGkV2pBQNAwBoFNmRUjQMAKBRf1wo9h91Edh/0QVh/1Fok4yjZahRo0ZN/Nn88v753NdaPhJpqrV0JFJZi+e4UCuriXg+iBo1atSoUaPW2ZqI54OoUaNGjRo1ap2tiXg+iBo1atSoUaPW2ZqI54OoUaNGrc7a/zwQrsXzmdSoUTPi+SBq1KhRq7P2P02OhmrxfCY1atSMeD6IGjVq1M6q/fe2dj37qGIfNWrUWq8BQEIGnv+ue+iq+HZixBYBAMB5Mzr53NxL125nf7ElAABwvjya+dmWjJGJt0O2CAAAzo+oCH8wc92WAADAeXF75oEthZVekAcAAKk39PZj9LC4vqf+0DkAAJB+17OP+myxQq19AAAgVfqeZn+0xShMbgMA4Jw4+7757ew9WwIAAOn1YOa2LVXH5DYAAFLv0sREXXH9YOYnWwIAAGl0Oxs1kS0Kk9sAAEixgdeTP9ji2fp+Y3IbAAApdT37W0OT1ZjcBgBAKvU9yja6BuzAaya3AQCQOj9Mvm7iHjmT2wAASJsH2bMnskW5xOQ2AADSZOhd89fRH2SZ3AYAQFpEP5GtXkxuAwAgJQaeT7Y2N63vtyyT2wAA6LzR7POWJ6YxuQ0AgI5rYiJblIHXVZ6/DgAAkjHyMa7B6/UvMAsAAOJ3b+YXW2odk9sAAOiYobfxLgj3IPuzLQEAgCT9NPPIluLC5DYAADpg4HkbHrLG5DYAABLXrk41k9sAAEjWo5l2re068JLJbQAAJGakrQPVmdwGAEBSWlvq/WxDTG4DACAJQ2/bf32cyW0AALRfMiPZfmByGwAA7dX3NPujLbZX3yMmtwEA0EZJrg7D5DYAANrnwcxtW0rCwMtJJrcBANAOlyYmEh6UzuQ2AADaoRMJOzTxjsltAADEa+D15A+2mKgH2SSv+AMAcPF1btQak9sAAIhR36PsdVtMnnx5MrPoAAC4+H6YfN3RzjKT2wAAiEfnb2szuQ0AgBgMvZu4ZIsdxOQ2AABa1e4nstVr6B2T2wAAaMHA88nUrMDO5DYAAJo3mn2aohFqI0xuAwCgOR2dyBaFyW0AADRl5OPb1N3F/pHJbQAANOxeok9kq9fAcya3AQDQkKG3EykNTya3AQDQiJ9mHtlSQ67eyNy9bMu1DN+/02+LjRt6l/QTYAEAOLeanMjW/8ZRbtpqDfLCW7bYDCa3AQBQn9Emp4590JnuZGy1hvHWQr1nZPIlk9sAADjTo5mfbKkxNxxn9lbv8J0rtl5Dq6Gevtl2AACkz8hEsxPZnjnOQ1s8S8uhzuQ2AADOcnvmni017I3jXLPFs8QQ6urG/w+2CAAAyg28/dj8RLYPjjNmi2eJI9SZ3AYAQHXXW7qk/dlxhm3xLPGEuppMz+Q2AAAq9T3NNv9EtuGxsSnHuTk2NtZrt1y5mbnrV3p6BsfUALpbmYyaxx6E+uXgDc1gchsAAJWanchm2Ols4r6q9j62tfeDere+494zrF8lFT/U70q93hvxkUY+MrkNAIBSLfZ536u41lSoDwfVabsWjeR4/2e9xVR0qN+U6jNVaB6T2wAAKHFp4l1rd6cv+5ff+6WfLsXpu2M9V++rGDfz1iXHpbP+LPPwjamoUL8223Kmi1EmtwEA4ItlHHkwUO6u43wyS8CrC+6vdElyPLjSbkL9SiyZzuQ2AAB8Ay9jCUU/1AenHeeGLklwS5TriW4q1O/qTUKH+rC8LI5MFz8zuQ0AANHaRLaAH+q3HOeDLijSVddD5yTHx/UGRYX6sLw+pkzXk9su2SIAAN0qvoFmfqhnHOexLigPbXSbK+6WVO5K2seW6YLJbQCAbjcy+TquKWF+qL8IXWhX99d1D7081KcdZ7b5Z6pHGPkY278EAIBzKM7+rR/qJfl9y3E+qb/loZ6RVA+ux8eByW0AgC429C7OO9F+qL8J5/cdx1GT2CpC/dYNp65HrzdiNPsbk9sAAF0p5jHjfqg/Caf1Q3uDvSLU1a13f45bTAaeTza/0i0AAOdV7AHoh/p9b266It32O+pvZair/50274gPk9sAAN1nNPs05kvVfqhfky64F9ZqnrpeUi4i1AenHOd9K49zicLkNgBAl2nHoDI/1NXc9DcmrHslvs30tohQ7xmTxH9itsSIyW0AgG4yMvE2/ulfQairMXBvrkrhisT7rHlOW1Soqwv1oa1xGZlgchsAoFvcm2lHXzYI9Z5nEtaOMz4r/zNtF4yNDPWeVxL6ZpX4ODG5DQDQJYbeTozYYqxCod5zc1rHuuO89zZFh7p6GmuwpGx8Rn9nchsA4OK7PvOrLcXsViYTjHobvJZ5Nf7krn6Wi3Ytk/EjP1S5nMkEq8/FiMltAIALr3vC7icmtwEALrTRyeddM4aMyW0AgIvs15muGkB2j8ltAIALamTi7ZAtdom2TN0DAKDjbs/cs6XuweQ2AMAFNNCmiWxpN/p73MvhAgDQWdezj7o025jcBgC4UPqeZrs42H6aYXIbAOCi6KaJbFHatYYeAABJe5D92Za6FpPbAAAXwaWJd102kS0Kk9sAAOffbVZLNZjcBgA43wZeTnI32RqdZHIbAOD86t6JbFGY3AYAOLdYTq3cdSa3AQDOpZHJl4wNK8PkNgDAefSAWVxRfuGwAADOmaF3PEw8Wvc9qw4AcL79zES26hhqAAA4PxjmXdvo5HMmBQAAzoXRLBOya+OsBwBwLjCRrR7XZ361JQAA0opFzuvD5DYAQNrdm2HGVp1+4VABAFKM7mcjmNwGAEgvbhQ3iOEHAIB0Ykh345jcBgBII/KpGX2cCQEAUufXGa4kN+V6lnsWAIA0YcxX8xhdCABIk9szv9gSmnCbyW0AgJQYoKvZIi50AADS4Xr2ESPkWvUrk9sAAB3X9/R3hm/HYHTyOcvrAgA6iiyKC5PbAACd9SD7sy2hZdezj2wJAICkXWJ8V6yY3AYA6JTb2Qe2hJgwNxAA0AkDLyfpVsaOyW0AgOQxka1NWG8XAJCsvkfZH20RMWNCAQAgSSOTL8mdtmFyGwAgOQ+yrFXeVkxuAwAkY+jtBGO52ozl9AEASfiZiWxJuJ1lchsAoL0GuN+bECa3AQDaa/T335jIlpQHTG4DALRN3yMeEJokJrcBANplZOItGZOovqfc7AAAxCeI8V+YyJY8Fu4DAMTmhwlb4AlinRGe3MZ4eABAK17nftV/r8+Yv0jc7ew9U/gx95MpAADQhNFc7k+jLFzaWXZy20A299FsAACgCR9zudxk3+jkc27sdtKDGemjv5S24AI8AKBZP0mO5HIfmS/daXJadU81RZaTKwBAc/omdajnGPXecX2qny7s7XUAABqkO4ciy3qlHTdBUwAAWtCXNUGSy722W9Apv9qWyP1mNwAA0Ag/SLgA32mjf7INkfsTXXUAQOOG/CCRKLlkN6IT+n637SCe220AgIvgj4T8iwmRf/vrv/ynv/y93RY/+49CLaO/vfNvheR+sBsBABeATcN2+w///td//ed//Adbaxv7j7oQ7D+pTf7yT//8n//6X3O5/2Lr7Wb/UQCAdvrjD9tluwAI9Ub93V/+49/aYpvZfxQAoJ0I9bSiZQAADSI60oqWAQA0iOhIK1oGANAgoiOtaBkAQIOIjrSiZQAADSI60oqWAQA0iOhIK1oGANAgoiOtaBkAQIOIjrSiZQAADYopOlY2i8XtFVupw9z34rotVorc+a1QmLPFagj1CMv5sw5bVTXf2tDnEuoAkIh4omPbVU5trQ6Lrntki4Hl9SX9N3Lnkesu2mI1hHqlVdfds8VG1Xxr1M4F1z20xTKEOgAk4szo2HKPz+yBf5VEPykeu7Ya6dvOqbzqeOerrkXldl72z6sCoa5UaZnFjYL4ms/rQ2V8PTnessVy31y3aItnm/ta+L5XWLPHOeqt/jdF7YxsN41QB4BEnBnqRdf9ZotVHbiu+qk3/exIi/uqK68dLqt6xO//uuzMqwKhrlRpmUNzFMWuOT8SO9WvkjQQ6vPf1WmXsq9P46Le6n8ToQ4AKRRHqM/LL73Xb5ROe0Sn8euJyoqjoo529dqo3/8l2bWgCoS6UqVl1BH0fLe3tQtV0zQ61POFwhdbDKzoNrI2ZEPUW/1vItQBIIXiCHVJY//HXH7st20xsCoxcbKqA3tFPk/COfL3f0714QWhrlQP9dV8Pv9161hKBbNtcfN7tVskkaG+HdGmedVN3y3IJ2/KoVbHPzK3vW8i1AEgheII9ZXQD3xUqM9J/hz6XcNvR1V66j5CXake6uY4zB+47ulZh6TuUJ+T43vqXc//elwt1H2EOgCkUByhHv6Bjwr1de+6eoBQP9NZoa4HFq6ZYnX1hrq00UkwJmJedccJdQA4b5oJ9S/fNou7hRVzG32uUNiVH/NCobCem9flAzU8OzRobkE66uX32c3v/8Lq9+LWN+92/NxGwXxTOBzm8hu7e4VlQt0ThPrcaeT4hVw+PDLeC9/l8Gj5ylCPaqPIt3pKQ30hX230o0GoA0Aimgj1DTtIWg9jzy2birKg+o6WvdurrFV21M3vf94MzTqyV+b9TAiFw7x8vfJdXR4m1IUcDO84HLjupi6suO6OLkhzyEaP6sbr8F3YVU12ZK6uS3N4gjOvzYg2qnxr6JvCoa5uwsv2eUIdADqs4VCf25Mf8IPvRQnk01Wpyy+5dToXCng1fNrailinRP3+F+xL3RMTJxGhvqjjQv3PvnQlCXUhxyLUU1ctEE7YDXW8PKrrrXYtqzF1im4U/7DbCYSatPJ3W/RVvjX0TcFXzu/alxxJ4hPqANBJDYe69On0oLc5yepjM6Uq+IHX5fJ76vKjXxEY5lRgZzE3t+5fRI4IdXnr6ep8bt4EEaEuguMgB8X2rv0GkLOq040vubyceB2ZaWuy6+TUPd78WlCXRdTLFwsF6c3vqnskwWV1ye6K2/OVbw19k19QbeTurq1+P3WlJQl1AOikRkN9QX7m7exo+TU3S7QHP/C6XB7qhyX9dkOHuokR6Vya9UwqQ/2LvMhc+F1RF4EJdeEdh7mCHJLy/rM0ljleEttmfqDskpMn1WKLwW3zinvqc/KiiklxUW/1v8kvLMmL9H/GoloWh1AHgE5qNNR3vCTX3cIDXfB/4IWUy0Pdv0ocokLdfs6CFHU3sDLUt1x3Xxf0ojaEuiLHYb8o5K+9ox5qgBP3WP9VN87N1RHZ5V0nkbMn016Voa6SuWI5mqi3+t/kF+TUblcXcvNHhDoAdFajoS5dQG94laTxiS74P/BCymWhrvK7ohfo57Y4sYFSGer7oYvCDJQz5GhaRf+WuNcAcuDsSVDeG8cguw7tlRU5CbORXxHq6pTJvioQ9Va/qf2CvNMbRRdehKgUoQ4AiWg01CWB8x75Pdd3Zf0feCHlslCfl5dV3K8Nh7rEdemS735BvswfoE2oG3I0rV3/lrjXAHKobWxLSvs9da9t1CURU6oIdbXkn7lpHhL1Vn+bV1B7vNOBcKOWItQBIBENhrpK6DCdBKFff1Uuv/wuL/OuE/vqCnX1ZX7UEOqGHBM5Dl/UvMJ9L039BvDPgiLHO8hbTaEi1NX5mV2jNxD1Vn+bV5A+vN+QhDoAdFiDoS6/22GlP/CKlMtDXeLYm0XtqyvU1ZfpDQqhbsgx0cdB0tRfDMBvgILrHqhbGRuue2KOVrht/MNZEerqwyrGPUS91d/mFb6GXhRu1FKEOgAkoomeui0Gwr/+Ui4Pdek1Htqir65QV5d2/SAn1A3/mKgZbfYCvN8A6jTI3VdrCHiNFm4b2WoKFaGuRr9XzFCIequ/zStIqPuNS6jjYsmMv7Al4NxoMNTVBd6KbA3/+ku5PNTVc9K9sVSeukJdRYk/JptQN+SYmOOg1p6xEwj8Bii6JyrQXffYO+DhtpHtplAR6mr8ox0ZH4h6q7/NK0gf34yWFIQ6LpSrjvPGFus0/Gz88+z4q/uXbR1IXqOhLr/+UROa/V9/KdsZTj71kLbyJeXqC3XZ482fU8ujEOpC4tUehy2/k+w1QN511+bXC4VC3h/KHm6bGqEedeIV9VZ/m1eQtvLHPRDquFAyjnPLFutz1/G8sluAxDUa6pIH5aFd8usfvsfqUYkRjH+fW5cQqC/U5cu8D5Mioa4Ex0FNLtcHzm8AOdDlZ1xRyawOZmhtfkWdeB2EJrWpnI56q7/NL5wG//9RINRxDgx+ssmrPLMbo7x3ZnttsS5j8nkfMplnH+Sv3XS2x/LiqX5bAVrXaKgvhH7Ec/MmBsK//suuexoKB21Ouvfujnf/91glUX2hrmJLnw3MqUwn1JXQcdj3TrC8BpBQ3y9L9ahkVulbvnCvmtS273W557fVGn9Rb/W3+YXv/ih89aQYQh2pd1OFuWfcbozQXzvyKz3xeuiD9+u+bH9N/1cM2xrQunpCXa8TrqjslUBwd/Kqs/1tx8Z7+Nd/XkJ/L59fM11IKy8b3ZO9wtfCtvQI1eSp+kJdXex3N1cWVuWvvIpQF3JEvOPgP/7Oa4AFc0PdPSgWN20DRCWzeqMaHF9yPNWhPlmXd83lv8vHyJaot/rb/II68VJryc5LuhPqOAduOc70uOeu3RhBXjdmi/UZb/RyfU9P7wdnllBHrOoJdZ8aAmc6zVZlqKs7vUrp5d0VmzaamrReZ6gvqqjRNuRkglAXciy846BOoPRx9hvgizp7sooVCwPJRlNQl1uOi/v24r3hP2xNU1cAot7qbwt26v9/KKoR91tFQh3pJ2Fdo38euDneWEe9503DA+vUXfgMoY5YnRnqm+o32zLXbFdUb1s53DDXXVdDv/65+R29r2wNufmCfdPJto6kcKgfVg9173nqh8vqCgGhLuRo+MdB8lQPlfMTVo69vqyyo06i9KbIUNejHEQ41OWl/pnXsR6eWGeoe6dxp6tyAkioI/XqDfWG3ZB4fmLL9RmcdaZ6CXXE6sxQzy3ZRWGFty7pQl6CY9W7A5vL5dXleN/yamHdX901sPStUPjqx8hy3p+stpi3i5n520I7c/MrhYK6TzyfL42gCF0R6t+L3ugE6ZjvFvVN9aViUcfwRjCK8at0xlUjeLsU+2pluXjg7m+VDX5YXNsruofF7a9me9Rb/W3hnStb++7RtjRZoVh+q94i1JEebQv1nleSz+ONDHp75jg3egh1xOrsUD8/uiLUa5g79pej0bdNKtaI6xhCHelREep37P31wA21+f74i8Eau3t6+u++GZ/9PP7YVoUeyn7NVgz1Imf8RSZq6voV/V9CqCNWhHpaNd4yi6HV3VSon3lpIzGEOtKjItTDU9wMvf+zHShXZXfPfTXETZu6qjf0XDYvfWxq2tiU3uQ4s/ftlpAPzuwVQh0xI9TTqvGWUWv4evfb86eVUws7h1BHelSE+gsTuyH6zrgX6lV2q5VmPj/JPBmXv2ZE3S1J+SkV4sEleDUKznk/rmauVy5Ic8fkv+wi1BEfQj2tmmiZA9c9XlPDG5a3TkOL8XUeoY70iLqnLuGb0YVnwTw2L9RFxO5eSXDTJe+/O6VDXY2Te9bfr0J+3C5ac1XK+gygV97oBJfptf4ps+oMoY5YEepp1UTLLIZnDlYZs9YRhDrSQ0Ldn6dur5sHqf2qdqgHu6/Ip5iSUPfeL0vK63B/6CW5ur7uPDQl1d//YIvWY8e5o/4S6ogVoZ5WzbTM4qY33XA3Yv5B5xDqSA8JdZ+Jap3a5p639LOjQ718t3TCg1BXJO/tLHXVK7+iCtccZ1aPtRPDstH7OO3KrE152UGoIz6Eelo12TKL+a/roRmB6UCoIz3CPXUvZqV3bRaD+xQZ6hG7e6dL14+77CW5XibO3ECXtwXz1t84TsnydXJ+YK4TEOqIFaGeVrQM0A5R99Slc20SOpTkoWLUbtXhf5O5NjY2pofFSWfeX05OjaFTd9VfhHO8JOH1HXj7sHZCHbEiOtKKlgHaISrUX9UO9ajdPWNS0fQuCXB/KtugbFTz0qXHftNsEZL0oUVke6f8K/PyYkId8SE60oqWAdohKtQlfk1YR4d61O5hNcxd06Pa34d75bPmZVOOE6xEc6fkayXiX0gnX5FPuDnmjdgDWkV0pBUtA7RDVKhL/JresmRzRKhH7B6U3W+uBc9bl9wPQn3a3F+XV5sOvlJ6+V36/qX0QHigdURHWtEyQDtEhLp6qIopSffbm04ehHrU7sclV9N1Snuz1/Tld3tP3RteX3aDXdVKRSw4BzSD6EgrWgZoh4hQH3OcT6Ykqe1FbzDSPWp3yf1yIR1xP+Rv2tfLNn9ueq/09kOrz1zN+CTRH2cy3FZHTIiOtKJlgHaICPW7/iKuT4KL5BLg9uJ51G6J/ODSurgm2WyntKnA14Pm1DbvZrl8xqfgYn2YvIhER3yIjrSiZYB2iAj1V34H/I7jfDYlNY/NrOkeuVu2ffCWeL+h4l2S/L0Zzy4d9CmT3/Kizybpb0xXLBPrIdQRK6IjrWgZoB0k1P3FZ8b1rex+O1pdXJGIfXEzo2rSt3Yejt26Fb1brfT++c7Y2Ni1x5/0SYLaMJW5OXZXevjesDf18unHt8buqkXm3pttFWQXoY74EB1pRcsA7SChHtD9bonvKb1LSOdaqPFt6i64+Fxlt7oX7tEX54NHsU77F+avmc9QnkRffCfUETOiI61oGaAdBoOgtQPZpG/tzygbVB1tc6XcPB79WbXdV03AS6TbDL/8xtTfhDK6/5mJ+k9Vrr0LeYG3QDzQOqIjrWgZoBOu2oVfxfDYmFoZrkRod8+VsbHSZWPkDWPlCT0o2yo+BWgXoiOtaBkAQIPaFR1zu8fuUcFWyiwfum47ngxKqNdjbq1QWFuwlbCFtc3ibuHrvK3GiVAHgES0Kzo21UO9i7ZSYl7vyttanAj1ehTU4a883VreU9vF8YrdEiNCHQAS0aboWDx1T6NDfeVYRwehfpY2tcyCtEtEqK/qVjG+2W3xIdQBIBFtio5d192KCvUF1R9U/0eon6V9LXMQEerbrnu4nl/If5e2OYm6ON8SQh0AEtGe6Fhx3e1vUaG+47pHKzlCvQ7taxkJ8IpQLxzYq+6qy15lLETzCHUASERbomPuwD1diAz14mlhLkeo16N9LRMV6oE91921xdgQ6gCQiLZEx7rrruciQ/2LvrJLqNehfS1TO9Q3XPfQFmNDqANAItoRHQsn7uFcdKgbhHod2tcytUNdcn/fFmNDqANAItoRHd9d92uOUG9R+1qmdqhvuu6eLcaGUAeARLQhOpbMTVlCvTXta5naoX6ortDHjFAHgES0ITr23dMv8odQb037WqZmqC9L4zClDQDOp/ijQ8J8y/4l1FsQf8us2papGer7rrtji/Eh1AEgEbFHx9yxezynCoR6a9rXMrVCXVrtOPaOOqEOAMmIPTq2vGVGCfXWxN4ym17L1Aj1xWPXXbXlGBHqAJCIuKPjy6l7YEqEemva1zLVQ33+0HW3bTlOhDoAJCLu6Nj1n6pKqLemfS1TNdTniq67r6/Qx4xQB4BExB0dktcljqMezy3bCfWzxNwyS9IWBeNATrcKhYir7Gpl/kVbjhWhDgCJaHeou8t2R5hsJtTPEnPL5E1zBE7sjoD04NuT6YQ6ACQj7lDfLnoOJTeKxZ2oq7kSKYT6WeLvqZeyN9gDkukn9gJ93Ah1AEhE3KEe4J56a9rXMtH31NuY6YQ6ACQjkVDfPN7/aosaoV6HREJ9aWPFXkqRjadRt0piQagDQCKSCPU5CXH74K8FPVJL6tvyx8yajg+hXp8g1L9IS6zpkrTJ6YoutQOhDgCJSCLU5yU67CO6v0sxEPPVXkK9PkGoSxuZeemqiULifvYqoQ4AiUgi1HMH/nrimzY1DEK9hiRCXY2e00V1MSXkSO+ND6EOAIloX3TM5fP+IuJ57xb6fD4k7lu4hHp91opFb4jDdnHHNNK6vi/iMZfk40OoA0Ai2hcdySPU04pQB4BEEB1pRcsAABpEdKQVLQMAaBDRkVa0DACgQURHWtEyAIAGER1pRcsAABpEdKQVLQMAaBDRkVa0DLpUxtEy1KhRa6L2Z/Oz+zem9jfnufZnU4vnuHS8pkI9nuOSiloLR4JaN9VEPB9EjVqX1gj1lNYIdWrdWBPxfBA1al1a+/Mfmg3Ei1CL57h0vBb6F8VzXDpba+FIUOummojng6hR69JaPD/ZaarFc1w6Xgv9i+I5Lp2ttXAkqHVTTcTzQdSoUaNGjRq1ztZEPB9EjRo1atSoUetsTcTzQdSoUaNGjRq1ztYAAAAAAAAAAAAAAAAAAAAAAAAAAAAAAAAAAAAAAAAAAAAAAAAAAAAAAAAAAAAAAAAAAAAAdIOenv8f2guxg00UbRMAAAAASUVORK5CYII=)"
      ]
    },
    {
      "cell_type": "markdown",
      "metadata": {
        "id": "fLzrrJDqfcID"
      },
      "source": [
        "Προδιαγραφές:\n",
        "* Ο αριθμός των επιπέδων (βήματα zig zag) θα περνάει ως παράμετρος από τη γραμμή εντολών κατά την εκτέλεση του zigzag.py \n",
        "* Ο αριθμός των επιπέδων (βήματα zig zag) δεν επιτρέπεται να υπερβαίνει τα 10\n",
        "* Κάθε forked διεργασία θα πρέπει να τυπώνει στην οθόνη μια γραμμή με το εξής μήνυμα (τα PIDs είναι παραδείγματα):\n",
        " * `I am process with PID = 11 standing at Level 1 of the zig zag path, my parent is PID=1002 and I am its left child`\n",
        " * `I am process with PID = 12 standing at Level 1 of the zig zag path, my parent is PID=1002 and I am its right child`\n",
        " * `...`"
      ]
    },
    {
      "cell_type": "markdown",
      "metadata": {
        "id": "saNkDxnOlKSz"
      },
      "source": [
        "*Υποδείξεις: εκμεταλλευτείτε κατάλληλα το συνδυασμό `fork` και κάποιας από τις `exec()` .*"
      ]
    },
    {
      "cell_type": "markdown",
      "metadata": {
        "id": "2EcleZa7WPsX"
      },
      "source": [
        "## ⏩ Κώδικας Zig Zag Process Generator"
      ]
    },
    {
      "cell_type": "markdown",
      "metadata": {
        "id": "asDuDA_iWWX2"
      },
      "source": [
        "Γράψτε στο παράτω code cell όλο τον κώδικα του Zig Zag Process Generator. "
      ]
    },
    {
      "cell_type": "code",
      "execution_count": 5,
      "metadata": {
        "colab": {
          "base_uri": "https://localhost:8080/"
        },
        "id": "mDAkWcgUU_E5",
        "outputId": "637077f2-f7ff-4420-d9e6-0b4c0a84ace7"
      },
      "outputs": [
        {
          "name": "stdout",
          "output_type": "stream",
          "text": [
            "Writing zigzaggen.py\n"
          ]
        }
      ],
      "source": [
        "%%file zigzaggen.py\n",
        "import os, sys\n",
        "\n",
        "def main():\n",
        "  TREE_DEPTH_UPPER_LIMIT = 10\n",
        "\n",
        "  if len(sys.argv) !=2:\n",
        "    print (os.strerror(f\"Usage: {sys.argv[0]} # processes\"))\n",
        "    os._exit(1)\n",
        "  \n",
        "  tree_depth = int (sys.argv[1]) # the second argument is for specifying the tree depth\n",
        "  \n",
        "  if tree_depth > TREE_DEPTH_UPPER_LIMIT: #No trees with depth > 10 are allowed\n",
        "    print (os.strerror(f\"Depth should be up to {TREE_DEPTH_UPPER_LIMIT}\"))\n",
        "\n",
        "  print(f\"I am process with PID={os.getpid()} stanging at level 0  my parent is PID={os.getppid()}\")   \n",
        "\n",
        "  for i in range(tree_depth): #Each level Levels\n",
        "      leftchild = os.fork()\n",
        "      if leftchild == 0:  #I am child\n",
        "        print(f\"I am process with PID={os.getpid()} stanging at level {i+1}  my parent is PID={os.getppid()} and I am its left\")\n",
        "        if(i%2 == 1): #The process will not fork for the next level so it stops \n",
        "          break\n",
        "      else: #I am parent\n",
        "          rightchild = os.fork()\n",
        "          if rightchild == 0: #I am child \n",
        "            print(f\"I am process with PID={os.getpid()} stanging at level {i+1}  my parent is PID={os.getppid()} and I am its right\")\n",
        "            if(i%2 != 1):#The process will not fork for the next level so it stops \n",
        "              break\n",
        "          else: #I am parent\n",
        "             os.wait()  #The parent process waits for child to get the pid(Else the os.getppid=1 when called by child)\n",
        "             break   #Parent not needed anymore so it stops    \n",
        "          \n",
        "  return 0\n",
        "\n",
        "\n",
        "if __name__ == \"__main__\":\n",
        "  os._exit(main()) "
      ]
    },
    {
      "cell_type": "code",
      "execution_count": 6,
      "metadata": {
        "colab": {
          "base_uri": "https://localhost:8080/"
        },
        "id": "Nyuh7g50k93w",
        "outputId": "ab0274c8-57a7-43bd-c5db-35ef85c7853a"
      },
      "outputs": [
        {
          "name": "stdout",
          "output_type": "stream",
          "text": [
            "I am process with PID=30411 stanging at level 0  my parent is PID=134\n",
            "I am process with PID=30420 stanging at level 1  my parent is PID=30411 and I am its left\n",
            "I am process with PID=30421 stanging at level 1  my parent is PID=30411 and I am its right\n",
            "I am process with PID=30422 stanging at level 2  my parent is PID=30420 and I am its left\n",
            "I am process with PID=30423 stanging at level 2  my parent is PID=30420 and I am its right\n",
            "I am process with PID=30424 stanging at level 3  my parent is PID=30423 and I am its left\n",
            "I am process with PID=30425 stanging at level 3  my parent is PID=30423 and I am its right\n",
            "I am process with PID=30426 stanging at level 4  my parent is PID=30424 and I am its left\n",
            "I am process with PID=30427 stanging at level 4  my parent is PID=30424 and I am its right\n",
            "I am process with PID=30429 stanging at level 5  my parent is PID=30427 and I am its right\n",
            "I am process with PID=30428 stanging at level 5  my parent is PID=30427 and I am its left\n",
            "I am process with PID=30430 stanging at level 6  my parent is PID=30428 and I am its left\n",
            "I am process with PID=30431 stanging at level 6  my parent is PID=30428 and I am its right\n",
            "I am process with PID=30432 stanging at level 7  my parent is PID=30431 and I am its left\n",
            "I am process with PID=30433 stanging at level 7  my parent is PID=30431 and I am its right\n",
            "I am process with PID=30434 stanging at level 8  my parent is PID=30432 and I am its left\n",
            "I am process with PID=30435 stanging at level 8  my parent is PID=30432 and I am its right\n",
            "I am process with PID=30437 stanging at level 9  my parent is PID=30435 and I am its right\n",
            "I am process with PID=30436 stanging at level 9  my parent is PID=30435 and I am its left\n",
            "I am process with PID=30438 stanging at level 10  my parent is PID=30436 and I am its left\n",
            "I am process with PID=30439 stanging at level 10  my parent is PID=30436 and I am its right\n"
          ]
        }
      ],
      "source": [
        "!python zigzaggen.py 10"
      ]
    },
    {
      "cell_type": "markdown",
      "metadata": {
        "id": "3iZx1lLPXpAZ"
      },
      "source": [
        "## ⏩ Τεκμηρίωση και Σχολιασμός Κώδικα του Zig Zag Process Generator"
      ]
    },
    {
      "cell_type": "markdown",
      "metadata": {
        "id": "0l0t64RRX9p7"
      },
      "source": [
        "Αρχικα ορίζεται μια μεταβλητή στην οποία αποθηκεύεται το μέγιστο ύψος του δέντρου που θα φτιαχτεί. Έπειτα ελέγχεται ότι δόθηκε ο κατάλληλος αριθμός ορισμάτων από τον χρήστη. Στην συνέχεια διαβάζουμε το όρισμα [1] για να καταγράψουμε το ύψος του δέντρου που επιθυμεί ο χρήστης. Εάν υπερβαίνει το μέγιστο εκτυπώνεται το αντίστοιχο μήνυμα. Σε διαφορετική περίπτωση εκτυπώνεται το αντίστοιχο μήνυμα και εκτελούνται τα παρακάτω σε μια for loop για κάθε επίπεδο του δέντρου:\n",
        "\n",
        "-Αρχικά γίνεται fork για το αριστερό παιδί.\n",
        "\n",
        "-Ελέγχοντας το PID αν πρόκειται για αυτό εκτυπώνεται το αντίστοιχο μήνυμα της child process. \n",
        "\n",
        "-Χρησιμοποιήθηκε ένας έλεγχος με το επίπεδο i mod 2 για το αν είναι αυτό που θα γεννήσει άλλα παιδιά. Αν όχι κάνει break από το loop. \n",
        "\n",
        "-Στην περίπτωση όπου είμαστε στον πατέρα γίνεται ακόμα ένα fork για το δεξί παιδί και έπειτα επαναλαμβάνεται η παραπάνω διαδικασία ελέγχων που εκτελέστηκαν για το αριστερό παιδί. \n",
        "\n",
        "-Εαν είμαστε στον πατέρα κάνουμε wait για να περιμένει τα παιδιά του να τερματίσουν.\n",
        "\n",
        "Ένα μόνο εκ των 2 παιδιών (αριστερό, δεξί) θα συνεχίσει στην επομένη επανάληψη και δεν θα κάνει break. Οι επαναλήψεις γίνονται μέχρι να φτάσουμε στο επιθυμητό ύψος δέντρου που έδωσε ο χρήστης ως όρισμα."
      ]
    },
    {
      "cell_type": "markdown",
      "metadata": {
        "id": "sgWKMNX4YP5U"
      },
      "source": [
        "# Θέμα 5: Python Pipes -  Three-way Pipe Implementation"
      ]
    },
    {
      "cell_type": "markdown",
      "metadata": {
        "id": "7E4VB6bNAxHH"
      },
      "source": [
        "Τα three-way pipes είναι pipes όπου υπάρχει ένα parent process το οποίο δέχεται (στη δική μας περίπτωση διαβάζει από ένα tuple) μηνύματα ως input και τα κάνει pipe σε δύο παιδιά του. Σε αυτή την περίπτωση το parent process βρίσκεται στην πλευρά του write και τα δύο παιδιά του στην πλευρά του read του pipe. Ό,τι γράφει το parent process ως περιεχόμενο από το tuple (ένα-ένα στοιχείο του tuple), μεταφέρεται ακέραιο σε κάθε ένα από τα παιδιά του (Δλδ και τα δύο παιδιά διαβάζουν ακριβώς τα ίδια πράγματα).\n"
      ]
    },
    {
      "cell_type": "markdown",
      "metadata": {
        "id": "xB2I5F9oFO7F"
      },
      "source": [
        "![image.png](data:image/png;base64,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)"
      ]
    },
    {
      "cell_type": "markdown",
      "metadata": {
        "id": "78ZjXZUTFUGm"
      },
      "source": [
        "**Γράψτε ένα Python πρόγραμμα που υλοποιεί αυτό το three-way pipe. Πρέπει να κάνετε κατάλληλο χειρισμό εξαιρέσεων στο πρόγραμμά σας και να ανοίξετε, κλείσετε τους file descriptors σε κατάλληλα σημεία του κώδικά σας. Στο πρόγραμμά σας, το parent process θα τυπώνει στην οθόνη τα στοιχεία που θα διαβάζει από ένα tuple και θα κάνει write στη μια άκρη του pipe. Τα παιδιά θα τυπώνουν τα μηνύματα που έκαναν read από το pipe. Στο πρόγραμμά σας, θα πρεπει να εκτυπωνονται αντίστοιχες γραμμές με αυτές που φαίνονται στην παραπάνω εικόνα για parent και children.** \n",
        "\n",
        "Βοήθεια: Δείτε την dup2 (https://docs.python.org/3/library/os.html)\n",
        "\n",
        "**Περιορισμοί: Η υλοποίησή σας επιτρέπεται να κάνει import μόνο os και sys modules. Κανένα άλλο module.**"
      ]
    },
    {
      "cell_type": "markdown",
      "metadata": {
        "id": "G-pGKOzpYWeq"
      },
      "source": [
        "## ⏩ Κώδικας Three-way Pipe"
      ]
    },
    {
      "cell_type": "code",
      "execution_count": 7,
      "metadata": {
        "colab": {
          "base_uri": "https://localhost:8080/"
        },
        "id": "Yf3KbNI-qu-w",
        "outputId": "8fa52f97-19fb-4134-bcc8-b094c467d3d9"
      },
      "outputs": [
        {
          "name": "stdout",
          "output_type": "stream",
          "text": [
            "Overwriting threewaypipe.py\n"
          ]
        }
      ],
      "source": [
        "%%file threewaypipe.py\n",
        "import os, sys\n",
        "\n",
        "texttuple = (\"I love PLH211\",\"the professor is boring\",\"but the subject is\",\"interesting & useful\")\n",
        "\n",
        "# Temporary fds for storing pipe's fd values\n",
        "copy_read_fd1=100\n",
        "copy_read_fd2=1000\n",
        "copy_write_fd=10000\n",
        "\n",
        "def main():\n",
        "    # Create a pipe:\n",
        "    # p[0] is the reader and p[1] is the writer in the returned tuple of os.pipe()\n",
        "    p = os.pipe()\n",
        "    if not p:\n",
        "      print (\"pipe call!\")\n",
        "      os.close(p[0])\n",
        "      os.close(p[1])\n",
        "      os._exit(1)\n",
        "    \n",
        "    #Create first child\n",
        "    pid=os.fork()\n",
        "    \n",
        "    if pid == -1:\n",
        "        print (os.strerror(\"fork call\"))\n",
        "        os.close(p)\n",
        "        os._exit(1)\n",
        "\n",
        "    elif pid == 0: # child process\n",
        "      # Child does not write, here we close write ends\n",
        "      os.close(p[1])\n",
        "      \n",
        "      # Dup file descriptor and then close original pipe fd \n",
        "      # Child is gonna use the copy\n",
        "      os.dup2(p[0],copy_read_fd1)\n",
        "      os.close(p[0])\n",
        "\n",
        "      # Read some data from pipe\n",
        "      for text in texttuple:\n",
        "        message=os.read(copy_read_fd1, len(text))\n",
        "        print(f\"I am PID={os.getpid()} I read: '{message.decode()}'\")\n",
        "      os.close(copy_read_fd1)\n",
        "      sys.exit(0)\n",
        "\n",
        "    else: # if the code reaches this line pid!=0 and thus we are in the parent process\n",
        "\n",
        "      #Use dup2 to create copies of file descriptors for later use\n",
        "      os.dup2(p[1], copy_write_fd)\n",
        "      os.dup2(p[0],copy_read_fd2)\n",
        "\n",
        "      #Parent does not read because here we close pipe_read_fd (pipe's read end)\n",
        "      os.close(p[0])\n",
        "\n",
        "      # Write some data to the pipe\n",
        "      for text in texttuple:\n",
        "        print(f\"I am parent {os.getpid()} and I write: '{text}' \")\n",
        "        os.write(p[1], text.encode())\n",
        "      # Close the write end of the pipe\n",
        "      os.close(p[1])\n",
        "\n",
        "      # Wait for 1st child to exit\n",
        "      os.waitpid(pid,0)\n",
        "\n",
        "      pid2=os.fork()\n",
        "      if pid == -1:\n",
        "        print (os.strerror(\"fork call\"))\n",
        "        os.close(p)\n",
        "        os._exit(1)\n",
        "      elif pid2 ==0: # child process\n",
        "        # Child does not write, here we close write end\n",
        "        os.close(copy_write_fd)\n",
        "\n",
        "        for text in texttuple:\n",
        "          message=os.read(copy_read_fd2, len(text))\n",
        "          print(f\"I am PID={os.getpid()} I read the following message: '{message.decode()}'\")\n",
        "        os.close(copy_read_fd2)\n",
        "\n",
        "      else: # if the code reaches this line pid!=0 and thus we are in the parent process\n",
        "        # Parent does not read, here we close read end\n",
        "        os.close(copy_read_fd2)\n",
        "\n",
        "        # Write some data to the pipe and the close write fd\n",
        "        for text in texttuple:\n",
        "          os.write(copy_write_fd,text.encode())\n",
        "        os.close(copy_write_fd)\n",
        "\n",
        "        #Wait for children to exit\n",
        "        os.wait()\n",
        "    os._exit(0)\n",
        "\n",
        "if __name__ == \"__main__\":\n",
        "  os._exit(main())"
      ]
    },
    {
      "cell_type": "code",
      "execution_count": 8,
      "metadata": {
        "colab": {
          "base_uri": "https://localhost:8080/"
        },
        "id": "dUI8cLaW3EaS",
        "outputId": "dafffd73-0b0e-496f-9ca9-8ac9d7229454"
      },
      "outputs": [
        {
          "name": "stdout",
          "output_type": "stream",
          "text": [
            "I am parent 30527 and I write: 'I love PLH211' \n",
            "I am parent 30527 and I write: 'the professor is boring' \n",
            "I am parent 30527 and I write: 'but the subject is' \n",
            "I am parent 30527 and I write: 'interesting & useful' \n",
            "I am PID=30536 I read: 'I love PLH211'\n",
            "I am PID=30536 I read: 'the professor is boring'\n",
            "I am PID=30536 I read: 'but the subject is'\n",
            "I am PID=30536 I read: 'interesting & useful'\n",
            "I am PID=30537 I read the following message: 'I love PLH211'\n",
            "I am PID=30537 I read the following message: 'the professor is boring'\n",
            "I am PID=30537 I read the following message: 'but the subject is'\n",
            "I am PID=30537 I read the following message: 'interesting & useful'\n"
          ]
        }
      ],
      "source": [
        "!python threewaypipe.py"
      ]
    },
    {
      "cell_type": "markdown",
      "metadata": {
        "id": "bWTtvB2vZGX6"
      },
      "source": [
        "## ⏩ Τεκμηρίωση και Σχολιασμός Κώδικα Tripe"
      ]
    },
    {
      "cell_type": "markdown",
      "metadata": {
        "id": "Z3aYzmrnZYD6"
      },
      "source": [
        "**Η υλοποίηση είχε ως βασική ιδέα να γράψουμε μια φορά στο pipe τα δεδομένα και αυτά να διαβαστούν από το πρώτο παιδί. Στην συνέχεια χρησιμοποιώντας την dup2() με copy fds να γράψουμε δεύτερη φορά τα δεδομένα στο ίδιο pipe για να διαβαστούν από το δεύτερο παιδί.**\n",
        "\n",
        "Αρχικά ορίζεται το tuple που περιέχει κάθε ένα από τα κείμενα που θα γράψει το parent process στο pipe. Στην συνέχεια ορίζονται 3 file descriptors με μια τυχαία τιμή τα οποία θα χρησιμοποιηθούν στην dup2 αργότερα. Δύο θα λάβουν την τιμή του fd του p[0] (read) και ένα του p[1] (write). \n",
        "  \n",
        "  Στην main δημιουργείται το pipe και στην συνέχεια το πρώτο παιδί. \n",
        "Στον κώδικα που εκτελεί το παιδί κλείνονται οι fd που δεν χρησιμοποιούνται, \n",
        "γίνεται και η dup2 και χρησιμοποιώντας το copy fd με μια for-loop διαβάζονται δεδομένα από το pipe. Τέλος καλείται η sys.exit(0) για να γνωρίζει ο πατέρας ότι το παιδί τερμάτισε. \n",
        "\n",
        "**-**Στον κώδικα που εκτελέι ο πατέρας δημιουργούνται αρχικά 2 copy fds ένα για read και ένα για write και κλείνεται το original read fd αφού δεν χρησιμοποιείται. Με μια for loop και το original write fd γράφονται τα δεδομένα στο pipe και έπειτα περιμένουμε το 1ο παιδί να τερματίσει για να συνεχίσουμε. Έπειτα δημιουργούμε το 2ο παιδί.\n",
        "\n",
        "**-**Στον κώδικα που εκτελεί το 2ο παιδί κλείνουμε τα fds για write αφού δεν χρησιμοποιύνται και χρησιμοποιώντας το copy fd με μια for-loop διαβάζονται δεδομένα από το pipe.\n",
        "\n",
        "Αν είμαστε στον πατέρα κλείνουμε τα fds για read αφού δεν χρησιμοποιύνται και με μια for loop και το copy write fd γράφονται τα δεδομένα στο pipe. Έπειτα περιμένουμε τα τερματίσουν τα παιδία (μόνο το 2ο υπάρχει) για να κάνουμε exit."
      ]
    }
  ],
  "metadata": {
    "colab": {
      "provenance": []
    },
    "kernelspec": {
      "display_name": "Python 3",
      "name": "python3"
    },
    "language_info": {
      "name": "python"
    }
  },
  "nbformat": 4,
  "nbformat_minor": 0
}
