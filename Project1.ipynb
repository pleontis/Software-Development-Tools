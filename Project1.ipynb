{
  "cells": [
    {
      "cell_type": "markdown",
      "metadata": {
        "id": "wyNN43emEKeV"
      },
      "source": [
        "# Εργασία 1 - Θέμα: Ανάπτυξη Λογισμικού Twitter Viewer & Editor με Εργαλεία Python"
      ]
    },
    {
      "cell_type": "markdown",
      "metadata": {
        "id": "WT6ll8MEMU3v"
      },
      "source": [
        "# Development Phase"
      ]
    },
    {
      "cell_type": "markdown",
      "metadata": {
        "id": "vyOE0mjQMXxK"
      },
      "source": [
        "## ⏩ Κώδικας Development Phase\n",
        "Γράψτε στο παρακάτω code cell όλο τον κώδικα που υλοποιεί τον Twitter Viewer & Edtior σας."
      ]
    },
    {
      "cell_type": "code",
      "execution_count": null,
      "metadata": {
        "id": "_xcaRjNS3bKS"
      },
      "outputs": [],
      "source": [
        "from ast import Str\n",
        "import json\n",
        "import calendar\n",
        "from datetime import date, datetime\n",
        "\n",
        "#Global variables\n",
        "currentID=-1\n",
        "filename = \"tweetdhead300000.json\"\n",
        "tweetList=[]\n",
        "\n",
        "# Open json File and create a data structure with tweets\n",
        "# Every line is a node of the list\n",
        "def openFile(): \n",
        "    f=open(filename, \"r\")\n",
        "    for obj in f:\n",
        "        tweetDict=json.loads(obj)\n",
        "        res = {key: tweetDict[key] for key in tweetDict.keys() & {\"text\" , \"created_at\"}}\n",
        "        tweetList.append(res)\n",
        "   \n",
        "    global currentID\n",
        "    currentID=0\n",
        "    f.close()\n",
        "    \n",
        "# Print user's options \n",
        "def menu():\n",
        "    print(\"==========TWITTER VIEWER & EDITOR MENU==========\")\n",
        "    print(\"[c] Create a new tweet\")\n",
        "    print(\"[r] Read the tweet at given line\")\n",
        "    print(\"[u] Update the tweet at given line\")\n",
        "    print(\"[d] Delete current tweet\")\n",
        "    print(\"[$] Read the last tweet in the file\")\n",
        "    print(\"[-] Read one tweet up from the current tweet\")\n",
        "    print(\"[+] Read one tweet down from your current tweet\")\n",
        "    print(\"[=] Print current tweet ID\")\n",
        "    print(\"[q] Quit without save\")\n",
        "    print(\"[w] Write file to disk\")\n",
        "    print(\"[x] Exit and save\\n\")\n",
        "#Create new tweet at the end of the list\n",
        "def createTweet(text):\n",
        "    d=date.today()\n",
        "    \n",
        "    day=calendar.day_name[d.weekday()]\n",
        "    month=calendar.month_name[d.month]\n",
        "    now = datetime.now()\n",
        "    tempDict={\"text\": text, \"created_at\" : day +\" \"+ month +\" \"+ str(d.day) +\" \"+ str(now.hour)+\":\"+str(now.minute)+\":\"+str(now.second) + \" \"+str(d.year) }\n",
        "    tweetList.append(tempDict)\n",
        "    print(\"Tweet was created\\n\")\n",
        "#Read given line tweet and update current line index\n",
        "def readTweet(line):\n",
        "    tweet=tweetList[line]\n",
        "    print(tweet[\"text\"]+'\\n')\n",
        "    global currentID\n",
        "    currentID=line\n",
        "#Update given line tweet and update current line index\n",
        "def updateTweet(text, line):\n",
        "    #Delete previous line for updating into new one\n",
        "    del tweetList[line]\n",
        "\n",
        "    d=date.today()\n",
        "    \n",
        "    day=calendar.day_name[d.weekday()]\n",
        "    month=calendar.month_name[d.month]\n",
        "    now = datetime.now()\n",
        "    tempDict={\"text\": text, \"created_at\" : day +\" \"+ month +\" \"+ str(d.day) +\" \"+ str(now.hour)+\":\"+str(now.minute)+\":\"+str(now.second) + \" \"+str(d.year) }\n",
        "    \n",
        "    tweetList.insert(line, tempDict)\n",
        "    global currentID\n",
        "    currentID=line\n",
        "    print(\"Tweet was updated\\n\")\n",
        "#Read one line above or below depends on the functionality user picked\n",
        "#Check if is possible\n",
        "def readUpOrDown(op):\n",
        "    global currentID\n",
        "    if op =='up':\n",
        "        if currentID==0:\n",
        "            print(\"Index is at the first line cant read any line above than this\\n\")\n",
        "        else:\n",
        "            currentID=currentID-1\n",
        "            print(tweetList[currentID][\"text\"])\n",
        "            \n",
        "    else:\n",
        "        if currentID==len(tweetList)-1:\n",
        "            print(\"Index is at the last line cant read any line below than this\\n\")\n",
        "        else:\n",
        "            currentID=currentID+1\n",
        "            print(tweetList[currentID][\"text\"])\n",
        "            \n",
        "def saveFile():\n",
        "    with open(filename, \"w\") as outFile:\n",
        "        for object in tweetList:\n",
        "            json.dump(object,outFile)\n",
        "            outFile.write('\\n')\n",
        "    outFile.close()\n",
        "################################################################################################\n",
        "openFile()\n",
        "\n",
        "while True :\n",
        "    menu()\n",
        "    option = input(\"Enter your option: \")\n",
        "    if option == 'c':\n",
        "        text=input(\"Enter text to create a new tweet: \")\n",
        "        createTweet(text)\n",
        "    elif option == 'r':\n",
        "        try:\n",
        "            line = int(input(\"Enter line for reading tweet: \"))\n",
        "        except ValueError:\n",
        "            print(\"Input for line is not an integer\")\n",
        "            continue\n",
        "        else:\n",
        "             readTweet(line)\n",
        "    elif option == 'u':\n",
        "        try:\n",
        "            line = int(input(\"Enter line for updating tweet: \"))\n",
        "        except ValueError:\n",
        "            print(\"Input for line is not an integer\")\n",
        "            continue\n",
        "        else:\n",
        "            text=input(\"Enter text to update tweet: \")\n",
        "            updateTweet(text,line)\n",
        "    elif option == 'd':\n",
        "        del tweetList[currentID]\n",
        "        print(\"Tweet was deleted\\n\")\n",
        "    elif option == '$':\n",
        "        readTweet(len(tweetList)-1)\n",
        "    elif option == '-':\n",
        "        readUpOrDown('up')\n",
        "    elif option == '+':\n",
        "        readUpOrDown('down')\n",
        "    elif option == '=':\n",
        "        print(\"Current Tweet ID: \"+ str(currentID))\n",
        "    elif option == 'q':\n",
        "        break\n",
        "    elif option == 'w':\n",
        "        saveFile()\n",
        "        print(\"Saving file\")\n",
        "    elif option == 'x':\n",
        "        saveFile()\n",
        "        print(\"Saving file\")\n",
        "        break\n",
        "    else:\n",
        "        print (\"\\nInvalid option. Type again.\\n\")\n",
        "print(\"\\nTerminating Program ...\")"
      ]
    },
    {
      "cell_type": "markdown",
      "metadata": {
        "id": "gUUfBavZMr9i"
      },
      "source": [
        "## ⏩ Τεκμηρίωση και Σχολιασμός Κώδικα της Developement Phase\n",
        "Γράψτε στο παρακάτω text cell αναφορά που θα περιγράφετε τι κάνει ο κώδικας που αναπτύξατε στο Development Phase στο προηγούμενο code cell. "
      ]
    },
    {
      "cell_type": "markdown",
      "metadata": {
        "id": "Q3atq7JuNEFU"
      },
      "source": [
        "Αρχικά ορίζουμε κάποιες global μεταβλητές. Την currentID ώστε να είναι γνωστό σε ποιο tweet βρίσκεται το πρόγραμμα ανά πάσα στιγμή, μία για το όνομα του αρχείου που φορτώνουμε και μια λίστα στην οποία φορτώνονται τα περιεχόμενα του αρχείου. Έπειτα ανοίγουμε το json file και το φορτώνουμε στη μνήμη, δημιουργώντας μια λίστα, όπου κάθε γραμμή του αρχείου είναι ένας κόμβος, για να γίνεται η επεξεργασία, στην μέθοδο openFile(). Στην συνέχεια εκτυπώνεται το menu στο χρήστη με την μέθοδο menu() και καταγράφεται το input που θα πληκτρολογήσει. Μέσα σε μια while loop όπου γίνεται break μόνο όταν ο χρήστης επιλέξει να τερματήσει το πρόγραμμα εκτελείται η αντίστοιχη λειτουργικότητα με την χρήση if statement και εκτυπώνεται ξανά το μενού για νέα επιλογή. Για την κάθε λειτουργικότητα έχει υλοποιηθεί μια ξεχωριστή μέθοδος ώστε ο κώδικας να είναι ευανάγνωστος και για να διευκολύνουμε την διαδικασία του Profiling. \n",
        "\n",
        "-create_tweet(): Δημιουργείται στο τέλος της λίστας ένα νέο tweet μόνο με τα απαράιτητα πεδία text και created_at με το κείμενο του χρήστη και την αντίστοιχη ώρα. \n",
        "\n",
        "-read_teet(): Διαβάζεται το tweet στην γραμμή που δίνει ο χρήστης και ενημερώνεται το index για την νέα γραμμή όπου βρισκόμαστε στη λίστα με τα tweets.\n",
        "\n",
        "-update_tweet(): Σβήνεται το προηγούμενο tweet στην γραμμή όπου δίνει ο χρήστης και στην συνέχει ακολυθείται η ίδια διαδικασία με το create_tweet().\n",
        "\n",
        "-read_up_or_down(): Ανάλογα με την επιλογή του χρήστη για ανάγνωση του πάνω ή του κάτω απο το τρέχον tweet() εκτελείται η αντίστοιχη λειτουργία με την βοήθεια του index currentID. Γίνονται και έλεγχοι για το αν υπάρχει η πάνω ή η κάτω γραμμή και εκτυπώνονται τα αντίστοιχα μηνύματα.\n",
        "\n",
        "-save_file(): Ανοίγεται το αρχείο για write, επομένως σβήνονται τα προηγούμενα περιεχόμενα και φορτώνεται η λίστα με τα tweets."
      ]
    },
    {
      "cell_type": "markdown",
      "metadata": {
        "id": "zSIVg3GONOC3"
      },
      "source": [
        "# Logging Phase\n"
      ]
    },
    {
      "cell_type": "markdown",
      "metadata": {
        "id": "KrdWR5ouQ-yA"
      },
      "source": [
        "## ⏩ Κώδικας Logging Phase\n",
        "Γράψτε στο παρακάτω code cell όλο τον κώδικα που φτιάχνει το myeditorlog.conf αρχείο με το configuration (loggers, handlers, formatters) του logger σας.\n",
        "\n",
        "`format=%(asctime)s - %(name)s - %(levelname)s - %(message)s `"
      ]
    },
    {
      "cell_type": "code",
      "execution_count": null,
      "metadata": {
        "colab": {
          "base_uri": "https://localhost:8080/"
        },
        "id": "dXOnJXuGNP8_",
        "outputId": "eaafef9a-823a-47eb-ee51-2f303952b933"
      },
      "outputs": [
        {
          "name": "stdout",
          "output_type": "stream",
          "text": [
            "Overwriting myeditorlog.conf\n"
          ]
        }
      ],
      "source": [
        "%%file myeditorlog.conf\n",
        "[loggers]\n",
        "keys=root\n",
        "\n",
        "[logger_root]\n",
        "handlers=file\n",
        "level=NOTSET\n",
        "\n",
        "[formatters]\n",
        "keys=simple\n",
        "\n",
        "[formatter_simple]\n",
        "format=%(asctime)s - %(name)s - %(levelname)s - %(message)s\n",
        "\n",
        "[handlers]\n",
        "keys=file\n",
        "\n",
        "[handler_file]\n",
        "class=FileHandler\n",
        "interval=midnight\n",
        "backupCount=5\n",
        "formatter=simple\n",
        "level=DEBUG\n",
        "args=('logme.txt','w')"
      ]
    },
    {
      "cell_type": "markdown",
      "metadata": {
        "id": "YH8N2G7vRXfV"
      },
      "source": [
        "Γράψτε στο παρακάτω code cell τον κώδικα του Twitter Viewer & Editor όπως ήταν στο Developement phase ΑΛΛΑ εδώ θα έχει και εισαγωγή των κατάλληλων εντολών που δημιουργούν τα LogRecords ώστε αυτά να γράφονται σε ένα αρχείο logme.txt ."
      ]
    },
    {
      "cell_type": "code",
      "execution_count": null,
      "metadata": {
        "id": "LcGzJc8dRX3m"
      },
      "outputs": [],
      "source": [
        "from ast import Str\n",
        "import json\n",
        "import calendar\n",
        "from datetime import date, datetime\n",
        "\n",
        "import logging \n",
        "import logging.config\n",
        "\n",
        "logging.config.fileConfig(fname='myeditorlog.conf', disable_existing_loggers=False)\n",
        "logger = logging.getLogger(__name__)\n",
        "\n",
        "#Global variables\n",
        "currentID=-1\n",
        "filename = \"tweetdhead300000.json\"\n",
        "tweetList=[]\n",
        "\n",
        "# Open json File and create a data structure with tweets\n",
        "# Every line is a node of the list\n",
        "def openFile(): \n",
        "\n",
        "    try:\n",
        "        f=open(filename, \"r\")\n",
        "    except:\n",
        "        logging.error(\"Error : Json file does not exist\")\n",
        "        \n",
        "    else:\n",
        "        logging.info(\"Json opened succesfully\")    \n",
        "        for obj in f:\n",
        "            tweetDict=json.loads(obj)\n",
        "            res = {key: tweetDict[key] for key in tweetDict.keys() & {\"text\" , \"created_at\"}}\n",
        "            tweetList.append(res)\n",
        "    \n",
        "        logging.info(\"Json red succesfully\")\n",
        "        global currentID\n",
        "        currentID=0\n",
        "        f.close()\n",
        "               \n",
        "# Print user's options \n",
        "def menu():\n",
        "    print(\"==========TWITTER VIEWER & EDITOR MENU==========\")\n",
        "    print(\"[c] Create a new tweet\")\n",
        "    print(\"[r] Read the tweet at given line\")\n",
        "    print(\"[u] Update the tweet at given line\")\n",
        "    print(\"[d] Delete current tweet\")\n",
        "    print(\"[$] Read the last tweet in the file\")\n",
        "    print(\"[-] Read one tweet up from the current tweet\")\n",
        "    print(\"[+] Read one tweet down from your current tweet\")\n",
        "    print(\"[=] Print current tweet ID\")\n",
        "    print(\"[q] Quit without save\")\n",
        "    print(\"[w] Write file to disk\")\n",
        "    print(\"[x] Exit and save\\n\")\n",
        "#Create new tweet at the end of the list\n",
        "def createTweet(text):\n",
        "    d=date.today()\n",
        "    \n",
        "    day=calendar.day_name[d.weekday()]\n",
        "    month=calendar.month_name[d.month]\n",
        "    now = datetime.now()\n",
        "    tempDict={\"text\": text, \"created_at\" : day +\" \"+ month +\" \"+ str(d.day) +\" \"+ str(now.hour)+\":\"+str(now.minute)+\":\"+str(now.second) + \" \"+str(d.year) }\n",
        "    tweetList.append(tempDict)\n",
        "    logging.info(\"Tweet was created\")\n",
        "#Read given line tweet and update current line index\n",
        "def readTweet(line):\n",
        "    tweet=tweetList[line]\n",
        "    print(tweet[\"text\"]+'\\n')\n",
        "    global currentID\n",
        "    currentID=line\n",
        "\n",
        "#Update given line tweet and update current line index\n",
        "def updateTweet(text, line):\n",
        "    #Delete previous line for updating into new one\n",
        "    del tweetList[line]\n",
        "\n",
        "    d=date.today()\n",
        "    \n",
        "    day=calendar.day_name[d.weekday()]\n",
        "    month=calendar.month_name[d.month]\n",
        "    now = datetime.now()\n",
        "    tempDict={\"text\": text, \"created_at\" : day +\" \"+ month +\" \"+ str(d.day) +\" \"+ str(now.hour)+\":\"+str(now.minute)+\":\"+str(now.second) + \" \"+str(d.year) }\n",
        "    tweetList.insert(line, tempDict)\n",
        "    global currentID\n",
        "    currentID=line\n",
        "    logging.info(\"Tweet was updated\")\n",
        "#Read one line above or below depends on the functionality user picked\n",
        "#Check if is possible\n",
        "def readUpOrDown(op):\n",
        "    global currentID\n",
        "    if op =='up':\n",
        "        if currentID==0:\n",
        "            logging.exception(\"Exception : Index is at the first line cant read any line above\")\n",
        "        else:\n",
        "            print(tweetList[currentID][\"text\"])\n",
        "            currentID=currentID-1\n",
        "    else:\n",
        "        if currentID==len(tweetList)-1:\n",
        "            logging.exception(\"Exception : Index is at the last line cant read any line below\")\n",
        "        else:\n",
        "            print(tweetList[currentID][\"text\"])\n",
        "            currentID=currentID+1\n",
        "\n",
        "def saveFile():\n",
        "    with open(filename, \"w\") as outFile:\n",
        "        for object in tweetList:\n",
        "            json.dump(object,outFile)\n",
        "            outFile.write('\\n')      \n",
        "    outFile.close()\n",
        "################################################################################################\n",
        "openFile()\n",
        "\n",
        "while True :\n",
        "    menu()\n",
        "    option = input(\"Enter your option: \")\n",
        "    if option == 'c':\n",
        "        text=input(\"Enter text to create a new tweet: \")\n",
        "        createTweet(text)\n",
        "    elif option == 'r':\n",
        "        try:\n",
        "            line = int(input(\"Enter line for reading tweet: \"))\n",
        "        except ValueError:\n",
        "            logging.exception(\"Exception : Input for line is not an integer.\")\n",
        "            continue\n",
        "        else:\n",
        "             readTweet(line)\n",
        "             logging.info(\"Tweet at given line was read.\")\n",
        "    elif option == 'u':\n",
        "        try:\n",
        "            line = int(input(\"Enter line for updating tweet: \"))\n",
        "        except ValueError:\n",
        "            logging.exception(\"Exception : Input for line is not an integer.\")\n",
        "            continue\n",
        "        else:\n",
        "            text=input(\"Enter text to update tweet: \")\n",
        "            updateTweet(text,line)\n",
        "    elif option == 'd':\n",
        "        del tweetList[currentID]\n",
        "        logging.info(\"Tweet was deleted.\")\n",
        "    elif option == '$':\n",
        "        readTweet(len(tweetList)-1)\n",
        "        logging.info(\"Red last tweet in file.\")\n",
        "    elif option == '-':\n",
        "        logging.info(\"Reading one line above current tweet.\")\n",
        "        readUpOrDown('up')\n",
        "    elif option == '+':\n",
        "        logging.info(\"Reading one line below current tweet.\")\n",
        "        readUpOrDown('down')\n",
        "    elif option == '=':\n",
        "        print(\"Current Tweet ID: \"+ str(currentID))\n",
        "        logging.info(\"Printing current tweet id.\")\n",
        "    elif option == 'q':\n",
        "        logging.info(\"Terminating program.\")\n",
        "        break\n",
        "    elif option == 'w':\n",
        "        saveFile()\n",
        "        logging.info(\"Saving file.\")\n",
        "    elif option == 'x':\n",
        "        saveFile()\n",
        "        logging.info(\"Saving file.\")\n",
        "        break\n",
        "    else:\n",
        "        print(\"\\nInvalid option. Type again\\n\")\n",
        "print(\"\\nTerminating Program ...\")"
      ]
    },
    {
      "cell_type": "markdown",
      "metadata": {
        "id": "eeESdL8fREJG"
      },
      "source": [
        "## ⏩ Τεκμηρίωση και Σχολιασμός Κώδικα της Logging Phase\n",
        "Γράψτε στο παρακάτω text cell αναφορά που θα περιγράφετε τι κάνει ο κώδικας που αναπτύξατε στο Development Phase στο προηγούμενο code cell."
      ]
    },
    {
      "cell_type": "markdown",
      "metadata": {
        "id": "XcX8rP4yR4nf"
      },
      "source": [
        "Αρχικά συμβουλευτήκαμε τις διαφάνειες της αντίστοιχης διάλεξης, ώστε να γραφτεί ο κώδικας που θα φτιάχνει το το myeditorlog.conf αρχείο με το configuration του logger. Ορίστηκε και το κατάλληλο format που δίνεται στην εκφώνηση της εργασίας και έπειτα ενσωματώθηκαν οι αντίστοιχες εντολές μέσα στον κώδικα του development phase. Έγινε εισαγωγή της βιλιοθήκης logging ώστε να χρησιμοποιηθούν οι αντίστοιχες εντολές για εγγραφή στο αρχείο. Κυρίως χρησιμοποιήθηκε το logging.info() για να γραφτεί στο αρχείο η αντίστοιχη ενέργεια που επέλεξε ο χρήστης. Σε μερικές περιπτώσεις όπου υπάρχει Exception για την εισαγωγή λανθασμένης τιμής έπειτα από ελέγχο, γράφεται το exception μέσα στο αρχείο. Για παράδειγμα όταν αναμένεται integer για την γραμμή του tweet αλλά δεν δίνεται αριθμός. Με την κάθε εκκίνηση του προγράμματος το αρχείο πανωγράφεται και έτσι περιέχει τις ενέργειες, μόνο του τελευταίου χρήστη που το έτρεξε."
      ]
    },
    {
      "cell_type": "markdown",
      "metadata": {
        "id": "QKLO2ntPSaBY"
      },
      "source": [
        "# Profiling Phase"
      ]
    },
    {
      "cell_type": "markdown",
      "metadata": {
        "id": "iiiCDkQCSdBV"
      },
      "source": [
        "## ⏩ Κώδικας Profiling Phase"
      ]
    },
    {
      "cell_type": "code",
      "execution_count": null,
      "metadata": {
        "id": "cW7NYOAO4_hg"
      },
      "outputs": [],
      "source": [
        "pip install line_profiler"
      ]
    },
    {
      "cell_type": "code",
      "execution_count": null,
      "metadata": {
        "id": "Y7kQpwtQTFnS"
      },
      "outputs": [],
      "source": [
        "from ast import Str\n",
        "import json\n",
        "import calendar\n",
        "from datetime import date, datetime\n",
        "from line_profiler import LineProfiler\n",
        "\n",
        "#Global variables\n",
        "currentID=-1\n",
        "filename = \"tweetdhead300000.json\"\n",
        "tweetList=[]\n",
        "\n",
        "# Open json File and create a data structure with tweets\n",
        "# Every line is a node of the list\n",
        "def openFile(): \n",
        "    f=open(filename, \"r\") \n",
        "    for obj in f:\n",
        "        tweetDict=json.loads(obj)\n",
        "        res = {key: tweetDict[key] for key in tweetDict.keys() & {\"text\" , \"created_at\"}}\n",
        "        tweetList.append(res)\n",
        "    \n",
        "    global currentID\n",
        "    currentID=0\n",
        "    f.close()\n",
        "       \n",
        "def saveFile():\n",
        "    with open(filename, \"w\") as outFile:\n",
        "        for object in tweetList:\n",
        "            json.dump(object,outFile)\n",
        "            outFile.write('\\n')\n",
        "    \n",
        "    outFile.close()\n",
        "################################################################################################\n",
        "lp = LineProfiler()\n",
        "lp_wrapper = lp(openFile)\n",
        "lp_wrapper()\n",
        "\n",
        "lp_wrapper = lp(saveFile)\n",
        "lp_wrapper()\n",
        "lp.print_stats()"
      ]
    },
    {
      "cell_type": "code",
      "execution_count": null,
      "metadata": {
        "id": "2no9kpEmSbwG"
      },
      "outputs": [],
      "source": [
        "\n",
        "from ast import Str\n",
        "import json\n",
        "import calendar\n",
        "from datetime import date, datetime\n",
        "import cProfile\n",
        "\n",
        "#Global variables\n",
        "currentID=-1\n",
        "filename = \"tweetdhead300000.json\"\n",
        "tweetList=[]\n",
        "\n",
        "# Open json File and create a data structure with tweets\n",
        "# Every line is a node of the list\n",
        "def openFile(): \n",
        "    f=open(filename, \"r\") \n",
        "    for obj in f:\n",
        "        tweetDict=json.loads(obj)\n",
        "        res = {key: tweetDict[key] for key in tweetDict.keys() & {\"text\" , \"created_at\"}}\n",
        "        tweetList.append(res)\n",
        "    global currentID\n",
        "    currentID=0\n",
        "    f.close()\n",
        "    \n",
        "def saveFile():\n",
        "    with open(filename, \"w\") as outFile:\n",
        "        for object in tweetList:\n",
        "            json.dump(object,outFile)\n",
        "            outFile.write('\\n')\n",
        "    \n",
        "    outFile.close()\n",
        "################################################################################################\n",
        "\n",
        "cProfile.run(\"openFile()\") # the function/program itself is a STRING parameter in cProfile.run\n",
        "\n",
        "cProfile.run(\"saveFile()\")\n"
      ]
    },
    {
      "cell_type": "code",
      "execution_count": null,
      "metadata": {
        "id": "ZPA6tcbM2t3j"
      },
      "outputs": [],
      "source": [
        "!pip install memory-profiler requests"
      ]
    },
    {
      "cell_type": "code",
      "execution_count": null,
      "metadata": {
        "colab": {
          "base_uri": "https://localhost:8080/"
        },
        "id": "9m4pciAtTF8M",
        "outputId": "c1e45fbd-23c6-46d4-a724-8a0b40fa3480"
      },
      "outputs": [
        {
          "name": "stdout",
          "output_type": "stream",
          "text": [
            "Overwriting mprun_demo.py\n"
          ]
        }
      ],
      "source": [
        "%%file mprun_demo.py\n",
        "from ast import Str\n",
        "import json\n",
        "import calendar\n",
        "from datetime import date, datetime\n",
        "from memory_profiler import profile\n",
        "\n",
        "#Global variables\n",
        "currentID=-1\n",
        "filename = \"tweetdhead300000.json\"\n",
        "tweetList=[]\n",
        "\n",
        "# Open json File and create a data structure with tweets\n",
        "# Every line is a node of the list\n",
        "@profile\n",
        "def openFile(): \n",
        "    f=open(filename, \"r\")\n",
        "    for obj in f:\n",
        "        tweetDict=json.loads(obj)\n",
        "        res = {key: tweetDict[key] for key in tweetDict.keys() & {\"text\" , \"created_at\"}}\n",
        "        tweetList.append(res)\n",
        "   \n",
        "    global currentID\n",
        "    currentID=0\n",
        "    f.close()\n",
        "\n",
        "@profile\n",
        "def saveFile():\n",
        "    with open(filename, \"w\") as outFile:\n",
        "        for object in tweetList:\n",
        "            json.dump(object,outFile)\n",
        "            outFile.write('\\n')\n",
        "    outFile.close()\n",
        "################################################################################################\n",
        "openFile()\n",
        "\n",
        "saveFile()"
      ]
    },
    {
      "cell_type": "code",
      "execution_count": null,
      "metadata": {
        "id": "BHZsTwPWtjSH"
      },
      "outputs": [],
      "source": [
        "!python -m memory_profiler mprun_demo.py"
      ]
    },
    {
      "cell_type": "markdown",
      "metadata": {
        "id": "CfklDBl1UlhL"
      },
      "source": [
        "## ⏩ Τεκμηρίωση και Σχολιασμός Κώδικα της Profiling Phase\n",
        "Γράψτε στο παρακάτω text cell αναφορά που θα περιγράφετε τι κάνει ο κώδικας που αναπτύξατε στο Profiling Phase στα προηγούμενα code cell και **αναφέρατε τα συμπεράσματά σας για το που πρέπει να επικεντρωθεί το refactoring της επόμενης φάσης**."
      ]
    },
    {
      "cell_type": "markdown",
      "metadata": {
        "id": "wdq1rNhuU7f0"
      },
      "source": [
        "Από την αρχή υπήρχε μια υπόθεση για τα σημεία αδυναμίας του προγράμματος, τα οποία είναι κατά το άνοιγμα και φόρτωμα του αρχείου σε dictionary για την επεξεργασία και στο σώσιμο του αρχείου. Οι υπόλοιπες ενέργειες γίνονται πάνω στο dictionary και ο αριθμός των επαναλήψεών τους είναι πολύ μικρότερος από τις λειτουργίες που αναφέρθηκαν παραπάνω, αλλά και οι πράξεις μικρότερης πολυπλοκότητας. Για να επαληθευτούν οι υποθέσεις μας χρησιμοπιήθηκαν οι line profiler, cProfiler και memory profiler, όπως αυτά παρουσιάστηκαν στο μάθημα. Όπως αναφέρθηκε εστιάζουμε στις μεθόδους open_file() και save_file(). \n",
        "\n",
        "-Line profiler: Στη στήλη hits παρατηρείται πόσες φορές εκτελέστηκε μια εντολή και τα αποτελέσματα είναι τα αναμενόμενα μέσα στην for loop που εκτελείται για κάθε γραμμή του json file. Στο πεδίο time έχουμε τον συνολικό χρόνο που ξοδεύτηκε για την εκτέλεση μιας εντολής και στο per hit έναν μέσο όρο του χρόνου που δαπανήθηκε για την κάθε μια εκτέλση της εκάστοτε εντολής. Ο χρόνος είναι σε microseconds. Εδώ παρατηρούμε ποια γραμμή της μεθόδου κοστιζει τον πιο πολύ χρόνο και θα είναι στόχος του optimization. Τέλος διακρίνουμε ένα ποσοστό χρόνου που κόστισε κάθε γραμμή από τον συνολικό χρόνο.\n",
        "\n",
        "-C profiler: Μετρώντας ξανά τον χρόνο εκτέλεσης του προγράμματος, ο c profiler δίνει πληροφορίες και για τον αριθμό κλήσεις των συναρτήσεων. Στο πεδίο tottime έχουμε τον συνολικό χρόνο που ξοδεύτηκε χωρίς τον χρόνο που ξοδεύτηκε σε κλήση υποσυναρτήσεων. Το percall είναι το tottime/ncalls. Στο cumtime έχουμε τον συνολικό χρόνο που ξοδεύτηκε στην συνάρτηση αλλά και στις υποσυναρτήσεις. Παρατηρούμε και πάλι ποιά κληση είναι αυτή που καταναλώνει τον μεγαλύτερο χρόνο.\n",
        "\n",
        "-Memory profiler: Γίνεται η χρήση του για να δούμε πόση μνήνη κοστίζει η κάθε πράξη. Στο πεδίο Mem usage καταγράφεται η χρήση μνήμης του διερμηνέα της Python μετά την εκτέλεση της εκάστοτε γραμμής. Στο Increment παρατηρείται η διαφορά στην κατανάλωση μνήμης της εκάστοτε γραμμής από την προηγούμενη. Επομένως διακρίνουμε ποια σημεία κοστίζουν περισσότερη μνήμη από τα υπόλοιπα.\n",
        "\n",
        "Αφού καταγραφούν τα αποτελέσματα του κάθε profiler μπορούμε να διακρίνουμε τα πιο \"ακριβά\" κομμάτια του κώδικα μας από άποψη χρόνου και μνήμης. Παρατηρούμε ότι στο open_file() αυτό είναι το loads() όπου φορτώνουμε τα tweet καθώς καταναλώνει το 63.4% του συνολικού χρόνου, αλλά και όπως είναι αναμενόμενο παρατηρείται η αύξηση στη χρήση μνήμης. Έπειτα στο save_file, η μέθοδος dump() όπου γράφει τα objects στο Json αρχείο καταναλώνει το 97% του συνολικού χρόνου. Επιπλέον παρατηρείται η μεγάλη κατανάλωση μνήμης όταν από κάθε dictionary παίρνουμε μόνο τα 2 πεδία που μας ενδιαφέρουν για να φτιάξουμε ένα νέο μόνο με αυτά.\n",
        "\n",
        "Επομένως στο refactoring θα επικεντρωθούμε στην βελτιστοποίηση των παραπάνω κομματιών κώδικα που αναφέρθηκαν."
      ]
    },
    {
      "cell_type": "markdown",
      "metadata": {
        "id": "sxoBBAUmWMrV"
      },
      "source": [
        "# Refactoring Phase"
      ]
    },
    {
      "cell_type": "markdown",
      "metadata": {
        "id": "2EcleZa7WPsX"
      },
      "source": [
        "## ⏩ Κώδικας Refactoring Phase"
      ]
    },
    {
      "cell_type": "code",
      "execution_count": 42,
      "metadata": {
        "colab": {
          "base_uri": "https://localhost:8080/"
        },
        "id": "mDAkWcgUU_E5",
        "outputId": "11be2b87-1cd5-4ea0-9e47-554ded542cf6"
      },
      "outputs": [
        {
          "name": "stdout",
          "output_type": "stream",
          "text": [
            "Overwriting refactored.py\n"
          ]
        }
      ],
      "source": [
        "%%file refactored.py\n",
        "import sys\n",
        "from ast import Str\n",
        "import json\n",
        "import calendar\n",
        "from datetime import date, datetime\n",
        "\n",
        "\"\"\"GLobal Variables Declaration\"\"\"\n",
        "global CURRENT_ID\n",
        "FILENAME = \"tweetdhead300000.json\"\n",
        "TWEET_LIST = []\n",
        "\n",
        "\"\"\"Open json File and create a data structure with tweets\"\"\"\n",
        "def open_file(): \n",
        "    TWEET_LIST.clear()\n",
        "    with open(FILENAME, \"r\") as f:\n",
        "        \"\"\" Every line is a node of the list\"\"\"\n",
        "        for obj in f:  \n",
        "            tweetDict=json.loads(obj)\n",
        "            TWEET_LIST.append(tweetDict)\n",
        "    \n",
        "    global CURRENT_ID\n",
        "    CURRENT_ID=0\n",
        "    f.close()\n",
        "     \n",
        "\"\"\"Print user's options \"\"\"\n",
        "def menu():\n",
        "    print(\"==========TWITTER VIEWER & EDITOR MENU==========\")\n",
        "    print(\"[c] Create a new tweet\")\n",
        "    print(\"[r] Read the tweet at given line\")\n",
        "    print(\"[u] Update the tweet at given line\")\n",
        "    print(\"[d] Delete current tweet\")\n",
        "    print(\"[$] Read the last tweet in the file\")\n",
        "    print(\"[-] Read one tweet up from the current tweet\")\n",
        "    print(\"[+] Read one tweet down from your current tweet\")\n",
        "    print(\"[=] Print current tweet ID\")\n",
        "    print(\"[q] Quit without save\")\n",
        "    print(\"[w] Write file to disk\")\n",
        "    print(\"[x] Exit and save\\n\")\n",
        "\n",
        "\"\"\"Create new tweet at the end of the list\"\"\"\n",
        "def create_tweet(text):\n",
        "    \n",
        "    TWEET_LIST.append(create_tweet_template(text))\n",
        "    print(\"Tweet was created.\\n\")\n",
        "\n",
        "\"\"\"Read given line tweet and update current line index\"\"\"\n",
        "def read_tweet(line):\n",
        "    tweet = TWEET_LIST[line]\n",
        "    print(tweet[\"text\"]+'\\n')\n",
        "    global CURRENT_ID\n",
        "    CURRENT_ID = line\n",
        "    return tweet[\"text\"]\n",
        "\n",
        "\"\"\"Update given line tweet and update current line index\"\"\"\n",
        "def update_tweet(text, line):\n",
        "    \"\"\"Delete previous line for updating into new one\"\"\"\n",
        "    del TWEET_LIST[line]\n",
        "\n",
        "    TWEET_LIST.insert(line, create_tweet_template(text))\n",
        "    global CURRENT_ID\n",
        "    CURRENT_ID = line\n",
        "    print(\"Tweet was updated\\n\")\n",
        "\n",
        "\"\"\"Read one line above or below depends on the functionality user picked\"\"\"\n",
        "def read_up_or_down(op):\n",
        "    global CURRENT_ID\n",
        "    \"\"\"Check if is possible\"\"\"\n",
        "    if op == 'up':\n",
        "        if CURRENT_ID == 0:\n",
        "            print(\"Index is at the first line cant read any line above than this\\n\")\n",
        "            return -1\n",
        "        else:\n",
        "            CURRENT_ID -= 1\n",
        "            print(TWEET_LIST[CURRENT_ID][\"text\"])\n",
        "            return TWEET_LIST[CURRENT_ID][\"text\"]\n",
        "            \n",
        "    else:\n",
        "        if CURRENT_ID==len(TWEET_LIST)-1:\n",
        "            print(\"Index is at the last line cant read any line below than this\\n\")\n",
        "            return -1\n",
        "        else:\n",
        "            CURRENT_ID += 1\n",
        "            print(TWEET_LIST[CURRENT_ID][\"text\"])\n",
        "            return TWEET_LIST[CURRENT_ID][\"text\"]\n",
        "\"\"\" Delete tweet at cuttent id \"\"\"\n",
        "def delete_tweet():\n",
        "    del TWEET_LIST[CURRENT_ID]\n",
        "    print(\"Tweet was deleted\\n\")\n",
        "\n",
        "\"\"\"Overwrite tweets file\"\"\" \n",
        "def save_file():\n",
        "    with open(FILENAME, \"w\") as outFile:\n",
        "      for object in TWEET_LIST :\n",
        "        json.dump(object,outFile)\n",
        "        outFile.write('\\n')\n",
        "    outFile.close()\n",
        "    print(\"Saving file.\\n\")\n",
        "\n",
        "\"\"\"Create a new tweet as a dictionary object\"\"\"\n",
        "def create_tweet_template(text):\n",
        "    d = date.today()\n",
        "    day = calendar.day_name[d.weekday()]\n",
        "    month = calendar.month_name[d.month]\n",
        "    now = datetime.now()\n",
        "    tempDict = {\"text\": text, \"created_at\" : (f\"{day} {month} {d.day} {now.hour}:{now.minute}:{now.second} {d.year}\") }\n",
        "    return tempDict\n",
        "\n",
        "\"\"\"Get user's input for a specific tweet line\"\"\"\n",
        "def check_line_number():\n",
        "    while True  :\n",
        "      try:\n",
        "        line = int(input(\"Enter line of tweet: \"))\n",
        "        if not -1<line<len(TWEET_LIST):\n",
        "           raise ValueError\n",
        "      except ValueError:\n",
        "        print(\"Invalid number. Enter again\")\n",
        "        continue\n",
        "      else:\n",
        "        break\n",
        "    return line\n",
        "\n",
        "def main(): \n",
        "    open_file()\n",
        "\n",
        "    while True :\n",
        "        menu()\n",
        "        option = input(\"Enter your option: \")\n",
        "\n",
        "        if option == 'x':\n",
        "          save_file()\n",
        "          break\n",
        "        if option == 'q' :\n",
        "          break\n",
        "        elif option == 'c':\n",
        "          text = input(\"Enter text to create a new tweet: \")\n",
        "          create_tweet(text)\n",
        "          print(\"Tweet was created\\n\")\n",
        "        elif option == 'r':\n",
        "            read_tweet(check_line_number())\n",
        "        elif option == 'u':\n",
        "            text = input(\"Enter text to update tweet: \")\n",
        "            update_tweet(text, check_line_number())\n",
        "        elif option == 'd':\n",
        "          delete_tweet()\n",
        "        elif option == '$':\n",
        "          read_tweet(len(TWEET_LIST)-1)\n",
        "        elif option == '-':\n",
        "          read_up_or_down('up')\n",
        "        elif option == '+':\n",
        "          read_up_or_down('down')\n",
        "        elif option == '=':\n",
        "          print(f\"Current Tweet ID: {CURRENT_ID} \")\n",
        "        elif option == 'w':\n",
        "          save_file()\n",
        "        else:\n",
        "          print (\"\\nInvalid option. Type again.\\n\")\n",
        "\n",
        "    print(\"\\nTerminating Program ...\")\n",
        "\n",
        "\n",
        "if __name__ == \"__main__\":\n",
        "    sys.exit(main())"
      ]
    },
    {
      "cell_type": "markdown",
      "metadata": {
        "id": "3iZx1lLPXpAZ"
      },
      "source": [
        "## ⏩ Τεκμηρίωση και Σχολιασμός Κώδικα της Refactoring Phase"
      ]
    },
    {
      "cell_type": "markdown",
      "metadata": {
        "id": "uTw8kUm9XuP-"
      },
      "source": [
        "Γράψτε στο παρακάτω text cell αναφορά που θα περιγράφετε τι κάνει ο κώδικας που αναπτύξατε στο Refactoring Phase και πως άλλαξε ώστε να γίνει πιο γρήγορος ή ώστε να καταναλώνει λιγότερη μνήμη με βάση τα συμπεράσματα της Profling Phase."
      ]
    },
    {
      "cell_type": "markdown",
      "metadata": {
        "id": "0l0t64RRX9p7"
      },
      "source": [
        "Για το Refactoring συμβουλευτήκαμε τις αρχές της Idomatic Python που παραουσίαζονται στην αντίστοιχη διάλεξη για refactoring αλλά και τα αποτελέσματα του profiling ώστε να γίνει ο κώδικας ταχύτερος. Αρχικά έγινε κατάλληλη ονομασία των μεθόδων και των μεταβλητών σύμφωνα με τον προβλεπόμενο τρόπο και όχι όπως συνηθίζεται στην Java. Στην συνέχεια διορθώθηκαν τα σχόλια και προστέθηκε η main(). Έπειτα, έγινε το άνοιγμα του json αρχείου με τα twees με την εντολή with αντί της open που χρησιμοποιήθηκε στο Development Phase ώστε να μην φορτώνεται όλο το αρχείο απο την αρχή αλλά όταν το χρειαζόμαστε. Επομένως αναμένεται ταχύτερος χρόνος εκτέλεσης της open_file(). Είναι σημαντικό να τονιστεί πως όπου εντοπίστηκαν ίδια κομμάτια κώδικα που εκτελούνται πολλές φορές σβήστηκαν και έγιναν ένα. Για παράδειγμα οι μέθοδοι create_tweet και update_tweet εκτελούσαν ξεχωριστά ένα ίδιο κομμάτι κώδικα το οποίο ενσωματώθηκε σε μια νέα μέθοδο.Ακόμη σε διάφορα σημεία του κώδικα προστέθηκαν έλεγχοι στις τιμές που δίνει ο χρήστης για να μην \"σκάει το πρόγραμμα\". Επιπλέον εάν δουλεύαμε με νεότερη έκδοση Python αντι αυτής του collab θα μας επετρεπόταν να αντικαταστήσουμε το if statement για την εκτέλεση της λειτουργίας που επέλεξε ο χρήστης σε switch case το οποίο είναι πιο αποδοτικό απο τα πολλαπλά if-else. Αν αυτού απλώς μεταφέρουμε στην πιο υψηλή θέση εντολές που εκτελούνται πιο συχνά όπως το 'q' η 'x' για να εκτελούνται λιγότεροι έλεγχοι. Έπειτα από την παρατήρηση των αποτελεσμάτων του profiling στην open file σβήστηκε η γραμμή που κατανάλωνε την περισσότερη μνήμη, η οποία εξήγαγε μόνο τα 2 πεδία που μας ενδιαφέρουν. Οι πράξεις που κάνει ο χρήστης δεν απαιτούν το dictionary μας να έχει μονο 2 keys επομένως δεν χρειάζεται αυτή η περεταίρω επεξεργασία."
      ]
    },
    {
      "cell_type": "markdown",
      "metadata": {
        "id": "sgWKMNX4YP5U"
      },
      "source": [
        "# Unit Testing Phase"
      ]
    },
    {
      "cell_type": "markdown",
      "metadata": {
        "id": "G-pGKOzpYWeq"
      },
      "source": [
        "## ⏩ Κώδικας Unit Testing Phase"
      ]
    },
    {
      "cell_type": "code",
      "execution_count": null,
      "metadata": {
        "colab": {
          "base_uri": "https://localhost:8080/",
          "height": 260
        },
        "id": "GrLYSGEx7CtZ",
        "outputId": "77803488-cb7e-49e7-ad4f-1a11df644f22"
      },
      "outputs": [],
      "source": [
        "!pip install unittest2"
      ]
    },
    {
      "cell_type": "code",
      "execution_count": 43,
      "metadata": {
        "colab": {
          "base_uri": "https://localhost:8080/"
        },
        "id": "EntP6-JSYSRP",
        "outputId": "5a8b12ff-bf94-473f-9ec8-d5158bd8d0ec"
      },
      "outputs": [
        {
          "name": "stdout",
          "output_type": "stream",
          "text": [
            "Overwriting test_tweeter.py\n"
          ]
        }
      ],
      "source": [
        "%%file test_tweeter.py\n",
        "import unittest\n",
        "import refactored\n",
        "\n",
        "\"\"\"The tests were created based on the original tweethead300000.json and do not alter it thoughout the tests\"\"\"\n",
        "class Test_twitter(unittest.TestCase):\n",
        "\n",
        "    def test_open(self):\n",
        "        refactored.open_file()\n",
        "\n",
        "    def test_read_last(self):\n",
        "        refactored.open_file()\n",
        "        self.assertEqual(refactored.read_tweet(len(refactored.TWEET_LIST) -1), \"RT @ShitNobodySays: I'm voting Obama in 2012!\")  \n",
        "\n",
        "    def test_create(self):\n",
        "        refactored.create_tweet(\"abc\")\n",
        "        self.assertEqual(refactored.read_tweet(len(refactored.TWEET_LIST) -1), \"abc\")\n",
        "\n",
        "    def test_read(self):\n",
        "        refactored.open_file()\n",
        "        self.assertEqual(refactored.read_tweet(0),\"If mitt romney say he gunna legalize weed then obama is fucked\")\n",
        "       \n",
        "    def test_delete(self):\n",
        "        refactored.open_file()\n",
        "        beforelast = refactored.read_tweet(len(refactored.TWEET_LIST) -2)\n",
        "        last = refactored.read_tweet(len(refactored.TWEET_LIST) -1)\n",
        "        refactored.delete_tweet()\n",
        "        print(len(refactored.TWEET_LIST))\n",
        "        self.assertEqual(refactored.read_tweet(len(refactored.TWEET_LIST) -1), beforelast)\n",
        "\n",
        "    def test_delete_save_read_last(self):\n",
        "        refactored.open_file()\n",
        "        temp2 = refactored.read_tweet(len(refactored.TWEET_LIST) -2)\n",
        "        temp1 = refactored.read_tweet(len(refactored.TWEET_LIST) -1)\n",
        "        refactored.delete_tweet()\n",
        "        refactored.save_file()\n",
        "        refactored.open_file()\n",
        "        self.assertEqual(refactored.read_tweet(len(refactored.TWEET_LIST)-1),temp2 )\n",
        "        refactored.create_tweet(temp1)\n",
        "        self.assertEqual(refactored.read_tweet(len(refactored.TWEET_LIST)-1), temp1)\n",
        "        refactored.save_file()\n",
        "\n",
        "    def test_read_up_down(self):\n",
        "        refactored.open_file()\n",
        "        refactored.read_tweet(0)   \n",
        "        self.assertEqual(refactored.read_up_or_down('down'),\"@SuePalmers As a youth who has lived abroad, I share the President's feelings. It changes how you view foreign relations quite a bit.\")\n",
        "        self.assertEqual(refactored.read_up_or_down('up'),\"If mitt romney say he gunna legalize weed then obama is fucked\")    \n",
        "        self.assertEqual(refactored.read_up_or_down('up'),-1)\n",
        "        refactored.read_tweet(len(refactored.TWEET_LIST) -1)   \n",
        "        self.assertEqual(refactored.read_up_or_down('down'),-1)\n",
        "\n",
        "    def test_update(self):\n",
        "        refactored.open_file()\n",
        "        refactored.update_tweet(\"abcd\",5)\n",
        "        self.assertEqual(refactored.read_tweet(5), \"abcd\")\n",
        "\n",
        "    def test_save(self):\n",
        "        refactored.open_file()\n",
        "        temp = refactored.read_tweet(5)\n",
        "        refactored.update_tweet(\"abcd\",5)\n",
        "        refactored.save_file()\n",
        "        refactored.open_file()\n",
        "        self.assertEqual(refactored.read_tweet(5), \"abcd\")\n",
        "        refactored.update_tweet(temp,5)\n",
        "        refactored.save_file()\n",
        "        refactored.open_file()\n",
        "        self.assertEqual(refactored.read_tweet(5), temp)\n",
        "\n",
        "    \n",
        "\n",
        "# To be able to run the code under the unittest module we have to add the following\n",
        "if __name__ == '__main__':\n",
        "    unittest.main()"
      ]
    },
    {
      "cell_type": "code",
      "execution_count": null,
      "metadata": {
        "colab": {
          "base_uri": "https://localhost:8080/"
        },
        "id": "xdcOanbc7K1R",
        "outputId": "14298792-45e6-40e7-f872-c65292df2d5e"
      },
      "outputs": [],
      "source": [
        "!python test_tweeter.py"
      ]
    },
    {
      "cell_type": "markdown",
      "metadata": {
        "id": "bWTtvB2vZGX6"
      },
      "source": [
        "## ⏩ Τεκμηρίωση και Σχολιασμός Κώδικα της Unit Testing Phase"
      ]
    },
    {
      "cell_type": "markdown",
      "metadata": {
        "id": "BfoDkyXtZK9Z"
      },
      "source": [
        "Γράψτε στο παρακάτω text cell αναφορά που θα περιγράφετε τι κάνει ο κώδικας που αναπτύξατε στο Unit Testing Phase και περιγράψτε τη λογική βάσει της οποίας στήσατε τα assertions των test σας."
      ]
    },
    {
      "cell_type": "markdown",
      "metadata": {
        "id": "Z3aYzmrnZYD6"
      },
      "source": [
        "Επαλαθεύτηκε η ορθή λειτουργία της κάθε εντολής που μπορεί να τρέξει ο χρήστης. Με την χρήση της assertEqual() συγκρίναμε τα αποτελέσματα που προκύπτουν με αυτά που αναμένονται μετά από την εκτέλεση της εντολής. Αρχικά επαληθεύεται η λειτουργία για την ανάγνωση μιας τυχαίας γραμμής καθώς και το άνοιγμα του αρχείου το οποίο προηγείται. Στην συνέχεια γίνεται ανάγνωση του τελευταίου tweet. Αφού επαληθευτεί, διαγράφεται το τελευταίο tweet, σώζεται το αρχείο και εκτελείται ξανά η ανάγνωση του τελευταίου tweet. Αναμένεται να διαβάσουμε το πρότελευταίο του αρχικού αρχείου που τώρα είναι το νέο αρχικό. Έπειτα ελέγχεται η λειτουργικότητα για την ανάγνωση του πάνω ή του κάτω tweet από το τρέχον tweet. Ελέγχονται ακόμη και οι οριακές περιστάσεις όπου δεν υπάρχει απο πάνω ή κάτω γραμμή για ανάγνωση. Έπειτα επαληθέυεται η λειτουργία της δημιουργίας ενός tweet το οποίο γίνεται append στο τέλος της λίστας, καθώς και η ενημέρωση ενός tweet ελέγχοντας αν το πεδίο text είναι όμοιο με το text που δώθηκε απο το χρήστη. Τέλος εξετάζεται το save του αρχείου, κάνοντας update ένα tweet και κλείνοντας το αρχείο μετά απο save. Έπειτα ανοίγεται ξανά το αρχείο και διαβάζοντας στη συγκεκριμένη γραμμή αναμένεται να αναγνωστεί το updated text."
      ]
    }
  ],
  "metadata": {
    "colab": {
      "collapsed_sections": [
        "TGlj09GUEvn7",
        "wyNN43emEKeV",
        "EhEyoExNwMIH",
        "WT6ll8MEMU3v",
        "vyOE0mjQMXxK",
        "gUUfBavZMr9i",
        "zSIVg3GONOC3",
        "KrdWR5ouQ-yA",
        "eeESdL8fREJG",
        "QKLO2ntPSaBY",
        "iiiCDkQCSdBV",
        "CfklDBl1UlhL",
        "3iZx1lLPXpAZ",
        "bWTtvB2vZGX6"
      ],
      "provenance": []
    },
    "kernelspec": {
      "display_name": "Python 3.10.2 64-bit",
      "language": "python",
      "name": "python3"
    },
    "language_info": {
      "codemirror_mode": {
        "name": "ipython",
        "version": 3
      },
      "file_extension": ".py",
      "mimetype": "text/x-python",
      "name": "python",
      "nbconvert_exporter": "python",
      "pygments_lexer": "ipython3",
      "version": "3.10.2"
    },
    "vscode": {
      "interpreter": {
        "hash": "4d8c6c35d3afcc305da65ae6df222bcd67612db69421bacf9116a90b6fcc5a03"
      }
    }
  },
  "nbformat": 4,
  "nbformat_minor": 0
}
